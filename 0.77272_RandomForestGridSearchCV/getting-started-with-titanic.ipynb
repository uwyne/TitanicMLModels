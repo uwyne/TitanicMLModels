{
 "cells": [
  {
   "cell_type": "code",
   "execution_count": 1,
   "id": "49a2b345",
   "metadata": {
    "_cell_guid": "b1076dfc-b9ad-4769-8c92-a6c4dae69d19",
    "_uuid": "8f2839f25d086af736a60e9eeb907d3b93b6e0e5",
    "execution": {
     "iopub.execute_input": "2024-03-09T06:04:04.618312Z",
     "iopub.status.busy": "2024-03-09T06:04:04.617903Z",
     "iopub.status.idle": "2024-03-09T06:04:05.580665Z",
     "shell.execute_reply": "2024-03-09T06:04:05.579093Z"
    },
    "papermill": {
     "duration": 0.979977,
     "end_time": "2024-03-09T06:04:05.583508",
     "exception": false,
     "start_time": "2024-03-09T06:04:04.603531",
     "status": "completed"
    },
    "tags": []
   },
   "outputs": [
    {
     "name": "stdout",
     "output_type": "stream",
     "text": [
      "/kaggle/input/titanic/train.csv\n",
      "/kaggle/input/titanic/test.csv\n",
      "/kaggle/input/titanic/gender_submission.csv\n"
     ]
    }
   ],
   "source": [
    "# This Python 3 environment comes with many helpful analytics libraries installed\n",
    "# It is defined by the kaggle/python Docker image: https://github.com/kaggle/docker-python\n",
    "# For example, here's several helpful packages to load\n",
    "\n",
    "import numpy as np # linear algebra\n",
    "import pandas as pd # data processing, CSV file I/O (e.g. pd.read_csv)\n",
    "\n",
    "# Input data files are available in the read-only \"../input/\" directory\n",
    "# For example, running this (by clicking run or pressing Shift+Enter) will list all files under the input directory\n",
    "\n",
    "import os\n",
    "for dirname, _, filenames in os.walk('/kaggle/input'):\n",
    "    for filename in filenames:\n",
    "        print(os.path.join(dirname, filename))\n",
    "\n",
    "# You can write up to 20GB to the current directory (/kaggle/working/) that gets preserved as output when you create a version using \"Save & Run All\" \n",
    "# You can also write temporary files to /kaggle/temp/, but they won't be saved outside of the current session"
   ]
  },
  {
   "cell_type": "code",
   "execution_count": 2,
   "id": "83b7a841",
   "metadata": {
    "execution": {
     "iopub.execute_input": "2024-03-09T06:04:05.604191Z",
     "iopub.status.busy": "2024-03-09T06:04:05.603656Z",
     "iopub.status.idle": "2024-03-09T06:04:05.645310Z",
     "shell.execute_reply": "2024-03-09T06:04:05.644115Z"
    },
    "papermill": {
     "duration": 0.054945,
     "end_time": "2024-03-09T06:04:05.647921",
     "exception": false,
     "start_time": "2024-03-09T06:04:05.592976",
     "status": "completed"
    },
    "tags": []
   },
   "outputs": [
    {
     "data": {
      "text/html": [
       "<div>\n",
       "<style scoped>\n",
       "    .dataframe tbody tr th:only-of-type {\n",
       "        vertical-align: middle;\n",
       "    }\n",
       "\n",
       "    .dataframe tbody tr th {\n",
       "        vertical-align: top;\n",
       "    }\n",
       "\n",
       "    .dataframe thead th {\n",
       "        text-align: right;\n",
       "    }\n",
       "</style>\n",
       "<table border=\"1\" class=\"dataframe\">\n",
       "  <thead>\n",
       "    <tr style=\"text-align: right;\">\n",
       "      <th></th>\n",
       "      <th>PassengerId</th>\n",
       "      <th>Survived</th>\n",
       "      <th>Pclass</th>\n",
       "      <th>Name</th>\n",
       "      <th>Sex</th>\n",
       "      <th>Age</th>\n",
       "      <th>SibSp</th>\n",
       "      <th>Parch</th>\n",
       "      <th>Ticket</th>\n",
       "      <th>Fare</th>\n",
       "      <th>Cabin</th>\n",
       "      <th>Embarked</th>\n",
       "    </tr>\n",
       "  </thead>\n",
       "  <tbody>\n",
       "    <tr>\n",
       "      <th>0</th>\n",
       "      <td>1</td>\n",
       "      <td>0</td>\n",
       "      <td>3</td>\n",
       "      <td>Braund, Mr. Owen Harris</td>\n",
       "      <td>male</td>\n",
       "      <td>22.0</td>\n",
       "      <td>1</td>\n",
       "      <td>0</td>\n",
       "      <td>A/5 21171</td>\n",
       "      <td>7.2500</td>\n",
       "      <td>NaN</td>\n",
       "      <td>S</td>\n",
       "    </tr>\n",
       "    <tr>\n",
       "      <th>1</th>\n",
       "      <td>2</td>\n",
       "      <td>1</td>\n",
       "      <td>1</td>\n",
       "      <td>Cumings, Mrs. John Bradley (Florence Briggs Th...</td>\n",
       "      <td>female</td>\n",
       "      <td>38.0</td>\n",
       "      <td>1</td>\n",
       "      <td>0</td>\n",
       "      <td>PC 17599</td>\n",
       "      <td>71.2833</td>\n",
       "      <td>C85</td>\n",
       "      <td>C</td>\n",
       "    </tr>\n",
       "    <tr>\n",
       "      <th>2</th>\n",
       "      <td>3</td>\n",
       "      <td>1</td>\n",
       "      <td>3</td>\n",
       "      <td>Heikkinen, Miss. Laina</td>\n",
       "      <td>female</td>\n",
       "      <td>26.0</td>\n",
       "      <td>0</td>\n",
       "      <td>0</td>\n",
       "      <td>STON/O2. 3101282</td>\n",
       "      <td>7.9250</td>\n",
       "      <td>NaN</td>\n",
       "      <td>S</td>\n",
       "    </tr>\n",
       "    <tr>\n",
       "      <th>3</th>\n",
       "      <td>4</td>\n",
       "      <td>1</td>\n",
       "      <td>1</td>\n",
       "      <td>Futrelle, Mrs. Jacques Heath (Lily May Peel)</td>\n",
       "      <td>female</td>\n",
       "      <td>35.0</td>\n",
       "      <td>1</td>\n",
       "      <td>0</td>\n",
       "      <td>113803</td>\n",
       "      <td>53.1000</td>\n",
       "      <td>C123</td>\n",
       "      <td>S</td>\n",
       "    </tr>\n",
       "    <tr>\n",
       "      <th>4</th>\n",
       "      <td>5</td>\n",
       "      <td>0</td>\n",
       "      <td>3</td>\n",
       "      <td>Allen, Mr. William Henry</td>\n",
       "      <td>male</td>\n",
       "      <td>35.0</td>\n",
       "      <td>0</td>\n",
       "      <td>0</td>\n",
       "      <td>373450</td>\n",
       "      <td>8.0500</td>\n",
       "      <td>NaN</td>\n",
       "      <td>S</td>\n",
       "    </tr>\n",
       "  </tbody>\n",
       "</table>\n",
       "</div>"
      ],
      "text/plain": [
       "   PassengerId  Survived  Pclass  \\\n",
       "0            1         0       3   \n",
       "1            2         1       1   \n",
       "2            3         1       3   \n",
       "3            4         1       1   \n",
       "4            5         0       3   \n",
       "\n",
       "                                                Name     Sex   Age  SibSp  \\\n",
       "0                            Braund, Mr. Owen Harris    male  22.0      1   \n",
       "1  Cumings, Mrs. John Bradley (Florence Briggs Th...  female  38.0      1   \n",
       "2                             Heikkinen, Miss. Laina  female  26.0      0   \n",
       "3       Futrelle, Mrs. Jacques Heath (Lily May Peel)  female  35.0      1   \n",
       "4                           Allen, Mr. William Henry    male  35.0      0   \n",
       "\n",
       "   Parch            Ticket     Fare Cabin Embarked  \n",
       "0      0         A/5 21171   7.2500   NaN        S  \n",
       "1      0          PC 17599  71.2833   C85        C  \n",
       "2      0  STON/O2. 3101282   7.9250   NaN        S  \n",
       "3      0            113803  53.1000  C123        S  \n",
       "4      0            373450   8.0500   NaN        S  "
      ]
     },
     "execution_count": 2,
     "metadata": {},
     "output_type": "execute_result"
    }
   ],
   "source": [
    "train_data = pd.read_csv(\"/kaggle/input/titanic/train.csv\")\n",
    "train_data.head()"
   ]
  },
  {
   "cell_type": "code",
   "execution_count": 3,
   "id": "32c0c817",
   "metadata": {
    "execution": {
     "iopub.execute_input": "2024-03-09T06:04:05.668980Z",
     "iopub.status.busy": "2024-03-09T06:04:05.668562Z",
     "iopub.status.idle": "2024-03-09T06:04:05.685890Z",
     "shell.execute_reply": "2024-03-09T06:04:05.684811Z"
    },
    "papermill": {
     "duration": 0.031029,
     "end_time": "2024-03-09T06:04:05.688572",
     "exception": false,
     "start_time": "2024-03-09T06:04:05.657543",
     "status": "completed"
    },
    "tags": []
   },
   "outputs": [
    {
     "data": {
      "text/plain": [
       "0"
      ]
     },
     "execution_count": 3,
     "metadata": {},
     "output_type": "execute_result"
    }
   ],
   "source": [
    "sum(train_data.duplicated())"
   ]
  },
  {
   "cell_type": "code",
   "execution_count": null,
   "id": "3f814344",
   "metadata": {
    "papermill": {
     "duration": 0.009473,
     "end_time": "2024-03-09T06:04:05.707798",
     "exception": false,
     "start_time": "2024-03-09T06:04:05.698325",
     "status": "completed"
    },
    "tags": []
   },
   "outputs": [],
   "source": []
  },
  {
   "cell_type": "code",
   "execution_count": 4,
   "id": "bcfb9639",
   "metadata": {
    "execution": {
     "iopub.execute_input": "2024-03-09T06:04:05.730393Z",
     "iopub.status.busy": "2024-03-09T06:04:05.728664Z",
     "iopub.status.idle": "2024-03-09T06:04:05.737230Z",
     "shell.execute_reply": "2024-03-09T06:04:05.736098Z"
    },
    "papermill": {
     "duration": 0.022213,
     "end_time": "2024-03-09T06:04:05.739649",
     "exception": false,
     "start_time": "2024-03-09T06:04:05.717436",
     "status": "completed"
    },
    "tags": []
   },
   "outputs": [],
   "source": [
    "train_data.drop_duplicates(inplace=True)"
   ]
  },
  {
   "cell_type": "code",
   "execution_count": 5,
   "id": "1248a66f",
   "metadata": {
    "execution": {
     "iopub.execute_input": "2024-03-09T06:04:05.760887Z",
     "iopub.status.busy": "2024-03-09T06:04:05.760511Z",
     "iopub.status.idle": "2024-03-09T06:04:05.773613Z",
     "shell.execute_reply": "2024-03-09T06:04:05.772438Z"
    },
    "papermill": {
     "duration": 0.026552,
     "end_time": "2024-03-09T06:04:05.775931",
     "exception": false,
     "start_time": "2024-03-09T06:04:05.749379",
     "status": "completed"
    },
    "tags": []
   },
   "outputs": [
    {
     "data": {
      "text/plain": [
       "PassengerId    891\n",
       "Survived         2\n",
       "Pclass           3\n",
       "Name           891\n",
       "Sex              2\n",
       "Age             88\n",
       "SibSp            7\n",
       "Parch            7\n",
       "Ticket         681\n",
       "Fare           248\n",
       "Cabin          147\n",
       "Embarked         3\n",
       "dtype: int64"
      ]
     },
     "execution_count": 5,
     "metadata": {},
     "output_type": "execute_result"
    }
   ],
   "source": [
    "train_data.nunique()"
   ]
  },
  {
   "cell_type": "code",
   "execution_count": 6,
   "id": "9a46f50e",
   "metadata": {
    "execution": {
     "iopub.execute_input": "2024-03-09T06:04:05.798550Z",
     "iopub.status.busy": "2024-03-09T06:04:05.798178Z",
     "iopub.status.idle": "2024-03-09T06:04:05.819744Z",
     "shell.execute_reply": "2024-03-09T06:04:05.818373Z"
    },
    "papermill": {
     "duration": 0.035617,
     "end_time": "2024-03-09T06:04:05.822253",
     "exception": false,
     "start_time": "2024-03-09T06:04:05.786636",
     "status": "completed"
    },
    "tags": []
   },
   "outputs": [
    {
     "name": "stdout",
     "output_type": "stream",
     "text": [
      "<class 'pandas.core.frame.DataFrame'>\n",
      "RangeIndex: 891 entries, 0 to 890\n",
      "Data columns (total 12 columns):\n",
      " #   Column       Non-Null Count  Dtype  \n",
      "---  ------       --------------  -----  \n",
      " 0   PassengerId  891 non-null    int64  \n",
      " 1   Survived     891 non-null    int64  \n",
      " 2   Pclass       891 non-null    int64  \n",
      " 3   Name         891 non-null    object \n",
      " 4   Sex          891 non-null    object \n",
      " 5   Age          714 non-null    float64\n",
      " 6   SibSp        891 non-null    int64  \n",
      " 7   Parch        891 non-null    int64  \n",
      " 8   Ticket       891 non-null    object \n",
      " 9   Fare         891 non-null    float64\n",
      " 10  Cabin        204 non-null    object \n",
      " 11  Embarked     889 non-null    object \n",
      "dtypes: float64(2), int64(5), object(5)\n",
      "memory usage: 83.7+ KB\n"
     ]
    }
   ],
   "source": [
    "train_data.info()"
   ]
  },
  {
   "cell_type": "code",
   "execution_count": 7,
   "id": "dd2341da",
   "metadata": {
    "execution": {
     "iopub.execute_input": "2024-03-09T06:04:05.844813Z",
     "iopub.status.busy": "2024-03-09T06:04:05.844441Z",
     "iopub.status.idle": "2024-03-09T06:04:05.866891Z",
     "shell.execute_reply": "2024-03-09T06:04:05.865813Z"
    },
    "papermill": {
     "duration": 0.036912,
     "end_time": "2024-03-09T06:04:05.869157",
     "exception": false,
     "start_time": "2024-03-09T06:04:05.832245",
     "status": "completed"
    },
    "tags": []
   },
   "outputs": [
    {
     "data": {
      "text/html": [
       "<div>\n",
       "<style scoped>\n",
       "    .dataframe tbody tr th:only-of-type {\n",
       "        vertical-align: middle;\n",
       "    }\n",
       "\n",
       "    .dataframe tbody tr th {\n",
       "        vertical-align: top;\n",
       "    }\n",
       "\n",
       "    .dataframe thead th {\n",
       "        text-align: right;\n",
       "    }\n",
       "</style>\n",
       "<table border=\"1\" class=\"dataframe\">\n",
       "  <thead>\n",
       "    <tr style=\"text-align: right;\">\n",
       "      <th></th>\n",
       "      <th>Name</th>\n",
       "      <th>Sex</th>\n",
       "      <th>Ticket</th>\n",
       "      <th>Cabin</th>\n",
       "      <th>Embarked</th>\n",
       "    </tr>\n",
       "  </thead>\n",
       "  <tbody>\n",
       "    <tr>\n",
       "      <th>count</th>\n",
       "      <td>891</td>\n",
       "      <td>891</td>\n",
       "      <td>891</td>\n",
       "      <td>204</td>\n",
       "      <td>889</td>\n",
       "    </tr>\n",
       "    <tr>\n",
       "      <th>unique</th>\n",
       "      <td>891</td>\n",
       "      <td>2</td>\n",
       "      <td>681</td>\n",
       "      <td>147</td>\n",
       "      <td>3</td>\n",
       "    </tr>\n",
       "    <tr>\n",
       "      <th>top</th>\n",
       "      <td>Braund, Mr. Owen Harris</td>\n",
       "      <td>male</td>\n",
       "      <td>347082</td>\n",
       "      <td>B96 B98</td>\n",
       "      <td>S</td>\n",
       "    </tr>\n",
       "    <tr>\n",
       "      <th>freq</th>\n",
       "      <td>1</td>\n",
       "      <td>577</td>\n",
       "      <td>7</td>\n",
       "      <td>4</td>\n",
       "      <td>644</td>\n",
       "    </tr>\n",
       "  </tbody>\n",
       "</table>\n",
       "</div>"
      ],
      "text/plain": [
       "                           Name   Sex  Ticket    Cabin Embarked\n",
       "count                       891   891     891      204      889\n",
       "unique                      891     2     681      147        3\n",
       "top     Braund, Mr. Owen Harris  male  347082  B96 B98        S\n",
       "freq                          1   577       7        4      644"
      ]
     },
     "execution_count": 7,
     "metadata": {},
     "output_type": "execute_result"
    }
   ],
   "source": [
    "train_data.describe(include=['O'])"
   ]
  },
  {
   "cell_type": "code",
   "execution_count": 8,
   "id": "7b8dadce",
   "metadata": {
    "execution": {
     "iopub.execute_input": "2024-03-09T06:04:05.891320Z",
     "iopub.status.busy": "2024-03-09T06:04:05.890909Z",
     "iopub.status.idle": "2024-03-09T06:04:05.897863Z",
     "shell.execute_reply": "2024-03-09T06:04:05.896747Z"
    },
    "papermill": {
     "duration": 0.020588,
     "end_time": "2024-03-09T06:04:05.899969",
     "exception": false,
     "start_time": "2024-03-09T06:04:05.879381",
     "status": "completed"
    },
    "tags": []
   },
   "outputs": [
    {
     "name": "stdout",
     "output_type": "stream",
     "text": [
      "['male' 'female']\n"
     ]
    }
   ],
   "source": [
    "unique_labels = train_data[\"Sex\"].explode().unique()\n",
    "print(unique_labels)"
   ]
  },
  {
   "cell_type": "markdown",
   "id": "cc324f85",
   "metadata": {
    "papermill": {
     "duration": 0.009915,
     "end_time": "2024-03-09T06:04:05.920320",
     "exception": false,
     "start_time": "2024-03-09T06:04:05.910405",
     "status": "completed"
    },
    "tags": []
   },
   "source": [
    "import pandas as pd\n",
    "import numpy as np\n",
    "from sklearn.impute import SimpleImputer\n",
    "\n",
    "# Extract the 'Cabin' column\n",
    "cabin_column = train_data[['Cabin']]\n",
    "embarked_column = train_data[['Embarked']]\n",
    "\n",
    "# Use SimpleImputer to fill in NaN values in the 'Cabin' column\n",
    "imputer = SimpleImputer(strategy='most_frequent')\n",
    "cabin_column_imputed = imputer.fit_transform(cabin_column)\n",
    "embarked_column_imputed = imputer.fit_transform(embarked_column)\n",
    "\n",
    "# Flatten the 2D array to a 1D array using ravel()\n",
    "cabin_column_imputed = cabin_column_imputed.ravel()\n",
    "train_data['Embarked']=embarked_column_imputed.ravel()\n",
    "\n",
    "# Convert the NumPy array to a pandas Series\n",
    "cabin_column_imputed_series = pd.Series(cabin_column_imputed)\n",
    "\n",
    "# Extract the cabin letter\n",
    "train_data['CabinLetter'] = cabin_column_imputed_series.astype(str).str[0]\n",
    "\n",
    "# Map the cabin letter to ordinal categories\n",
    "cabin_mapping = {'A': 1, 'B': 2, 'C': 3, 'D': 4, 'E': 5, 'F': 6, 'G': 7, 'T': 8}  # Add more categories as needed\n",
    "embarked_mapping = {'S': 1, 'C': 2, 'Q': 3}\n",
    "gender_mapping = {'male': 1, 'female': 2}\n",
    "train_data['CabinOrdinal'] = train_data['CabinLetter'].map(cabin_mapping)\n",
    "train_data['SexOrdinal'] = train_data['Sex'].map(gender_mapping)\n",
    "train_data['Cabin']=train_data['CabinOrdinal']\n",
    "train_data['EmbarkedOrdinal'] = train_data['Embarked'].map(embarked_mapping)\n",
    "train_data['Embarked']=train_data['EmbarkedOrdinal']\n",
    "train_data['Sex']=train_data['SexOrdinal']\n",
    "# Display the result\n",
    "#print(train_data[['Cabin', 'CabinLetter', 'CabinOrdinal', 'EmbarkedOrdinal']])\n",
    "print(train_data.info())"
   ]
  },
  {
   "cell_type": "markdown",
   "id": "b275de9b",
   "metadata": {
    "papermill": {
     "duration": 0.009925,
     "end_time": "2024-03-09T06:04:05.940572",
     "exception": false,
     "start_time": "2024-03-09T06:04:05.930647",
     "status": "completed"
    },
    "tags": []
   },
   "source": [
    "train_data=train_data.drop(columns=['EmbarkedOrdinal'])\n",
    "train_data=train_data.drop(columns=['SexOrdinal'])\n",
    "train_data=train_data.drop(columns=['Ticket'])\n",
    "train_data=train_data.drop(columns=['Name'])\n",
    "train_data=train_data.drop(columns=['CabinOrdinal'])\n",
    "train_data=train_data.drop(columns=['CabinLetter'])\n"
   ]
  },
  {
   "cell_type": "code",
   "execution_count": 9,
   "id": "f6bfc2dd",
   "metadata": {
    "execution": {
     "iopub.execute_input": "2024-03-09T06:04:05.962853Z",
     "iopub.status.busy": "2024-03-09T06:04:05.962507Z",
     "iopub.status.idle": "2024-03-09T06:04:05.986479Z",
     "shell.execute_reply": "2024-03-09T06:04:05.985426Z"
    },
    "papermill": {
     "duration": 0.037835,
     "end_time": "2024-03-09T06:04:05.988745",
     "exception": false,
     "start_time": "2024-03-09T06:04:05.950910",
     "status": "completed"
    },
    "tags": []
   },
   "outputs": [
    {
     "data": {
      "text/html": [
       "<div>\n",
       "<style scoped>\n",
       "    .dataframe tbody tr th:only-of-type {\n",
       "        vertical-align: middle;\n",
       "    }\n",
       "\n",
       "    .dataframe tbody tr th {\n",
       "        vertical-align: top;\n",
       "    }\n",
       "\n",
       "    .dataframe thead th {\n",
       "        text-align: right;\n",
       "    }\n",
       "</style>\n",
       "<table border=\"1\" class=\"dataframe\">\n",
       "  <thead>\n",
       "    <tr style=\"text-align: right;\">\n",
       "      <th></th>\n",
       "      <th>PassengerId</th>\n",
       "      <th>Pclass</th>\n",
       "      <th>Name</th>\n",
       "      <th>Sex</th>\n",
       "      <th>Age</th>\n",
       "      <th>SibSp</th>\n",
       "      <th>Parch</th>\n",
       "      <th>Ticket</th>\n",
       "      <th>Fare</th>\n",
       "      <th>Cabin</th>\n",
       "      <th>Embarked</th>\n",
       "    </tr>\n",
       "  </thead>\n",
       "  <tbody>\n",
       "    <tr>\n",
       "      <th>0</th>\n",
       "      <td>892</td>\n",
       "      <td>3</td>\n",
       "      <td>Kelly, Mr. James</td>\n",
       "      <td>male</td>\n",
       "      <td>34.5</td>\n",
       "      <td>0</td>\n",
       "      <td>0</td>\n",
       "      <td>330911</td>\n",
       "      <td>7.8292</td>\n",
       "      <td>NaN</td>\n",
       "      <td>Q</td>\n",
       "    </tr>\n",
       "    <tr>\n",
       "      <th>1</th>\n",
       "      <td>893</td>\n",
       "      <td>3</td>\n",
       "      <td>Wilkes, Mrs. James (Ellen Needs)</td>\n",
       "      <td>female</td>\n",
       "      <td>47.0</td>\n",
       "      <td>1</td>\n",
       "      <td>0</td>\n",
       "      <td>363272</td>\n",
       "      <td>7.0000</td>\n",
       "      <td>NaN</td>\n",
       "      <td>S</td>\n",
       "    </tr>\n",
       "    <tr>\n",
       "      <th>2</th>\n",
       "      <td>894</td>\n",
       "      <td>2</td>\n",
       "      <td>Myles, Mr. Thomas Francis</td>\n",
       "      <td>male</td>\n",
       "      <td>62.0</td>\n",
       "      <td>0</td>\n",
       "      <td>0</td>\n",
       "      <td>240276</td>\n",
       "      <td>9.6875</td>\n",
       "      <td>NaN</td>\n",
       "      <td>Q</td>\n",
       "    </tr>\n",
       "    <tr>\n",
       "      <th>3</th>\n",
       "      <td>895</td>\n",
       "      <td>3</td>\n",
       "      <td>Wirz, Mr. Albert</td>\n",
       "      <td>male</td>\n",
       "      <td>27.0</td>\n",
       "      <td>0</td>\n",
       "      <td>0</td>\n",
       "      <td>315154</td>\n",
       "      <td>8.6625</td>\n",
       "      <td>NaN</td>\n",
       "      <td>S</td>\n",
       "    </tr>\n",
       "    <tr>\n",
       "      <th>4</th>\n",
       "      <td>896</td>\n",
       "      <td>3</td>\n",
       "      <td>Hirvonen, Mrs. Alexander (Helga E Lindqvist)</td>\n",
       "      <td>female</td>\n",
       "      <td>22.0</td>\n",
       "      <td>1</td>\n",
       "      <td>1</td>\n",
       "      <td>3101298</td>\n",
       "      <td>12.2875</td>\n",
       "      <td>NaN</td>\n",
       "      <td>S</td>\n",
       "    </tr>\n",
       "  </tbody>\n",
       "</table>\n",
       "</div>"
      ],
      "text/plain": [
       "   PassengerId  Pclass                                          Name     Sex  \\\n",
       "0          892       3                              Kelly, Mr. James    male   \n",
       "1          893       3              Wilkes, Mrs. James (Ellen Needs)  female   \n",
       "2          894       2                     Myles, Mr. Thomas Francis    male   \n",
       "3          895       3                              Wirz, Mr. Albert    male   \n",
       "4          896       3  Hirvonen, Mrs. Alexander (Helga E Lindqvist)  female   \n",
       "\n",
       "    Age  SibSp  Parch   Ticket     Fare Cabin Embarked  \n",
       "0  34.5      0      0   330911   7.8292   NaN        Q  \n",
       "1  47.0      1      0   363272   7.0000   NaN        S  \n",
       "2  62.0      0      0   240276   9.6875   NaN        Q  \n",
       "3  27.0      0      0   315154   8.6625   NaN        S  \n",
       "4  22.0      1      1  3101298  12.2875   NaN        S  "
      ]
     },
     "execution_count": 9,
     "metadata": {},
     "output_type": "execute_result"
    }
   ],
   "source": [
    "test_data = pd.read_csv(\"/kaggle/input/titanic/test.csv\")\n",
    "test_data.head()"
   ]
  },
  {
   "cell_type": "code",
   "execution_count": 10,
   "id": "08c58b48",
   "metadata": {
    "execution": {
     "iopub.execute_input": "2024-03-09T06:04:06.011895Z",
     "iopub.status.busy": "2024-03-09T06:04:06.011516Z",
     "iopub.status.idle": "2024-03-09T06:04:06.028161Z",
     "shell.execute_reply": "2024-03-09T06:04:06.026989Z"
    },
    "papermill": {
     "duration": 0.030984,
     "end_time": "2024-03-09T06:04:06.030460",
     "exception": false,
     "start_time": "2024-03-09T06:04:05.999476",
     "status": "completed"
    },
    "tags": []
   },
   "outputs": [
    {
     "data": {
      "text/html": [
       "<div>\n",
       "<style scoped>\n",
       "    .dataframe tbody tr th:only-of-type {\n",
       "        vertical-align: middle;\n",
       "    }\n",
       "\n",
       "    .dataframe tbody tr th {\n",
       "        vertical-align: top;\n",
       "    }\n",
       "\n",
       "    .dataframe thead th {\n",
       "        text-align: right;\n",
       "    }\n",
       "</style>\n",
       "<table border=\"1\" class=\"dataframe\">\n",
       "  <thead>\n",
       "    <tr style=\"text-align: right;\">\n",
       "      <th></th>\n",
       "      <th>PassengerId</th>\n",
       "      <th>Survived</th>\n",
       "      <th>Pclass</th>\n",
       "      <th>Name</th>\n",
       "      <th>Sex</th>\n",
       "      <th>Age</th>\n",
       "      <th>SibSp</th>\n",
       "      <th>Parch</th>\n",
       "      <th>Ticket</th>\n",
       "      <th>Fare</th>\n",
       "      <th>Cabin</th>\n",
       "      <th>Embarked</th>\n",
       "    </tr>\n",
       "  </thead>\n",
       "  <tbody>\n",
       "    <tr>\n",
       "      <th>0</th>\n",
       "      <td>1</td>\n",
       "      <td>0</td>\n",
       "      <td>3</td>\n",
       "      <td>Braund, Mr. Owen Harris</td>\n",
       "      <td>male</td>\n",
       "      <td>22.0</td>\n",
       "      <td>1</td>\n",
       "      <td>0</td>\n",
       "      <td>A/5 21171</td>\n",
       "      <td>7.2500</td>\n",
       "      <td>NaN</td>\n",
       "      <td>S</td>\n",
       "    </tr>\n",
       "    <tr>\n",
       "      <th>1</th>\n",
       "      <td>2</td>\n",
       "      <td>1</td>\n",
       "      <td>1</td>\n",
       "      <td>Cumings, Mrs. John Bradley (Florence Briggs Th...</td>\n",
       "      <td>female</td>\n",
       "      <td>38.0</td>\n",
       "      <td>1</td>\n",
       "      <td>0</td>\n",
       "      <td>PC 17599</td>\n",
       "      <td>71.2833</td>\n",
       "      <td>C85</td>\n",
       "      <td>C</td>\n",
       "    </tr>\n",
       "    <tr>\n",
       "      <th>2</th>\n",
       "      <td>3</td>\n",
       "      <td>1</td>\n",
       "      <td>3</td>\n",
       "      <td>Heikkinen, Miss. Laina</td>\n",
       "      <td>female</td>\n",
       "      <td>26.0</td>\n",
       "      <td>0</td>\n",
       "      <td>0</td>\n",
       "      <td>STON/O2. 3101282</td>\n",
       "      <td>7.9250</td>\n",
       "      <td>NaN</td>\n",
       "      <td>S</td>\n",
       "    </tr>\n",
       "    <tr>\n",
       "      <th>3</th>\n",
       "      <td>4</td>\n",
       "      <td>1</td>\n",
       "      <td>1</td>\n",
       "      <td>Futrelle, Mrs. Jacques Heath (Lily May Peel)</td>\n",
       "      <td>female</td>\n",
       "      <td>35.0</td>\n",
       "      <td>1</td>\n",
       "      <td>0</td>\n",
       "      <td>113803</td>\n",
       "      <td>53.1000</td>\n",
       "      <td>C123</td>\n",
       "      <td>S</td>\n",
       "    </tr>\n",
       "    <tr>\n",
       "      <th>4</th>\n",
       "      <td>5</td>\n",
       "      <td>0</td>\n",
       "      <td>3</td>\n",
       "      <td>Allen, Mr. William Henry</td>\n",
       "      <td>male</td>\n",
       "      <td>35.0</td>\n",
       "      <td>0</td>\n",
       "      <td>0</td>\n",
       "      <td>373450</td>\n",
       "      <td>8.0500</td>\n",
       "      <td>NaN</td>\n",
       "      <td>S</td>\n",
       "    </tr>\n",
       "  </tbody>\n",
       "</table>\n",
       "</div>"
      ],
      "text/plain": [
       "   PassengerId  Survived  Pclass  \\\n",
       "0            1         0       3   \n",
       "1            2         1       1   \n",
       "2            3         1       3   \n",
       "3            4         1       1   \n",
       "4            5         0       3   \n",
       "\n",
       "                                                Name     Sex   Age  SibSp  \\\n",
       "0                            Braund, Mr. Owen Harris    male  22.0      1   \n",
       "1  Cumings, Mrs. John Bradley (Florence Briggs Th...  female  38.0      1   \n",
       "2                             Heikkinen, Miss. Laina  female  26.0      0   \n",
       "3       Futrelle, Mrs. Jacques Heath (Lily May Peel)  female  35.0      1   \n",
       "4                           Allen, Mr. William Henry    male  35.0      0   \n",
       "\n",
       "   Parch            Ticket     Fare Cabin Embarked  \n",
       "0      0         A/5 21171   7.2500   NaN        S  \n",
       "1      0          PC 17599  71.2833   C85        C  \n",
       "2      0  STON/O2. 3101282   7.9250   NaN        S  \n",
       "3      0            113803  53.1000  C123        S  \n",
       "4      0            373450   8.0500   NaN        S  "
      ]
     },
     "execution_count": 10,
     "metadata": {},
     "output_type": "execute_result"
    }
   ],
   "source": [
    "train_data.head()"
   ]
  },
  {
   "cell_type": "markdown",
   "id": "63f36f75",
   "metadata": {
    "execution": {
     "iopub.execute_input": "2024-03-09T05:51:04.082211Z",
     "iopub.status.busy": "2024-03-09T05:51:04.081792Z",
     "iopub.status.idle": "2024-03-09T05:51:06.641851Z",
     "shell.execute_reply": "2024-03-09T05:51:06.639686Z",
     "shell.execute_reply.started": "2024-03-09T05:51:04.082174Z"
    },
    "papermill": {
     "duration": 0.01063,
     "end_time": "2024-03-09T06:04:06.051896",
     "exception": false,
     "start_time": "2024-03-09T06:04:06.041266",
     "status": "completed"
    },
    "tags": []
   },
   "source": [
    "import matplotlib.pyplot as plt\n",
    "import seaborn as sns\n",
    "sns.set()\n",
    "sns.heatmap(train_data.corr(), cmap='coolwarm',annot=True)\n",
    "plt.show()"
   ]
  },
  {
   "cell_type": "markdown",
   "id": "c56f4404",
   "metadata": {
    "execution": {
     "iopub.execute_input": "2024-03-09T05:54:49.358365Z",
     "iopub.status.busy": "2024-03-09T05:54:49.356097Z",
     "iopub.status.idle": "2024-03-09T05:54:51.885614Z",
     "shell.execute_reply": "2024-03-09T05:54:51.883995Z",
     "shell.execute_reply.started": "2024-03-09T05:54:49.358321Z"
    },
    "papermill": {
     "duration": 0.010826,
     "end_time": "2024-03-09T06:04:06.074510",
     "exception": false,
     "start_time": "2024-03-09T06:04:06.063684",
     "status": "completed"
    },
    "tags": []
   },
   "source": [
    "import matplotlib.pyplot as plt\n",
    "import seaborn as sns\n",
    "sns.set()\n",
    "sns.heatmap(train_data.corr(), cmap='coolwarm',annot=True)\n",
    "plt.show()"
   ]
  },
  {
   "cell_type": "markdown",
   "id": "937bdaf5",
   "metadata": {
    "execution": {
     "iopub.execute_input": "2024-03-09T05:58:03.161271Z",
     "iopub.status.busy": "2024-03-09T05:58:03.160722Z",
     "iopub.status.idle": "2024-03-09T05:58:20.847964Z",
     "shell.execute_reply": "2024-03-09T05:58:20.846805Z",
     "shell.execute_reply.started": "2024-03-09T05:58:03.161139Z"
    },
    "papermill": {
     "duration": 0.010791,
     "end_time": "2024-03-09T06:04:06.096529",
     "exception": false,
     "start_time": "2024-03-09T06:04:06.085738",
     "status": "completed"
    },
    "tags": []
   },
   "source": [
    "sns.set_style('whitegrid')\n",
    "sns.pairplot(train_data)\n",
    "plt.show()"
   ]
  },
  {
   "cell_type": "markdown",
   "id": "1750e329",
   "metadata": {
    "papermill": {
     "duration": 0.010616,
     "end_time": "2024-03-09T06:04:06.118324",
     "exception": false,
     "start_time": "2024-03-09T06:04:06.107708",
     "status": "completed"
    },
    "tags": []
   },
   "source": [
    "import pandas as pd\n",
    "import numpy as np\n",
    "from sklearn.impute import SimpleImputer\n",
    "\n",
    "# Extract the 'Cabin' column\n",
    "cabin_column = test_data[['Cabin']]\n",
    "embarked_column = test_data[['Embarked']]\n",
    "\n",
    "# Use SimpleImputer to fill in NaN values in the 'Cabin' column\n",
    "imputer = SimpleImputer(strategy='most_frequent')\n",
    "cabin_column_imputed = imputer.fit_transform(cabin_column)\n",
    "embarked_column_imputed = imputer.fit_transform(embarked_column)\n",
    "\n",
    "# Flatten the 2D array to a 1D array using ravel()\n",
    "cabin_column_imputed = cabin_column_imputed.ravel()\n",
    "test_data['Embarked']=embarked_column_imputed.ravel()\n",
    "# Convert the NumPy array to a pandas Series\n",
    "cabin_column_imputed_series = pd.Series(cabin_column_imputed)\n",
    "\n",
    "# Extract the cabin letter\n",
    "test_data['CabinLetter'] = cabin_column_imputed_series.astype(str).str[0]\n",
    "\n",
    "# Map the cabin letter to ordinal categories\n",
    "cabin_mapping = {'A': 1, 'B': 2, 'C': 3, 'D': 4, 'E': 5, 'F': 6, 'G': 7, 'T': 8}  # Add more categories as needed\n",
    "embarked_mapping = {'S': 1, 'C': 2, 'Q': 3}\n",
    "gender_mapping = {'male': 1, 'female': 2}\n",
    "test_data['CabinOrdinal'] = test_data['CabinLetter'].map(cabin_mapping)\n",
    "test_data['SexOrdinal'] = test_data['Sex'].map(gender_mapping)\n",
    "test_data['Cabin']=test_data['CabinOrdinal']\n",
    "test_data['EmbarkedOrdinal'] = test_data['Embarked'].map(embarked_mapping)\n",
    "test_data['Embarked']=test_data['EmbarkedOrdinal']\n",
    "test_data['Sex']=test_data['SexOrdinal']\n",
    "# Display the result\n",
    "print(test_data.info())"
   ]
  },
  {
   "cell_type": "markdown",
   "id": "9d840e7d",
   "metadata": {
    "papermill": {
     "duration": 0.010468,
     "end_time": "2024-03-09T06:04:06.139804",
     "exception": false,
     "start_time": "2024-03-09T06:04:06.129336",
     "status": "completed"
    },
    "tags": []
   },
   "source": [
    "test_data=test_data.drop(columns=['EmbarkedOrdinal'])\n",
    "test_data=test_data.drop(columns=['SexOrdinal'])\n",
    "test_data=test_data.drop(columns=['Ticket'])\n",
    "test_data=test_data.drop(columns=['Name'])\n",
    "test_data=test_data.drop(columns=['CabinOrdinal'])\n",
    "test_data=test_data.drop(columns=['CabinLetter'])"
   ]
  },
  {
   "cell_type": "markdown",
   "id": "22e06036",
   "metadata": {
    "execution": {
     "iopub.execute_input": "2024-03-07T04:12:57.464738Z",
     "iopub.status.busy": "2024-03-07T04:12:57.464297Z",
     "iopub.status.idle": "2024-03-07T04:12:57.504898Z",
     "shell.execute_reply": "2024-03-07T04:12:57.503091Z",
     "shell.execute_reply.started": "2024-03-07T04:12:57.464696Z"
    },
    "papermill": {
     "duration": 0.010622,
     "end_time": "2024-03-09T06:04:06.161305",
     "exception": false,
     "start_time": "2024-03-09T06:04:06.150683",
     "status": "completed"
    },
    "tags": []
   },
   "source": []
  },
  {
   "cell_type": "markdown",
   "id": "2c496ecf",
   "metadata": {
    "execution": {
     "iopub.execute_input": "2024-03-09T05:55:41.586684Z",
     "iopub.status.busy": "2024-03-09T05:55:41.586276Z",
     "iopub.status.idle": "2024-03-09T05:55:41.622996Z",
     "shell.execute_reply": "2024-03-09T05:55:41.621609Z",
     "shell.execute_reply.started": "2024-03-09T05:55:41.586650Z"
    },
    "papermill": {
     "duration": 0.010651,
     "end_time": "2024-03-09T06:04:06.183102",
     "exception": false,
     "start_time": "2024-03-09T06:04:06.172451",
     "status": "completed"
    },
    "tags": []
   },
   "source": [
    "women = train_data.loc[train_data.Sex == 2][\"Survived\"]\n",
    "rate_women = sum(women)/len(women)\n",
    "\n",
    "print(\"% of women who survived:\", rate_women)"
   ]
  },
  {
   "cell_type": "markdown",
   "id": "2ca348ec",
   "metadata": {
    "papermill": {
     "duration": 0.010509,
     "end_time": "2024-03-09T06:04:06.204828",
     "exception": false,
     "start_time": "2024-03-09T06:04:06.194319",
     "status": "completed"
    },
    "tags": []
   },
   "source": [
    "men = train_data.loc[train_data.Sex == 1][\"Survived\"]\n",
    "rate_men = sum(men)/len(men)\n",
    "\n",
    "print(\"% of men who survived:\", rate_men)"
   ]
  },
  {
   "cell_type": "code",
   "execution_count": 11,
   "id": "4e8c8e3c",
   "metadata": {
    "execution": {
     "iopub.execute_input": "2024-03-09T06:04:06.228628Z",
     "iopub.status.busy": "2024-03-09T06:04:06.228195Z",
     "iopub.status.idle": "2024-03-09T06:04:08.248333Z",
     "shell.execute_reply": "2024-03-09T06:04:08.247075Z"
    },
    "papermill": {
     "duration": 2.035505,
     "end_time": "2024-03-09T06:04:08.251106",
     "exception": false,
     "start_time": "2024-03-09T06:04:06.215601",
     "status": "completed"
    },
    "tags": []
   },
   "outputs": [
    {
     "name": "stdout",
     "output_type": "stream",
     "text": [
      "Your submission was successfully saved!\n"
     ]
    }
   ],
   "source": [
    "from sklearn.ensemble import RandomForestClassifier\n",
    "\n",
    "y = train_data[\"Survived\"]\n",
    "\n",
    "features = [\"Pclass\", \"Sex\", \"SibSp\", \"Parch\"]\n",
    "X = pd.get_dummies(train_data[features])\n",
    "X_test = pd.get_dummies(test_data[features])\n",
    "\n",
    "model = RandomForestClassifier(n_estimators=100, max_depth=5, random_state=1)\n",
    "model.fit(X, y)\n",
    "predictions = model.predict(X_test)\n",
    "\n",
    "output = pd.DataFrame({'PassengerId': test_data.PassengerId, 'Survived': predictions})\n",
    "output.to_csv('submission1.csv', index=False)\n",
    "print(\"Your submission was successfully saved!\")\n"
   ]
  },
  {
   "cell_type": "code",
   "execution_count": 12,
   "id": "60d0a4a6",
   "metadata": {
    "execution": {
     "iopub.execute_input": "2024-03-09T06:04:08.275849Z",
     "iopub.status.busy": "2024-03-09T06:04:08.275455Z",
     "iopub.status.idle": "2024-03-09T06:04:08.281161Z",
     "shell.execute_reply": "2024-03-09T06:04:08.279956Z"
    },
    "papermill": {
     "duration": 0.021038,
     "end_time": "2024-03-09T06:04:08.283389",
     "exception": false,
     "start_time": "2024-03-09T06:04:08.262351",
     "status": "completed"
    },
    "tags": []
   },
   "outputs": [],
   "source": [
    "my_param_grid = {'n_estimators':[100], 'criterion':['entropy','gini'],\n",
    "                 'max_features':['log2'], 'max_depth':[10]}"
   ]
  },
  {
   "cell_type": "code",
   "execution_count": 13,
   "id": "77fc86b5",
   "metadata": {
    "execution": {
     "iopub.execute_input": "2024-03-09T06:04:08.307978Z",
     "iopub.status.busy": "2024-03-09T06:04:08.307563Z",
     "iopub.status.idle": "2024-03-09T06:04:11.262260Z",
     "shell.execute_reply": "2024-03-09T06:04:11.260833Z"
    },
    "papermill": {
     "duration": 2.970242,
     "end_time": "2024-03-09T06:04:11.265169",
     "exception": false,
     "start_time": "2024-03-09T06:04:08.294927",
     "status": "completed"
    },
    "tags": []
   },
   "outputs": [
    {
     "name": "stdout",
     "output_type": "stream",
     "text": [
      "Fitting 5 folds for each of 2 candidates, totalling 10 fits\n",
      "[CV] END criterion=entropy, max_depth=10, max_features=log2, n_estimators=100; total time=   0.3s\n",
      "[CV] END criterion=entropy, max_depth=10, max_features=log2, n_estimators=100; total time=   0.3s\n",
      "[CV] END criterion=entropy, max_depth=10, max_features=log2, n_estimators=100; total time=   0.3s\n",
      "[CV] END criterion=entropy, max_depth=10, max_features=log2, n_estimators=100; total time=   0.3s\n",
      "[CV] END criterion=entropy, max_depth=10, max_features=log2, n_estimators=100; total time=   0.3s\n",
      "[CV] END criterion=gini, max_depth=10, max_features=log2, n_estimators=100; total time=   0.3s\n",
      "[CV] END criterion=gini, max_depth=10, max_features=log2, n_estimators=100; total time=   0.3s\n",
      "[CV] END criterion=gini, max_depth=10, max_features=log2, n_estimators=100; total time=   0.3s\n",
      "[CV] END criterion=gini, max_depth=10, max_features=log2, n_estimators=100; total time=   0.3s\n",
      "[CV] END criterion=gini, max_depth=10, max_features=log2, n_estimators=100; total time=   0.3s\n"
     ]
    },
    {
     "data": {
      "text/html": [
       "<style>#sk-container-id-1 {color: black;background-color: white;}#sk-container-id-1 pre{padding: 0;}#sk-container-id-1 div.sk-toggleable {background-color: white;}#sk-container-id-1 label.sk-toggleable__label {cursor: pointer;display: block;width: 100%;margin-bottom: 0;padding: 0.3em;box-sizing: border-box;text-align: center;}#sk-container-id-1 label.sk-toggleable__label-arrow:before {content: \"▸\";float: left;margin-right: 0.25em;color: #696969;}#sk-container-id-1 label.sk-toggleable__label-arrow:hover:before {color: black;}#sk-container-id-1 div.sk-estimator:hover label.sk-toggleable__label-arrow:before {color: black;}#sk-container-id-1 div.sk-toggleable__content {max-height: 0;max-width: 0;overflow: hidden;text-align: left;background-color: #f0f8ff;}#sk-container-id-1 div.sk-toggleable__content pre {margin: 0.2em;color: black;border-radius: 0.25em;background-color: #f0f8ff;}#sk-container-id-1 input.sk-toggleable__control:checked~div.sk-toggleable__content {max-height: 200px;max-width: 100%;overflow: auto;}#sk-container-id-1 input.sk-toggleable__control:checked~label.sk-toggleable__label-arrow:before {content: \"▾\";}#sk-container-id-1 div.sk-estimator input.sk-toggleable__control:checked~label.sk-toggleable__label {background-color: #d4ebff;}#sk-container-id-1 div.sk-label input.sk-toggleable__control:checked~label.sk-toggleable__label {background-color: #d4ebff;}#sk-container-id-1 input.sk-hidden--visually {border: 0;clip: rect(1px 1px 1px 1px);clip: rect(1px, 1px, 1px, 1px);height: 1px;margin: -1px;overflow: hidden;padding: 0;position: absolute;width: 1px;}#sk-container-id-1 div.sk-estimator {font-family: monospace;background-color: #f0f8ff;border: 1px dotted black;border-radius: 0.25em;box-sizing: border-box;margin-bottom: 0.5em;}#sk-container-id-1 div.sk-estimator:hover {background-color: #d4ebff;}#sk-container-id-1 div.sk-parallel-item::after {content: \"\";width: 100%;border-bottom: 1px solid gray;flex-grow: 1;}#sk-container-id-1 div.sk-label:hover label.sk-toggleable__label {background-color: #d4ebff;}#sk-container-id-1 div.sk-serial::before {content: \"\";position: absolute;border-left: 1px solid gray;box-sizing: border-box;top: 0;bottom: 0;left: 50%;z-index: 0;}#sk-container-id-1 div.sk-serial {display: flex;flex-direction: column;align-items: center;background-color: white;padding-right: 0.2em;padding-left: 0.2em;position: relative;}#sk-container-id-1 div.sk-item {position: relative;z-index: 1;}#sk-container-id-1 div.sk-parallel {display: flex;align-items: stretch;justify-content: center;background-color: white;position: relative;}#sk-container-id-1 div.sk-item::before, #sk-container-id-1 div.sk-parallel-item::before {content: \"\";position: absolute;border-left: 1px solid gray;box-sizing: border-box;top: 0;bottom: 0;left: 50%;z-index: -1;}#sk-container-id-1 div.sk-parallel-item {display: flex;flex-direction: column;z-index: 1;position: relative;background-color: white;}#sk-container-id-1 div.sk-parallel-item:first-child::after {align-self: flex-end;width: 50%;}#sk-container-id-1 div.sk-parallel-item:last-child::after {align-self: flex-start;width: 50%;}#sk-container-id-1 div.sk-parallel-item:only-child::after {width: 0;}#sk-container-id-1 div.sk-dashed-wrapped {border: 1px dashed gray;margin: 0 0.4em 0.5em 0.4em;box-sizing: border-box;padding-bottom: 0.4em;background-color: white;}#sk-container-id-1 div.sk-label label {font-family: monospace;font-weight: bold;display: inline-block;line-height: 1.2em;}#sk-container-id-1 div.sk-label-container {text-align: center;}#sk-container-id-1 div.sk-container {/* jupyter's `normalize.less` sets `[hidden] { display: none; }` but bootstrap.min.css set `[hidden] { display: none !important; }` so we also need the `!important` here to be able to override the default hidden behavior on the sphinx rendered scikit-learn.org. See: https://github.com/scikit-learn/scikit-learn/issues/21755 */display: inline-block !important;position: relative;}#sk-container-id-1 div.sk-text-repr-fallback {display: none;}</style><div id=\"sk-container-id-1\" class=\"sk-top-container\"><div class=\"sk-text-repr-fallback\"><pre>GridSearchCV(cv=5, estimator=RandomForestClassifier(random_state=1),\n",
       "             param_grid={&#x27;criterion&#x27;: [&#x27;entropy&#x27;, &#x27;gini&#x27;], &#x27;max_depth&#x27;: [10],\n",
       "                         &#x27;max_features&#x27;: [&#x27;log2&#x27;], &#x27;n_estimators&#x27;: [100]},\n",
       "             verbose=2)</pre><b>In a Jupyter environment, please rerun this cell to show the HTML representation or trust the notebook. <br />On GitHub, the HTML representation is unable to render, please try loading this page with nbviewer.org.</b></div><div class=\"sk-container\" hidden><div class=\"sk-item sk-dashed-wrapped\"><div class=\"sk-label-container\"><div class=\"sk-label sk-toggleable\"><input class=\"sk-toggleable__control sk-hidden--visually\" id=\"sk-estimator-id-1\" type=\"checkbox\" ><label for=\"sk-estimator-id-1\" class=\"sk-toggleable__label sk-toggleable__label-arrow\">GridSearchCV</label><div class=\"sk-toggleable__content\"><pre>GridSearchCV(cv=5, estimator=RandomForestClassifier(random_state=1),\n",
       "             param_grid={&#x27;criterion&#x27;: [&#x27;entropy&#x27;, &#x27;gini&#x27;], &#x27;max_depth&#x27;: [10],\n",
       "                         &#x27;max_features&#x27;: [&#x27;log2&#x27;], &#x27;n_estimators&#x27;: [100]},\n",
       "             verbose=2)</pre></div></div></div><div class=\"sk-parallel\"><div class=\"sk-parallel-item\"><div class=\"sk-item\"><div class=\"sk-label-container\"><div class=\"sk-label sk-toggleable\"><input class=\"sk-toggleable__control sk-hidden--visually\" id=\"sk-estimator-id-2\" type=\"checkbox\" ><label for=\"sk-estimator-id-2\" class=\"sk-toggleable__label sk-toggleable__label-arrow\">estimator: RandomForestClassifier</label><div class=\"sk-toggleable__content\"><pre>RandomForestClassifier(random_state=1)</pre></div></div></div><div class=\"sk-serial\"><div class=\"sk-item\"><div class=\"sk-estimator sk-toggleable\"><input class=\"sk-toggleable__control sk-hidden--visually\" id=\"sk-estimator-id-3\" type=\"checkbox\" ><label for=\"sk-estimator-id-3\" class=\"sk-toggleable__label sk-toggleable__label-arrow\">RandomForestClassifier</label><div class=\"sk-toggleable__content\"><pre>RandomForestClassifier(random_state=1)</pre></div></div></div></div></div></div></div></div></div></div>"
      ],
      "text/plain": [
       "GridSearchCV(cv=5, estimator=RandomForestClassifier(random_state=1),\n",
       "             param_grid={'criterion': ['entropy', 'gini'], 'max_depth': [10],\n",
       "                         'max_features': ['log2'], 'n_estimators': [100]},\n",
       "             verbose=2)"
      ]
     },
     "execution_count": 13,
     "metadata": {},
     "output_type": "execute_result"
    }
   ],
   "source": [
    "from sklearn.model_selection import GridSearchCV\n",
    "grid = GridSearchCV(estimator=RandomForestClassifier(random_state=1),param_grid= my_param_grid, refit = True, verbose=2, cv=5 )\n",
    "# verbose just means the text output describing the process. (the greater the number the more detail you will get).\n",
    "# May take a while!\n",
    "grid.fit(X, y)\n"
   ]
  },
  {
   "cell_type": "code",
   "execution_count": 14,
   "id": "f0e22444",
   "metadata": {
    "execution": {
     "iopub.execute_input": "2024-03-09T06:04:11.292169Z",
     "iopub.status.busy": "2024-03-09T06:04:11.291751Z",
     "iopub.status.idle": "2024-03-09T06:04:11.300617Z",
     "shell.execute_reply": "2024-03-09T06:04:11.299475Z"
    },
    "papermill": {
     "duration": 0.025594,
     "end_time": "2024-03-09T06:04:11.303187",
     "exception": false,
     "start_time": "2024-03-09T06:04:11.277593",
     "status": "completed"
    },
    "tags": []
   },
   "outputs": [
    {
     "data": {
      "text/plain": [
       "{'criterion': 'entropy',\n",
       " 'max_depth': 10,\n",
       " 'max_features': 'log2',\n",
       " 'n_estimators': 100}"
      ]
     },
     "execution_count": 14,
     "metadata": {},
     "output_type": "execute_result"
    }
   ],
   "source": [
    "grid.best_params_"
   ]
  },
  {
   "cell_type": "code",
   "execution_count": 15,
   "id": "93548f68",
   "metadata": {
    "execution": {
     "iopub.execute_input": "2024-03-09T06:04:11.330908Z",
     "iopub.status.busy": "2024-03-09T06:04:11.329852Z",
     "iopub.status.idle": "2024-03-09T06:04:11.338791Z",
     "shell.execute_reply": "2024-03-09T06:04:11.337730Z"
    },
    "papermill": {
     "duration": 0.025148,
     "end_time": "2024-03-09T06:04:11.341045",
     "exception": false,
     "start_time": "2024-03-09T06:04:11.315897",
     "status": "completed"
    },
    "tags": []
   },
   "outputs": [
    {
     "data": {
      "text/html": [
       "<style>#sk-container-id-2 {color: black;background-color: white;}#sk-container-id-2 pre{padding: 0;}#sk-container-id-2 div.sk-toggleable {background-color: white;}#sk-container-id-2 label.sk-toggleable__label {cursor: pointer;display: block;width: 100%;margin-bottom: 0;padding: 0.3em;box-sizing: border-box;text-align: center;}#sk-container-id-2 label.sk-toggleable__label-arrow:before {content: \"▸\";float: left;margin-right: 0.25em;color: #696969;}#sk-container-id-2 label.sk-toggleable__label-arrow:hover:before {color: black;}#sk-container-id-2 div.sk-estimator:hover label.sk-toggleable__label-arrow:before {color: black;}#sk-container-id-2 div.sk-toggleable__content {max-height: 0;max-width: 0;overflow: hidden;text-align: left;background-color: #f0f8ff;}#sk-container-id-2 div.sk-toggleable__content pre {margin: 0.2em;color: black;border-radius: 0.25em;background-color: #f0f8ff;}#sk-container-id-2 input.sk-toggleable__control:checked~div.sk-toggleable__content {max-height: 200px;max-width: 100%;overflow: auto;}#sk-container-id-2 input.sk-toggleable__control:checked~label.sk-toggleable__label-arrow:before {content: \"▾\";}#sk-container-id-2 div.sk-estimator input.sk-toggleable__control:checked~label.sk-toggleable__label {background-color: #d4ebff;}#sk-container-id-2 div.sk-label input.sk-toggleable__control:checked~label.sk-toggleable__label {background-color: #d4ebff;}#sk-container-id-2 input.sk-hidden--visually {border: 0;clip: rect(1px 1px 1px 1px);clip: rect(1px, 1px, 1px, 1px);height: 1px;margin: -1px;overflow: hidden;padding: 0;position: absolute;width: 1px;}#sk-container-id-2 div.sk-estimator {font-family: monospace;background-color: #f0f8ff;border: 1px dotted black;border-radius: 0.25em;box-sizing: border-box;margin-bottom: 0.5em;}#sk-container-id-2 div.sk-estimator:hover {background-color: #d4ebff;}#sk-container-id-2 div.sk-parallel-item::after {content: \"\";width: 100%;border-bottom: 1px solid gray;flex-grow: 1;}#sk-container-id-2 div.sk-label:hover label.sk-toggleable__label {background-color: #d4ebff;}#sk-container-id-2 div.sk-serial::before {content: \"\";position: absolute;border-left: 1px solid gray;box-sizing: border-box;top: 0;bottom: 0;left: 50%;z-index: 0;}#sk-container-id-2 div.sk-serial {display: flex;flex-direction: column;align-items: center;background-color: white;padding-right: 0.2em;padding-left: 0.2em;position: relative;}#sk-container-id-2 div.sk-item {position: relative;z-index: 1;}#sk-container-id-2 div.sk-parallel {display: flex;align-items: stretch;justify-content: center;background-color: white;position: relative;}#sk-container-id-2 div.sk-item::before, #sk-container-id-2 div.sk-parallel-item::before {content: \"\";position: absolute;border-left: 1px solid gray;box-sizing: border-box;top: 0;bottom: 0;left: 50%;z-index: -1;}#sk-container-id-2 div.sk-parallel-item {display: flex;flex-direction: column;z-index: 1;position: relative;background-color: white;}#sk-container-id-2 div.sk-parallel-item:first-child::after {align-self: flex-end;width: 50%;}#sk-container-id-2 div.sk-parallel-item:last-child::after {align-self: flex-start;width: 50%;}#sk-container-id-2 div.sk-parallel-item:only-child::after {width: 0;}#sk-container-id-2 div.sk-dashed-wrapped {border: 1px dashed gray;margin: 0 0.4em 0.5em 0.4em;box-sizing: border-box;padding-bottom: 0.4em;background-color: white;}#sk-container-id-2 div.sk-label label {font-family: monospace;font-weight: bold;display: inline-block;line-height: 1.2em;}#sk-container-id-2 div.sk-label-container {text-align: center;}#sk-container-id-2 div.sk-container {/* jupyter's `normalize.less` sets `[hidden] { display: none; }` but bootstrap.min.css set `[hidden] { display: none !important; }` so we also need the `!important` here to be able to override the default hidden behavior on the sphinx rendered scikit-learn.org. See: https://github.com/scikit-learn/scikit-learn/issues/21755 */display: inline-block !important;position: relative;}#sk-container-id-2 div.sk-text-repr-fallback {display: none;}</style><div id=\"sk-container-id-2\" class=\"sk-top-container\"><div class=\"sk-text-repr-fallback\"><pre>RandomForestClassifier(criterion=&#x27;entropy&#x27;, max_depth=10, max_features=&#x27;log2&#x27;,\n",
       "                       random_state=1)</pre><b>In a Jupyter environment, please rerun this cell to show the HTML representation or trust the notebook. <br />On GitHub, the HTML representation is unable to render, please try loading this page with nbviewer.org.</b></div><div class=\"sk-container\" hidden><div class=\"sk-item\"><div class=\"sk-estimator sk-toggleable\"><input class=\"sk-toggleable__control sk-hidden--visually\" id=\"sk-estimator-id-4\" type=\"checkbox\" checked><label for=\"sk-estimator-id-4\" class=\"sk-toggleable__label sk-toggleable__label-arrow\">RandomForestClassifier</label><div class=\"sk-toggleable__content\"><pre>RandomForestClassifier(criterion=&#x27;entropy&#x27;, max_depth=10, max_features=&#x27;log2&#x27;,\n",
       "                       random_state=1)</pre></div></div></div></div></div>"
      ],
      "text/plain": [
       "RandomForestClassifier(criterion='entropy', max_depth=10, max_features='log2',\n",
       "                       random_state=1)"
      ]
     },
     "execution_count": 15,
     "metadata": {},
     "output_type": "execute_result"
    }
   ],
   "source": [
    "grid.best_estimator_"
   ]
  },
  {
   "cell_type": "code",
   "execution_count": 16,
   "id": "39346ead",
   "metadata": {
    "execution": {
     "iopub.execute_input": "2024-03-09T06:04:11.370167Z",
     "iopub.status.busy": "2024-03-09T06:04:11.369222Z",
     "iopub.status.idle": "2024-03-09T06:04:11.389164Z",
     "shell.execute_reply": "2024-03-09T06:04:11.387984Z"
    },
    "papermill": {
     "duration": 0.037945,
     "end_time": "2024-03-09T06:04:11.392192",
     "exception": false,
     "start_time": "2024-03-09T06:04:11.354247",
     "status": "completed"
    },
    "tags": []
   },
   "outputs": [],
   "source": [
    "y_hat_optimized = grid.predict(X_test)"
   ]
  },
  {
   "cell_type": "code",
   "execution_count": 17,
   "id": "0d03655c",
   "metadata": {
    "execution": {
     "iopub.execute_input": "2024-03-09T06:04:11.423075Z",
     "iopub.status.busy": "2024-03-09T06:04:11.422430Z",
     "iopub.status.idle": "2024-03-09T06:04:11.432168Z",
     "shell.execute_reply": "2024-03-09T06:04:11.431114Z"
    },
    "papermill": {
     "duration": 0.026423,
     "end_time": "2024-03-09T06:04:11.434466",
     "exception": false,
     "start_time": "2024-03-09T06:04:11.408043",
     "status": "completed"
    },
    "tags": []
   },
   "outputs": [
    {
     "name": "stdout",
     "output_type": "stream",
     "text": [
      "Your submission was successfully saved!\n"
     ]
    }
   ],
   "source": [
    "output = pd.DataFrame({'PassengerId': test_data.PassengerId, 'Survived': y_hat_optimized})\n",
    "output.to_csv('submission.csv', index=False)\n",
    "print(\"Your submission was successfully saved!\")"
   ]
  },
  {
   "cell_type": "code",
   "execution_count": 18,
   "id": "400c5eb0",
   "metadata": {
    "execution": {
     "iopub.execute_input": "2024-03-09T06:04:11.465276Z",
     "iopub.status.busy": "2024-03-09T06:04:11.464808Z",
     "iopub.status.idle": "2024-03-09T06:04:11.487479Z",
     "shell.execute_reply": "2024-03-09T06:04:11.485995Z"
    },
    "papermill": {
     "duration": 0.040214,
     "end_time": "2024-03-09T06:04:11.489744",
     "exception": false,
     "start_time": "2024-03-09T06:04:11.449530",
     "status": "completed"
    },
    "tags": []
   },
   "outputs": [
    {
     "name": "stdout",
     "output_type": "stream",
     "text": [
      "Differences between the two CSV files:\n",
      "    Survived      \n",
      "        self other\n",
      "1        0.0   1.0\n",
      "4        0.0   1.0\n",
      "7        1.0   0.0\n",
      "18       0.0   1.0\n",
      "69       0.0   1.0\n",
      "89       1.0   0.0\n",
      "90       0.0   1.0\n",
      "104      0.0   1.0\n",
      "117      0.0   1.0\n",
      "149      1.0   0.0\n",
      "165      0.0   1.0\n",
      "196      1.0   0.0\n",
      "247      1.0   0.0\n",
      "249      0.0   1.0\n",
      "263      0.0   1.0\n",
      "273      0.0   1.0\n",
      "283      0.0   1.0\n",
      "284      0.0   1.0\n",
      "309      0.0   1.0\n",
      "333      0.0   1.0\n",
      "359      0.0   1.0\n",
      "383      0.0   1.0\n",
      "409      0.0   1.0\n"
     ]
    }
   ],
   "source": [
    "import pandas as pd\n",
    "\n",
    "# Load the CSV files into Pandas DataFrames\n",
    "df1 = pd.read_csv('submission.csv')\n",
    "df2 = pd.read_csv('submission1.csv')\n",
    "\n",
    "# Compare the two DataFrames and find the differences\n",
    "differences = df1.compare(df2)\n",
    "\n",
    "# Print the differences\n",
    "print(\"Differences between the two CSV files:\")\n",
    "print(differences)"
   ]
  }
 ],
 "metadata": {
  "kaggle": {
   "accelerator": "none",
   "dataSources": [
    {
     "databundleVersionId": 26502,
     "sourceId": 3136,
     "sourceType": "competition"
    }
   ],
   "dockerImageVersionId": 30664,
   "isGpuEnabled": false,
   "isInternetEnabled": true,
   "language": "python",
   "sourceType": "notebook"
  },
  "kernelspec": {
   "display_name": "Python 3",
   "language": "python",
   "name": "python3"
  },
  "language_info": {
   "codemirror_mode": {
    "name": "ipython",
    "version": 3
   },
   "file_extension": ".py",
   "mimetype": "text/x-python",
   "name": "python",
   "nbconvert_exporter": "python",
   "pygments_lexer": "ipython3",
   "version": "3.10.13"
  },
  "papermill": {
   "default_parameters": {},
   "duration": 10.614847,
   "end_time": "2024-03-09T06:04:12.123290",
   "environment_variables": {},
   "exception": null,
   "input_path": "__notebook__.ipynb",
   "output_path": "__notebook__.ipynb",
   "parameters": {},
   "start_time": "2024-03-09T06:04:01.508443",
   "version": "2.5.0"
  }
 },
 "nbformat": 4,
 "nbformat_minor": 5
}
