{
 "cells": [
  {
   "cell_type": "code",
   "execution_count": 1,
   "id": "50ebc2bc",
   "metadata": {
    "_cell_guid": "b1076dfc-b9ad-4769-8c92-a6c4dae69d19",
    "_uuid": "8f2839f25d086af736a60e9eeb907d3b93b6e0e5",
    "execution": {
     "iopub.execute_input": "2024-03-18T21:49:41.593985Z",
     "iopub.status.busy": "2024-03-18T21:49:41.593571Z",
     "iopub.status.idle": "2024-03-18T21:49:42.693056Z",
     "shell.execute_reply": "2024-03-18T21:49:42.691789Z"
    },
    "papermill": {
     "duration": 1.113281,
     "end_time": "2024-03-18T21:49:42.695784",
     "exception": false,
     "start_time": "2024-03-18T21:49:41.582503",
     "status": "completed"
    },
    "tags": []
   },
   "outputs": [
    {
     "name": "stdout",
     "output_type": "stream",
     "text": [
      "/kaggle/input/titanic/train.csv\n",
      "/kaggle/input/titanic/test.csv\n",
      "/kaggle/input/titanic/gender_submission.csv\n"
     ]
    }
   ],
   "source": [
    "# This Python 3 environment comes with many helpful analytics libraries installed\n",
    "# It is defined by the kaggle/python Docker image: https://github.com/kaggle/docker-python\n",
    "# For example, here's several helpful packages to load\n",
    "\n",
    "import numpy as np # linear algebra\n",
    "import pandas as pd # data processing, CSV file I/O (e.g. pd.read_csv)\n",
    "\n",
    "# Input data files are available in the read-only \"../input/\" directory\n",
    "# For example, running this (by clicking run or pressing Shift+Enter) will list all files under the input directory\n",
    "\n",
    "import os\n",
    "for dirname, _, filenames in os.walk('/kaggle/input'):\n",
    "    for filename in filenames:\n",
    "        print(os.path.join(dirname, filename))\n",
    "\n",
    "# You can write up to 20GB to the current directory (/kaggle/working/) that gets preserved as output when you create a version using \"Save & Run All\" \n",
    "# You can also write temporary files to /kaggle/temp/, but they won't be saved outside of the current session"
   ]
  },
  {
   "cell_type": "code",
   "execution_count": 2,
   "id": "cdde7841",
   "metadata": {
    "execution": {
     "iopub.execute_input": "2024-03-18T21:49:42.715994Z",
     "iopub.status.busy": "2024-03-18T21:49:42.715510Z",
     "iopub.status.idle": "2024-03-18T21:49:42.772525Z",
     "shell.execute_reply": "2024-03-18T21:49:42.771470Z"
    },
    "papermill": {
     "duration": 0.070184,
     "end_time": "2024-03-18T21:49:42.775135",
     "exception": false,
     "start_time": "2024-03-18T21:49:42.704951",
     "status": "completed"
    },
    "tags": []
   },
   "outputs": [
    {
     "data": {
      "text/html": [
       "<div>\n",
       "<style scoped>\n",
       "    .dataframe tbody tr th:only-of-type {\n",
       "        vertical-align: middle;\n",
       "    }\n",
       "\n",
       "    .dataframe tbody tr th {\n",
       "        vertical-align: top;\n",
       "    }\n",
       "\n",
       "    .dataframe thead th {\n",
       "        text-align: right;\n",
       "    }\n",
       "</style>\n",
       "<table border=\"1\" class=\"dataframe\">\n",
       "  <thead>\n",
       "    <tr style=\"text-align: right;\">\n",
       "      <th></th>\n",
       "      <th>PassengerId</th>\n",
       "      <th>Survived</th>\n",
       "      <th>Pclass</th>\n",
       "      <th>Name</th>\n",
       "      <th>Sex</th>\n",
       "      <th>Age</th>\n",
       "      <th>SibSp</th>\n",
       "      <th>Parch</th>\n",
       "      <th>Ticket</th>\n",
       "      <th>Fare</th>\n",
       "      <th>Cabin</th>\n",
       "      <th>Embarked</th>\n",
       "    </tr>\n",
       "  </thead>\n",
       "  <tbody>\n",
       "    <tr>\n",
       "      <th>0</th>\n",
       "      <td>1</td>\n",
       "      <td>0</td>\n",
       "      <td>3</td>\n",
       "      <td>Braund, Mr. Owen Harris</td>\n",
       "      <td>male</td>\n",
       "      <td>22.0</td>\n",
       "      <td>1</td>\n",
       "      <td>0</td>\n",
       "      <td>A/5 21171</td>\n",
       "      <td>7.2500</td>\n",
       "      <td>NaN</td>\n",
       "      <td>S</td>\n",
       "    </tr>\n",
       "    <tr>\n",
       "      <th>1</th>\n",
       "      <td>2</td>\n",
       "      <td>1</td>\n",
       "      <td>1</td>\n",
       "      <td>Cumings, Mrs. John Bradley (Florence Briggs Th...</td>\n",
       "      <td>female</td>\n",
       "      <td>38.0</td>\n",
       "      <td>1</td>\n",
       "      <td>0</td>\n",
       "      <td>PC 17599</td>\n",
       "      <td>71.2833</td>\n",
       "      <td>C85</td>\n",
       "      <td>C</td>\n",
       "    </tr>\n",
       "    <tr>\n",
       "      <th>2</th>\n",
       "      <td>3</td>\n",
       "      <td>1</td>\n",
       "      <td>3</td>\n",
       "      <td>Heikkinen, Miss. Laina</td>\n",
       "      <td>female</td>\n",
       "      <td>26.0</td>\n",
       "      <td>0</td>\n",
       "      <td>0</td>\n",
       "      <td>STON/O2. 3101282</td>\n",
       "      <td>7.9250</td>\n",
       "      <td>NaN</td>\n",
       "      <td>S</td>\n",
       "    </tr>\n",
       "    <tr>\n",
       "      <th>3</th>\n",
       "      <td>4</td>\n",
       "      <td>1</td>\n",
       "      <td>1</td>\n",
       "      <td>Futrelle, Mrs. Jacques Heath (Lily May Peel)</td>\n",
       "      <td>female</td>\n",
       "      <td>35.0</td>\n",
       "      <td>1</td>\n",
       "      <td>0</td>\n",
       "      <td>113803</td>\n",
       "      <td>53.1000</td>\n",
       "      <td>C123</td>\n",
       "      <td>S</td>\n",
       "    </tr>\n",
       "    <tr>\n",
       "      <th>4</th>\n",
       "      <td>5</td>\n",
       "      <td>0</td>\n",
       "      <td>3</td>\n",
       "      <td>Allen, Mr. William Henry</td>\n",
       "      <td>male</td>\n",
       "      <td>35.0</td>\n",
       "      <td>0</td>\n",
       "      <td>0</td>\n",
       "      <td>373450</td>\n",
       "      <td>8.0500</td>\n",
       "      <td>NaN</td>\n",
       "      <td>S</td>\n",
       "    </tr>\n",
       "  </tbody>\n",
       "</table>\n",
       "</div>"
      ],
      "text/plain": [
       "   PassengerId  Survived  Pclass  \\\n",
       "0            1         0       3   \n",
       "1            2         1       1   \n",
       "2            3         1       3   \n",
       "3            4         1       1   \n",
       "4            5         0       3   \n",
       "\n",
       "                                                Name     Sex   Age  SibSp  \\\n",
       "0                            Braund, Mr. Owen Harris    male  22.0      1   \n",
       "1  Cumings, Mrs. John Bradley (Florence Briggs Th...  female  38.0      1   \n",
       "2                             Heikkinen, Miss. Laina  female  26.0      0   \n",
       "3       Futrelle, Mrs. Jacques Heath (Lily May Peel)  female  35.0      1   \n",
       "4                           Allen, Mr. William Henry    male  35.0      0   \n",
       "\n",
       "   Parch            Ticket     Fare Cabin Embarked  \n",
       "0      0         A/5 21171   7.2500   NaN        S  \n",
       "1      0          PC 17599  71.2833   C85        C  \n",
       "2      0  STON/O2. 3101282   7.9250   NaN        S  \n",
       "3      0            113803  53.1000  C123        S  \n",
       "4      0            373450   8.0500   NaN        S  "
      ]
     },
     "execution_count": 2,
     "metadata": {},
     "output_type": "execute_result"
    }
   ],
   "source": [
    "train_data = pd.read_csv(\"/kaggle/input/titanic/train.csv\")\n",
    "train_data.head()"
   ]
  },
  {
   "cell_type": "code",
   "execution_count": 3,
   "id": "49efa1e0",
   "metadata": {
    "execution": {
     "iopub.execute_input": "2024-03-18T21:49:42.796575Z",
     "iopub.status.busy": "2024-03-18T21:49:42.795615Z",
     "iopub.status.idle": "2024-03-18T21:49:42.814521Z",
     "shell.execute_reply": "2024-03-18T21:49:42.813080Z"
    },
    "papermill": {
     "duration": 0.033078,
     "end_time": "2024-03-18T21:49:42.817579",
     "exception": false,
     "start_time": "2024-03-18T21:49:42.784501",
     "status": "completed"
    },
    "tags": []
   },
   "outputs": [
    {
     "data": {
      "text/plain": [
       "0"
      ]
     },
     "execution_count": 3,
     "metadata": {},
     "output_type": "execute_result"
    }
   ],
   "source": [
    "sum(train_data.duplicated())"
   ]
  },
  {
   "cell_type": "code",
   "execution_count": 4,
   "id": "c1f88d5d",
   "metadata": {
    "execution": {
     "iopub.execute_input": "2024-03-18T21:49:42.839274Z",
     "iopub.status.busy": "2024-03-18T21:49:42.838852Z",
     "iopub.status.idle": "2024-03-18T21:49:42.847857Z",
     "shell.execute_reply": "2024-03-18T21:49:42.846552Z"
    },
    "papermill": {
     "duration": 0.023464,
     "end_time": "2024-03-18T21:49:42.850700",
     "exception": false,
     "start_time": "2024-03-18T21:49:42.827236",
     "status": "completed"
    },
    "tags": []
   },
   "outputs": [],
   "source": [
    "train_data.drop_duplicates(inplace=True)"
   ]
  },
  {
   "cell_type": "code",
   "execution_count": 5,
   "id": "f576850f",
   "metadata": {
    "execution": {
     "iopub.execute_input": "2024-03-18T21:49:42.871745Z",
     "iopub.status.busy": "2024-03-18T21:49:42.871338Z",
     "iopub.status.idle": "2024-03-18T21:49:42.884095Z",
     "shell.execute_reply": "2024-03-18T21:49:42.883237Z"
    },
    "papermill": {
     "duration": 0.02641,
     "end_time": "2024-03-18T21:49:42.886676",
     "exception": false,
     "start_time": "2024-03-18T21:49:42.860266",
     "status": "completed"
    },
    "tags": []
   },
   "outputs": [
    {
     "data": {
      "text/plain": [
       "PassengerId    891\n",
       "Survived         2\n",
       "Pclass           3\n",
       "Name           891\n",
       "Sex              2\n",
       "Age             88\n",
       "SibSp            7\n",
       "Parch            7\n",
       "Ticket         681\n",
       "Fare           248\n",
       "Cabin          147\n",
       "Embarked         3\n",
       "dtype: int64"
      ]
     },
     "execution_count": 5,
     "metadata": {},
     "output_type": "execute_result"
    }
   ],
   "source": [
    "train_data.nunique()"
   ]
  },
  {
   "cell_type": "code",
   "execution_count": 6,
   "id": "4932371e",
   "metadata": {
    "execution": {
     "iopub.execute_input": "2024-03-18T21:49:42.907923Z",
     "iopub.status.busy": "2024-03-18T21:49:42.907566Z",
     "iopub.status.idle": "2024-03-18T21:49:42.929987Z",
     "shell.execute_reply": "2024-03-18T21:49:42.928790Z"
    },
    "papermill": {
     "duration": 0.03657,
     "end_time": "2024-03-18T21:49:42.932944",
     "exception": false,
     "start_time": "2024-03-18T21:49:42.896374",
     "status": "completed"
    },
    "tags": []
   },
   "outputs": [
    {
     "name": "stdout",
     "output_type": "stream",
     "text": [
      "<class 'pandas.core.frame.DataFrame'>\n",
      "RangeIndex: 891 entries, 0 to 890\n",
      "Data columns (total 12 columns):\n",
      " #   Column       Non-Null Count  Dtype  \n",
      "---  ------       --------------  -----  \n",
      " 0   PassengerId  891 non-null    int64  \n",
      " 1   Survived     891 non-null    int64  \n",
      " 2   Pclass       891 non-null    int64  \n",
      " 3   Name         891 non-null    object \n",
      " 4   Sex          891 non-null    object \n",
      " 5   Age          714 non-null    float64\n",
      " 6   SibSp        891 non-null    int64  \n",
      " 7   Parch        891 non-null    int64  \n",
      " 8   Ticket       891 non-null    object \n",
      " 9   Fare         891 non-null    float64\n",
      " 10  Cabin        204 non-null    object \n",
      " 11  Embarked     889 non-null    object \n",
      "dtypes: float64(2), int64(5), object(5)\n",
      "memory usage: 83.7+ KB\n"
     ]
    }
   ],
   "source": [
    "train_data.info()"
   ]
  },
  {
   "cell_type": "code",
   "execution_count": 7,
   "id": "6f0aa1b3",
   "metadata": {
    "execution": {
     "iopub.execute_input": "2024-03-18T21:49:42.954423Z",
     "iopub.status.busy": "2024-03-18T21:49:42.954011Z",
     "iopub.status.idle": "2024-03-18T21:49:42.977592Z",
     "shell.execute_reply": "2024-03-18T21:49:42.976376Z"
    },
    "papermill": {
     "duration": 0.037307,
     "end_time": "2024-03-18T21:49:42.980150",
     "exception": false,
     "start_time": "2024-03-18T21:49:42.942843",
     "status": "completed"
    },
    "tags": []
   },
   "outputs": [
    {
     "data": {
      "text/html": [
       "<div>\n",
       "<style scoped>\n",
       "    .dataframe tbody tr th:only-of-type {\n",
       "        vertical-align: middle;\n",
       "    }\n",
       "\n",
       "    .dataframe tbody tr th {\n",
       "        vertical-align: top;\n",
       "    }\n",
       "\n",
       "    .dataframe thead th {\n",
       "        text-align: right;\n",
       "    }\n",
       "</style>\n",
       "<table border=\"1\" class=\"dataframe\">\n",
       "  <thead>\n",
       "    <tr style=\"text-align: right;\">\n",
       "      <th></th>\n",
       "      <th>Name</th>\n",
       "      <th>Sex</th>\n",
       "      <th>Ticket</th>\n",
       "      <th>Cabin</th>\n",
       "      <th>Embarked</th>\n",
       "    </tr>\n",
       "  </thead>\n",
       "  <tbody>\n",
       "    <tr>\n",
       "      <th>count</th>\n",
       "      <td>891</td>\n",
       "      <td>891</td>\n",
       "      <td>891</td>\n",
       "      <td>204</td>\n",
       "      <td>889</td>\n",
       "    </tr>\n",
       "    <tr>\n",
       "      <th>unique</th>\n",
       "      <td>891</td>\n",
       "      <td>2</td>\n",
       "      <td>681</td>\n",
       "      <td>147</td>\n",
       "      <td>3</td>\n",
       "    </tr>\n",
       "    <tr>\n",
       "      <th>top</th>\n",
       "      <td>Braund, Mr. Owen Harris</td>\n",
       "      <td>male</td>\n",
       "      <td>347082</td>\n",
       "      <td>B96 B98</td>\n",
       "      <td>S</td>\n",
       "    </tr>\n",
       "    <tr>\n",
       "      <th>freq</th>\n",
       "      <td>1</td>\n",
       "      <td>577</td>\n",
       "      <td>7</td>\n",
       "      <td>4</td>\n",
       "      <td>644</td>\n",
       "    </tr>\n",
       "  </tbody>\n",
       "</table>\n",
       "</div>"
      ],
      "text/plain": [
       "                           Name   Sex  Ticket    Cabin Embarked\n",
       "count                       891   891     891      204      889\n",
       "unique                      891     2     681      147        3\n",
       "top     Braund, Mr. Owen Harris  male  347082  B96 B98        S\n",
       "freq                          1   577       7        4      644"
      ]
     },
     "execution_count": 7,
     "metadata": {},
     "output_type": "execute_result"
    }
   ],
   "source": [
    "train_data.describe(include=['O'])"
   ]
  },
  {
   "cell_type": "code",
   "execution_count": 8,
   "id": "56c1a2d1",
   "metadata": {
    "execution": {
     "iopub.execute_input": "2024-03-18T21:49:43.002352Z",
     "iopub.status.busy": "2024-03-18T21:49:43.001669Z",
     "iopub.status.idle": "2024-03-18T21:49:43.009220Z",
     "shell.execute_reply": "2024-03-18T21:49:43.007815Z"
    },
    "papermill": {
     "duration": 0.021533,
     "end_time": "2024-03-18T21:49:43.011574",
     "exception": false,
     "start_time": "2024-03-18T21:49:42.990041",
     "status": "completed"
    },
    "tags": []
   },
   "outputs": [
    {
     "name": "stdout",
     "output_type": "stream",
     "text": [
      "['male' 'female']\n"
     ]
    }
   ],
   "source": [
    "unique_labels = train_data[\"Sex\"].explode().unique()\n",
    "print(unique_labels)"
   ]
  },
  {
   "cell_type": "code",
   "execution_count": 9,
   "id": "7c067a12",
   "metadata": {
    "execution": {
     "iopub.execute_input": "2024-03-18T21:49:43.034872Z",
     "iopub.status.busy": "2024-03-18T21:49:43.034208Z",
     "iopub.status.idle": "2024-03-18T21:49:45.024034Z",
     "shell.execute_reply": "2024-03-18T21:49:45.022414Z"
    },
    "papermill": {
     "duration": 2.00544,
     "end_time": "2024-03-18T21:49:45.027031",
     "exception": false,
     "start_time": "2024-03-18T21:49:43.021591",
     "status": "completed"
    },
    "tags": []
   },
   "outputs": [
    {
     "name": "stdout",
     "output_type": "stream",
     "text": [
      "<class 'pandas.core.frame.DataFrame'>\n",
      "RangeIndex: 891 entries, 0 to 890\n",
      "Data columns (total 16 columns):\n",
      " #   Column           Non-Null Count  Dtype   \n",
      "---  ------           --------------  -----   \n",
      " 0   PassengerId      891 non-null    int64   \n",
      " 1   Survived         891 non-null    int64   \n",
      " 2   Pclass           891 non-null    int64   \n",
      " 3   Name             891 non-null    object  \n",
      " 4   Sex              891 non-null    int64   \n",
      " 5   SibSp            891 non-null    int64   \n",
      " 6   Parch            891 non-null    int64   \n",
      " 7   Ticket           891 non-null    object  \n",
      " 8   Fare             891 non-null    float64 \n",
      " 9   Cabin            891 non-null    int64   \n",
      " 10  Embarked         891 non-null    int64   \n",
      " 11  CabinLetter      891 non-null    object  \n",
      " 12  AgeCategory      891 non-null    category\n",
      " 13  CabinOrdinal     891 non-null    int64   \n",
      " 14  SexOrdinal       891 non-null    int64   \n",
      " 15  EmbarkedOrdinal  891 non-null    int64   \n",
      "dtypes: category(1), float64(1), int64(11), object(3)\n",
      "memory usage: 105.6+ KB\n",
      "None\n"
     ]
    }
   ],
   "source": [
    "import pandas as pd\n",
    "import numpy as np\n",
    "from sklearn.impute import SimpleImputer\n",
    "\n",
    "# Extract the 'Cabin' column\n",
    "cabin_column = train_data[['Cabin']]\n",
    "embarked_column = train_data[['Embarked']]\n",
    "\n",
    "\n",
    "# Use SimpleImputer to fill in NaN values in the 'Cabin' column\n",
    "imputer = SimpleImputer(strategy='most_frequent')\n",
    "cabin_column_imputed = imputer.fit_transform(cabin_column)\n",
    "embarked_column_imputed = imputer.fit_transform(embarked_column)\n",
    "\n",
    "# Flatten the 2D array to a 1D array using ravel()\n",
    "cabin_column_imputed = cabin_column_imputed.ravel()\n",
    "train_data['Embarked']=embarked_column_imputed.ravel()\n",
    "\n",
    "# Convert the NumPy array to a pandas Series\n",
    "cabin_column_imputed_series = pd.Series(cabin_column_imputed)\n",
    "\n",
    "# Extract the cabin letter\n",
    "train_data['CabinLetter'] = cabin_column_imputed_series.astype(str).str[0]\n",
    "\n",
    "# age related median transform\n",
    "age_column = train_data[['Age']]\n",
    "imputer = SimpleImputer(strategy='median')\n",
    "train_data[['Age']]=imputer.fit_transform(age_column)\n",
    "\n",
    "fare_column = train_data[['Fare']]\n",
    "train_data[['Fare']]=imputer.fit_transform(fare_column)\n",
    "\n",
    "# Define your age bins and labels\n",
    "age_bins = [0, 18, 35, 50, 100]  # You can adjust these bins as needed\n",
    "age_labels = ['0-18', '19-35', '36-50', '51+']\n",
    "\n",
    "# Create a new categorical column 'AgeCategory' based on the bins and labels\n",
    "train_data['AgeCategory'] = pd.cut(train_data['Age'], bins=age_bins, labels=age_labels, include_lowest=True)\n",
    "\n",
    "# Drop the original 'Age' column if you no longer want to use it in the analysis\n",
    "train_data = train_data.drop('Age', axis=1)\n",
    "\n",
    "\n",
    "# Map the cabin letter to ordinal categories\n",
    "cabin_mapping = {'A': 1, 'B': 2, 'C': 3, 'D': 4, 'E': 5, 'F': 6, 'G': 7, 'T': 8}  # Add more categories as needed\n",
    "embarked_mapping = {'S': 1, 'C': 2, 'Q': 3}\n",
    "gender_mapping = {'male': 1, 'female': 2}\n",
    "train_data['CabinOrdinal'] = train_data['CabinLetter'].map(cabin_mapping)\n",
    "train_data['SexOrdinal'] = train_data['Sex'].map(gender_mapping)\n",
    "train_data['Cabin']=train_data['CabinOrdinal']\n",
    "train_data['EmbarkedOrdinal'] = train_data['Embarked'].map(embarked_mapping)\n",
    "train_data['Embarked']=train_data['EmbarkedOrdinal']\n",
    "train_data['Sex']=train_data['SexOrdinal']\n",
    "# Display the result\n",
    "#print(train_data[['Cabin', 'CabinLetter', 'CabinOrdinal', 'EmbarkedOrdinal']])\n",
    "print(train_data.info())"
   ]
  },
  {
   "cell_type": "code",
   "execution_count": 10,
   "id": "4d758ed8",
   "metadata": {
    "execution": {
     "iopub.execute_input": "2024-03-18T21:49:45.050298Z",
     "iopub.status.busy": "2024-03-18T21:49:45.049887Z",
     "iopub.status.idle": "2024-03-18T21:49:45.070718Z",
     "shell.execute_reply": "2024-03-18T21:49:45.069491Z"
    },
    "papermill": {
     "duration": 0.035905,
     "end_time": "2024-03-18T21:49:45.073539",
     "exception": false,
     "start_time": "2024-03-18T21:49:45.037634",
     "status": "completed"
    },
    "tags": []
   },
   "outputs": [],
   "source": [
    "from sklearn.preprocessing import StandardScaler\n",
    "train_data=train_data.drop(columns=['EmbarkedOrdinal'])\n",
    "train_data=train_data.drop(columns=['SexOrdinal'])\n",
    "train_data=train_data.drop(columns=['Ticket'])\n",
    "train_data=train_data.drop(columns=['Name'])\n",
    "train_data=train_data.drop(columns=['CabinOrdinal'])\n",
    "train_data=train_data.drop(columns=['CabinLetter'])\n",
    "\n",
    "\n",
    "\n",
    "columns_to_scale = ['Pclass', 'SibSp', 'Parch', 'Fare', 'Cabin', 'Embarked']\n",
    "\n",
    "# Initialize the StandardScaler\n",
    "scaler = StandardScaler()\n",
    "\n",
    "# Scale the selected columns\n",
    "train_data[columns_to_scale] = scaler.fit_transform(train_data[columns_to_scale])\n",
    "\n",
    "\n",
    "\n"
   ]
  },
  {
   "cell_type": "code",
   "execution_count": 11,
   "id": "a5e05231",
   "metadata": {
    "execution": {
     "iopub.execute_input": "2024-03-18T21:49:45.096036Z",
     "iopub.status.busy": "2024-03-18T21:49:45.095612Z",
     "iopub.status.idle": "2024-03-18T21:49:45.121853Z",
     "shell.execute_reply": "2024-03-18T21:49:45.120244Z"
    },
    "papermill": {
     "duration": 0.040995,
     "end_time": "2024-03-18T21:49:45.124811",
     "exception": false,
     "start_time": "2024-03-18T21:49:45.083816",
     "status": "completed"
    },
    "tags": []
   },
   "outputs": [
    {
     "data": {
      "text/html": [
       "<div>\n",
       "<style scoped>\n",
       "    .dataframe tbody tr th:only-of-type {\n",
       "        vertical-align: middle;\n",
       "    }\n",
       "\n",
       "    .dataframe tbody tr th {\n",
       "        vertical-align: top;\n",
       "    }\n",
       "\n",
       "    .dataframe thead th {\n",
       "        text-align: right;\n",
       "    }\n",
       "</style>\n",
       "<table border=\"1\" class=\"dataframe\">\n",
       "  <thead>\n",
       "    <tr style=\"text-align: right;\">\n",
       "      <th></th>\n",
       "      <th>PassengerId</th>\n",
       "      <th>Pclass</th>\n",
       "      <th>Name</th>\n",
       "      <th>Sex</th>\n",
       "      <th>Age</th>\n",
       "      <th>SibSp</th>\n",
       "      <th>Parch</th>\n",
       "      <th>Ticket</th>\n",
       "      <th>Fare</th>\n",
       "      <th>Cabin</th>\n",
       "      <th>Embarked</th>\n",
       "    </tr>\n",
       "  </thead>\n",
       "  <tbody>\n",
       "    <tr>\n",
       "      <th>0</th>\n",
       "      <td>892</td>\n",
       "      <td>3</td>\n",
       "      <td>Kelly, Mr. James</td>\n",
       "      <td>male</td>\n",
       "      <td>34.5</td>\n",
       "      <td>0</td>\n",
       "      <td>0</td>\n",
       "      <td>330911</td>\n",
       "      <td>7.8292</td>\n",
       "      <td>NaN</td>\n",
       "      <td>Q</td>\n",
       "    </tr>\n",
       "    <tr>\n",
       "      <th>1</th>\n",
       "      <td>893</td>\n",
       "      <td>3</td>\n",
       "      <td>Wilkes, Mrs. James (Ellen Needs)</td>\n",
       "      <td>female</td>\n",
       "      <td>47.0</td>\n",
       "      <td>1</td>\n",
       "      <td>0</td>\n",
       "      <td>363272</td>\n",
       "      <td>7.0000</td>\n",
       "      <td>NaN</td>\n",
       "      <td>S</td>\n",
       "    </tr>\n",
       "    <tr>\n",
       "      <th>2</th>\n",
       "      <td>894</td>\n",
       "      <td>2</td>\n",
       "      <td>Myles, Mr. Thomas Francis</td>\n",
       "      <td>male</td>\n",
       "      <td>62.0</td>\n",
       "      <td>0</td>\n",
       "      <td>0</td>\n",
       "      <td>240276</td>\n",
       "      <td>9.6875</td>\n",
       "      <td>NaN</td>\n",
       "      <td>Q</td>\n",
       "    </tr>\n",
       "    <tr>\n",
       "      <th>3</th>\n",
       "      <td>895</td>\n",
       "      <td>3</td>\n",
       "      <td>Wirz, Mr. Albert</td>\n",
       "      <td>male</td>\n",
       "      <td>27.0</td>\n",
       "      <td>0</td>\n",
       "      <td>0</td>\n",
       "      <td>315154</td>\n",
       "      <td>8.6625</td>\n",
       "      <td>NaN</td>\n",
       "      <td>S</td>\n",
       "    </tr>\n",
       "    <tr>\n",
       "      <th>4</th>\n",
       "      <td>896</td>\n",
       "      <td>3</td>\n",
       "      <td>Hirvonen, Mrs. Alexander (Helga E Lindqvist)</td>\n",
       "      <td>female</td>\n",
       "      <td>22.0</td>\n",
       "      <td>1</td>\n",
       "      <td>1</td>\n",
       "      <td>3101298</td>\n",
       "      <td>12.2875</td>\n",
       "      <td>NaN</td>\n",
       "      <td>S</td>\n",
       "    </tr>\n",
       "  </tbody>\n",
       "</table>\n",
       "</div>"
      ],
      "text/plain": [
       "   PassengerId  Pclass                                          Name     Sex  \\\n",
       "0          892       3                              Kelly, Mr. James    male   \n",
       "1          893       3              Wilkes, Mrs. James (Ellen Needs)  female   \n",
       "2          894       2                     Myles, Mr. Thomas Francis    male   \n",
       "3          895       3                              Wirz, Mr. Albert    male   \n",
       "4          896       3  Hirvonen, Mrs. Alexander (Helga E Lindqvist)  female   \n",
       "\n",
       "    Age  SibSp  Parch   Ticket     Fare Cabin Embarked  \n",
       "0  34.5      0      0   330911   7.8292   NaN        Q  \n",
       "1  47.0      1      0   363272   7.0000   NaN        S  \n",
       "2  62.0      0      0   240276   9.6875   NaN        Q  \n",
       "3  27.0      0      0   315154   8.6625   NaN        S  \n",
       "4  22.0      1      1  3101298  12.2875   NaN        S  "
      ]
     },
     "execution_count": 11,
     "metadata": {},
     "output_type": "execute_result"
    }
   ],
   "source": [
    "test_data = pd.read_csv(\"/kaggle/input/titanic/test.csv\")\n",
    "test_data.head()"
   ]
  },
  {
   "cell_type": "code",
   "execution_count": 12,
   "id": "34811919",
   "metadata": {
    "execution": {
     "iopub.execute_input": "2024-03-18T21:49:45.148092Z",
     "iopub.status.busy": "2024-03-18T21:49:45.147684Z",
     "iopub.status.idle": "2024-03-18T21:49:45.165123Z",
     "shell.execute_reply": "2024-03-18T21:49:45.164041Z"
    },
    "papermill": {
     "duration": 0.03174,
     "end_time": "2024-03-18T21:49:45.167378",
     "exception": false,
     "start_time": "2024-03-18T21:49:45.135638",
     "status": "completed"
    },
    "tags": []
   },
   "outputs": [
    {
     "data": {
      "text/html": [
       "<div>\n",
       "<style scoped>\n",
       "    .dataframe tbody tr th:only-of-type {\n",
       "        vertical-align: middle;\n",
       "    }\n",
       "\n",
       "    .dataframe tbody tr th {\n",
       "        vertical-align: top;\n",
       "    }\n",
       "\n",
       "    .dataframe thead th {\n",
       "        text-align: right;\n",
       "    }\n",
       "</style>\n",
       "<table border=\"1\" class=\"dataframe\">\n",
       "  <thead>\n",
       "    <tr style=\"text-align: right;\">\n",
       "      <th></th>\n",
       "      <th>PassengerId</th>\n",
       "      <th>Survived</th>\n",
       "      <th>Pclass</th>\n",
       "      <th>Sex</th>\n",
       "      <th>SibSp</th>\n",
       "      <th>Parch</th>\n",
       "      <th>Fare</th>\n",
       "      <th>Cabin</th>\n",
       "      <th>Embarked</th>\n",
       "      <th>AgeCategory</th>\n",
       "    </tr>\n",
       "  </thead>\n",
       "  <tbody>\n",
       "    <tr>\n",
       "      <th>0</th>\n",
       "      <td>1</td>\n",
       "      <td>0</td>\n",
       "      <td>0.827377</td>\n",
       "      <td>1</td>\n",
       "      <td>0.432793</td>\n",
       "      <td>-0.473674</td>\n",
       "      <td>-0.502445</td>\n",
       "      <td>-0.348001</td>\n",
       "      <td>-0.568837</td>\n",
       "      <td>19-35</td>\n",
       "    </tr>\n",
       "    <tr>\n",
       "      <th>1</th>\n",
       "      <td>2</td>\n",
       "      <td>1</td>\n",
       "      <td>-1.566107</td>\n",
       "      <td>2</td>\n",
       "      <td>0.432793</td>\n",
       "      <td>-0.473674</td>\n",
       "      <td>0.786845</td>\n",
       "      <td>0.743791</td>\n",
       "      <td>1.005181</td>\n",
       "      <td>36-50</td>\n",
       "    </tr>\n",
       "    <tr>\n",
       "      <th>2</th>\n",
       "      <td>3</td>\n",
       "      <td>1</td>\n",
       "      <td>0.827377</td>\n",
       "      <td>2</td>\n",
       "      <td>-0.474545</td>\n",
       "      <td>-0.473674</td>\n",
       "      <td>-0.488854</td>\n",
       "      <td>-0.348001</td>\n",
       "      <td>-0.568837</td>\n",
       "      <td>19-35</td>\n",
       "    </tr>\n",
       "    <tr>\n",
       "      <th>3</th>\n",
       "      <td>4</td>\n",
       "      <td>1</td>\n",
       "      <td>-1.566107</td>\n",
       "      <td>2</td>\n",
       "      <td>0.432793</td>\n",
       "      <td>-0.473674</td>\n",
       "      <td>0.420730</td>\n",
       "      <td>0.743791</td>\n",
       "      <td>-0.568837</td>\n",
       "      <td>19-35</td>\n",
       "    </tr>\n",
       "    <tr>\n",
       "      <th>4</th>\n",
       "      <td>5</td>\n",
       "      <td>0</td>\n",
       "      <td>0.827377</td>\n",
       "      <td>1</td>\n",
       "      <td>-0.474545</td>\n",
       "      <td>-0.473674</td>\n",
       "      <td>-0.486337</td>\n",
       "      <td>-0.348001</td>\n",
       "      <td>-0.568837</td>\n",
       "      <td>19-35</td>\n",
       "    </tr>\n",
       "  </tbody>\n",
       "</table>\n",
       "</div>"
      ],
      "text/plain": [
       "   PassengerId  Survived    Pclass  Sex     SibSp     Parch      Fare  \\\n",
       "0            1         0  0.827377    1  0.432793 -0.473674 -0.502445   \n",
       "1            2         1 -1.566107    2  0.432793 -0.473674  0.786845   \n",
       "2            3         1  0.827377    2 -0.474545 -0.473674 -0.488854   \n",
       "3            4         1 -1.566107    2  0.432793 -0.473674  0.420730   \n",
       "4            5         0  0.827377    1 -0.474545 -0.473674 -0.486337   \n",
       "\n",
       "      Cabin  Embarked AgeCategory  \n",
       "0 -0.348001 -0.568837       19-35  \n",
       "1  0.743791  1.005181       36-50  \n",
       "2 -0.348001 -0.568837       19-35  \n",
       "3  0.743791 -0.568837       19-35  \n",
       "4 -0.348001 -0.568837       19-35  "
      ]
     },
     "execution_count": 12,
     "metadata": {},
     "output_type": "execute_result"
    }
   ],
   "source": [
    "train_data.head()"
   ]
  },
  {
   "cell_type": "markdown",
   "id": "0d07a26a",
   "metadata": {
    "execution": {
     "iopub.execute_input": "2024-03-09T05:51:04.082211Z",
     "iopub.status.busy": "2024-03-09T05:51:04.081792Z",
     "iopub.status.idle": "2024-03-09T05:51:06.641851Z",
     "shell.execute_reply": "2024-03-09T05:51:06.639686Z",
     "shell.execute_reply.started": "2024-03-09T05:51:04.082174Z"
    },
    "papermill": {
     "duration": 0.010577,
     "end_time": "2024-03-18T21:49:45.188708",
     "exception": false,
     "start_time": "2024-03-18T21:49:45.178131",
     "status": "completed"
    },
    "tags": []
   },
   "source": [
    "import matplotlib.pyplot as plt\n",
    "import seaborn as sns\n",
    "sns.set()\n",
    "sns.heatmap(train_data.corr(), cmap='coolwarm',annot=True)\n",
    "plt.show()"
   ]
  },
  {
   "cell_type": "markdown",
   "id": "011cc0ae",
   "metadata": {
    "execution": {
     "iopub.execute_input": "2024-03-09T05:54:49.358365Z",
     "iopub.status.busy": "2024-03-09T05:54:49.356097Z",
     "iopub.status.idle": "2024-03-09T05:54:51.885614Z",
     "shell.execute_reply": "2024-03-09T05:54:51.883995Z",
     "shell.execute_reply.started": "2024-03-09T05:54:49.358321Z"
    },
    "papermill": {
     "duration": 0.010548,
     "end_time": "2024-03-18T21:49:45.210500",
     "exception": false,
     "start_time": "2024-03-18T21:49:45.199952",
     "status": "completed"
    },
    "tags": []
   },
   "source": [
    "import matplotlib.pyplot as plt\n",
    "import seaborn as sns\n",
    "sns.set()\n",
    "sns.heatmap(train_data.corr(), cmap='coolwarm',annot=True)\n",
    "plt.show()"
   ]
  },
  {
   "cell_type": "markdown",
   "id": "221a352e",
   "metadata": {
    "execution": {
     "iopub.execute_input": "2024-03-09T05:58:03.161271Z",
     "iopub.status.busy": "2024-03-09T05:58:03.160722Z",
     "iopub.status.idle": "2024-03-09T05:58:20.847964Z",
     "shell.execute_reply": "2024-03-09T05:58:20.846805Z",
     "shell.execute_reply.started": "2024-03-09T05:58:03.161139Z"
    },
    "papermill": {
     "duration": 0.010564,
     "end_time": "2024-03-18T21:49:45.231843",
     "exception": false,
     "start_time": "2024-03-18T21:49:45.221279",
     "status": "completed"
    },
    "tags": []
   },
   "source": [
    "sns.set_style('whitegrid')\n",
    "sns.pairplot(train_data)\n",
    "plt.show()"
   ]
  },
  {
   "cell_type": "code",
   "execution_count": 13,
   "id": "fc3ff210",
   "metadata": {
    "execution": {
     "iopub.execute_input": "2024-03-18T21:49:45.255539Z",
     "iopub.status.busy": "2024-03-18T21:49:45.255049Z",
     "iopub.status.idle": "2024-03-18T21:49:45.305149Z",
     "shell.execute_reply": "2024-03-18T21:49:45.303326Z"
    },
    "papermill": {
     "duration": 0.065289,
     "end_time": "2024-03-18T21:49:45.307779",
     "exception": false,
     "start_time": "2024-03-18T21:49:45.242490",
     "status": "completed"
    },
    "tags": []
   },
   "outputs": [
    {
     "name": "stdout",
     "output_type": "stream",
     "text": [
      "<class 'pandas.core.frame.DataFrame'>\n",
      "RangeIndex: 418 entries, 0 to 417\n",
      "Data columns (total 15 columns):\n",
      " #   Column           Non-Null Count  Dtype   \n",
      "---  ------           --------------  -----   \n",
      " 0   PassengerId      418 non-null    int64   \n",
      " 1   Pclass           418 non-null    int64   \n",
      " 2   Name             418 non-null    object  \n",
      " 3   Sex              418 non-null    int64   \n",
      " 4   SibSp            418 non-null    int64   \n",
      " 5   Parch            418 non-null    int64   \n",
      " 6   Ticket           418 non-null    object  \n",
      " 7   Fare             418 non-null    float64 \n",
      " 8   Cabin            418 non-null    int64   \n",
      " 9   Embarked         418 non-null    int64   \n",
      " 10  CabinLetter      418 non-null    object  \n",
      " 11  AgeCategory      418 non-null    category\n",
      " 12  CabinOrdinal     418 non-null    int64   \n",
      " 13  SexOrdinal       418 non-null    int64   \n",
      " 14  EmbarkedOrdinal  418 non-null    int64   \n",
      "dtypes: category(1), float64(1), int64(10), object(3)\n",
      "memory usage: 46.5+ KB\n",
      "None\n"
     ]
    }
   ],
   "source": [
    "import pandas as pd\n",
    "import numpy as np\n",
    "from sklearn.impute import SimpleImputer\n",
    "\n",
    "# Extract the 'Cabin' column\n",
    "cabin_column = test_data[['Cabin']]\n",
    "embarked_column = test_data[['Embarked']]\n",
    "\n",
    "# Use SimpleImputer to fill in NaN values in the 'Cabin' column\n",
    "imputer = SimpleImputer(strategy='most_frequent')\n",
    "cabin_column_imputed = imputer.fit_transform(cabin_column)\n",
    "embarked_column_imputed = imputer.fit_transform(embarked_column)\n",
    "\n",
    "# Flatten the 2D array to a 1D array using ravel()\n",
    "cabin_column_imputed = cabin_column_imputed.ravel()\n",
    "test_data['Embarked']=embarked_column_imputed.ravel()\n",
    "# Convert the NumPy array to a pandas Series\n",
    "cabin_column_imputed_series = pd.Series(cabin_column_imputed)\n",
    "\n",
    "# Extract the cabin letter\n",
    "test_data['CabinLetter'] = cabin_column_imputed_series.astype(str).str[0]\n",
    "\n",
    "# age related median transform\n",
    "age_column = test_data[['Age']]\n",
    "fare_column = test_data[['Fare']]\n",
    "imputer = SimpleImputer(strategy='median')\n",
    "test_data[['Age']]=imputer.fit_transform(age_column)\n",
    "test_data[['Fare']]=imputer.fit_transform(fare_column)\n",
    "\n",
    "\n",
    "\n",
    "# Define your age bins and labels\n",
    "age_bins = [0, 18, 35, 50, 100]  # You can adjust these bins as needed\n",
    "age_labels = ['0-18', '19-35', '36-50', '51+']\n",
    "\n",
    "# Create a new categorical column 'AgeCategory' based on the bins and labels\n",
    "test_data['AgeCategory'] = pd.cut(test_data['Age'], bins=age_bins, labels=age_labels, include_lowest=True)\n",
    "\n",
    "# Drop the original 'Age' column if you no longer want to use it in the analysis\n",
    "test_data = test_data.drop('Age', axis=1)\n",
    "\n",
    "\n",
    "# Map the cabin letter to ordinal categories\n",
    "cabin_mapping = {'A': 1, 'B': 2, 'C': 3, 'D': 4, 'E': 5, 'F': 6, 'G': 7, 'T': 8}  # Add more categories as needed\n",
    "embarked_mapping = {'S': 1, 'C': 2, 'Q': 3}\n",
    "gender_mapping = {'male': 1, 'female': 2}\n",
    "test_data['CabinOrdinal'] = test_data['CabinLetter'].map(cabin_mapping)\n",
    "test_data['SexOrdinal'] = test_data['Sex'].map(gender_mapping)\n",
    "test_data['Cabin']=test_data['CabinOrdinal']\n",
    "test_data['EmbarkedOrdinal'] = test_data['Embarked'].map(embarked_mapping)\n",
    "test_data['Embarked']=test_data['EmbarkedOrdinal']\n",
    "test_data['Sex']=test_data['SexOrdinal']\n",
    "# Display the result\n",
    "print(test_data.info())"
   ]
  },
  {
   "cell_type": "code",
   "execution_count": 14,
   "id": "38c4ca27",
   "metadata": {
    "execution": {
     "iopub.execute_input": "2024-03-18T21:49:45.332161Z",
     "iopub.status.busy": "2024-03-18T21:49:45.331493Z",
     "iopub.status.idle": "2024-03-18T21:49:45.353335Z",
     "shell.execute_reply": "2024-03-18T21:49:45.352030Z"
    },
    "papermill": {
     "duration": 0.03711,
     "end_time": "2024-03-18T21:49:45.355942",
     "exception": false,
     "start_time": "2024-03-18T21:49:45.318832",
     "status": "completed"
    },
    "tags": []
   },
   "outputs": [],
   "source": [
    "test_data=test_data.drop(columns=['EmbarkedOrdinal'])\n",
    "test_data=test_data.drop(columns=['SexOrdinal'])\n",
    "test_data=test_data.drop(columns=['Ticket'])\n",
    "test_data=test_data.drop(columns=['Name'])\n",
    "test_data=test_data.drop(columns=['CabinOrdinal'])\n",
    "test_data=test_data.drop(columns=['CabinLetter'])\n",
    "columns_to_scale = ['Pclass', 'SibSp', 'Parch', 'Fare', 'Cabin', 'Embarked']\n",
    "\n",
    "# Initialize the StandardScaler\n",
    "scaler = StandardScaler()\n",
    "\n",
    "# Scale the selected columns\n",
    "test_data[columns_to_scale] = scaler.fit_transform(test_data[columns_to_scale])\n"
   ]
  },
  {
   "cell_type": "code",
   "execution_count": 15,
   "id": "07fb0463",
   "metadata": {
    "execution": {
     "iopub.execute_input": "2024-03-18T21:49:45.379673Z",
     "iopub.status.busy": "2024-03-18T21:49:45.379238Z",
     "iopub.status.idle": "2024-03-18T21:49:45.392296Z",
     "shell.execute_reply": "2024-03-18T21:49:45.391064Z"
    },
    "papermill": {
     "duration": 0.027982,
     "end_time": "2024-03-18T21:49:45.394922",
     "exception": false,
     "start_time": "2024-03-18T21:49:45.366940",
     "status": "completed"
    },
    "tags": []
   },
   "outputs": [
    {
     "name": "stdout",
     "output_type": "stream",
     "text": [
      "<class 'pandas.core.frame.DataFrame'>\n",
      "RangeIndex: 891 entries, 0 to 890\n",
      "Data columns (total 10 columns):\n",
      " #   Column       Non-Null Count  Dtype   \n",
      "---  ------       --------------  -----   \n",
      " 0   PassengerId  891 non-null    int64   \n",
      " 1   Survived     891 non-null    int64   \n",
      " 2   Pclass       891 non-null    float64 \n",
      " 3   Sex          891 non-null    int64   \n",
      " 4   SibSp        891 non-null    float64 \n",
      " 5   Parch        891 non-null    float64 \n",
      " 6   Fare         891 non-null    float64 \n",
      " 7   Cabin        891 non-null    float64 \n",
      " 8   Embarked     891 non-null    float64 \n",
      " 9   AgeCategory  891 non-null    category\n",
      "dtypes: category(1), float64(6), int64(3)\n",
      "memory usage: 63.8 KB\n"
     ]
    }
   ],
   "source": [
    "train_data.info()"
   ]
  },
  {
   "cell_type": "code",
   "execution_count": 16,
   "id": "0d5ae87c",
   "metadata": {
    "execution": {
     "iopub.execute_input": "2024-03-18T21:49:45.420285Z",
     "iopub.status.busy": "2024-03-18T21:49:45.419588Z",
     "iopub.status.idle": "2024-03-18T21:49:45.427353Z",
     "shell.execute_reply": "2024-03-18T21:49:45.426193Z"
    },
    "papermill": {
     "duration": 0.023516,
     "end_time": "2024-03-18T21:49:45.429884",
     "exception": false,
     "start_time": "2024-03-18T21:49:45.406368",
     "status": "completed"
    },
    "tags": []
   },
   "outputs": [
    {
     "name": "stdout",
     "output_type": "stream",
     "text": [
      "Columns with NaN values: Index([], dtype='object')\n"
     ]
    }
   ],
   "source": [
    "columns_with_nan = train_data.columns[train_data.isnull().any()]\n",
    "\n",
    "# Display columns with NaN values\n",
    "print(\"Columns with NaN values:\", columns_with_nan)"
   ]
  },
  {
   "cell_type": "markdown",
   "id": "356e5e0d",
   "metadata": {
    "execution": {
     "iopub.execute_input": "2024-03-07T04:12:57.464738Z",
     "iopub.status.busy": "2024-03-07T04:12:57.464297Z",
     "iopub.status.idle": "2024-03-07T04:12:57.504898Z",
     "shell.execute_reply": "2024-03-07T04:12:57.503091Z",
     "shell.execute_reply.started": "2024-03-07T04:12:57.464696Z"
    },
    "papermill": {
     "duration": 0.011047,
     "end_time": "2024-03-18T21:49:45.452151",
     "exception": false,
     "start_time": "2024-03-18T21:49:45.441104",
     "status": "completed"
    },
    "tags": []
   },
   "source": []
  },
  {
   "cell_type": "markdown",
   "id": "5d5f5aee",
   "metadata": {
    "execution": {
     "iopub.execute_input": "2024-03-09T05:55:41.586684Z",
     "iopub.status.busy": "2024-03-09T05:55:41.586276Z",
     "iopub.status.idle": "2024-03-09T05:55:41.622996Z",
     "shell.execute_reply": "2024-03-09T05:55:41.621609Z",
     "shell.execute_reply.started": "2024-03-09T05:55:41.586650Z"
    },
    "papermill": {
     "duration": 0.011057,
     "end_time": "2024-03-18T21:49:45.475117",
     "exception": false,
     "start_time": "2024-03-18T21:49:45.464060",
     "status": "completed"
    },
    "tags": []
   },
   "source": [
    "women = train_data.loc[train_data.Sex == 2][\"Survived\"]\n",
    "rate_women = sum(women)/len(women)\n",
    "\n",
    "print(\"% of women who survived:\", rate_women)"
   ]
  },
  {
   "cell_type": "markdown",
   "id": "88223d7c",
   "metadata": {
    "papermill": {
     "duration": 0.011389,
     "end_time": "2024-03-18T21:49:45.498119",
     "exception": false,
     "start_time": "2024-03-18T21:49:45.486730",
     "status": "completed"
    },
    "tags": []
   },
   "source": [
    "men = train_data.loc[train_data.Sex == 1][\"Survived\"]\n",
    "rate_men = sum(men)/len(men)\n",
    "\n",
    "print(\"% of men who survived:\", rate_men)"
   ]
  },
  {
   "cell_type": "code",
   "execution_count": null,
   "id": "75249faf",
   "metadata": {
    "papermill": {
     "duration": 0.011174,
     "end_time": "2024-03-18T21:49:45.521479",
     "exception": false,
     "start_time": "2024-03-18T21:49:45.510305",
     "status": "completed"
    },
    "tags": []
   },
   "outputs": [],
   "source": []
  },
  {
   "cell_type": "code",
   "execution_count": 17,
   "id": "ca23062f",
   "metadata": {
    "execution": {
     "iopub.execute_input": "2024-03-18T21:49:45.546203Z",
     "iopub.status.busy": "2024-03-18T21:49:45.545825Z",
     "iopub.status.idle": "2024-03-18T21:49:47.929117Z",
     "shell.execute_reply": "2024-03-18T21:49:47.927860Z"
    },
    "papermill": {
     "duration": 2.399114,
     "end_time": "2024-03-18T21:49:47.932205",
     "exception": false,
     "start_time": "2024-03-18T21:49:45.533091",
     "status": "completed"
    },
    "tags": []
   },
   "outputs": [
    {
     "name": "stdout",
     "output_type": "stream",
     "text": [
      "Fitting 5 folds for each of 2 candidates, totalling 10 fits\n",
      "[CV] END criterion=entropy, max_depth=3, max_features=sqrt, n_estimators=6; total time=   0.0s\n",
      "[CV] END criterion=entropy, max_depth=3, max_features=sqrt, n_estimators=6; total time=   0.0s\n",
      "[CV] END criterion=entropy, max_depth=3, max_features=sqrt, n_estimators=6; total time=   0.0s\n",
      "[CV] END criterion=entropy, max_depth=3, max_features=sqrt, n_estimators=6; total time=   0.0s\n",
      "[CV] END criterion=entropy, max_depth=3, max_features=sqrt, n_estimators=6; total time=   0.0s\n",
      "[CV] END criterion=gini, max_depth=3, max_features=sqrt, n_estimators=6; total time=   0.0s\n",
      "[CV] END criterion=gini, max_depth=3, max_features=sqrt, n_estimators=6; total time=   0.0s\n",
      "[CV] END criterion=gini, max_depth=3, max_features=sqrt, n_estimators=6; total time=   0.0s\n",
      "[CV] END criterion=gini, max_depth=3, max_features=sqrt, n_estimators=6; total time=   0.0s\n",
      "[CV] END criterion=gini, max_depth=3, max_features=sqrt, n_estimators=6; total time=   0.0s\n",
      "(891, 4)\n"
     ]
    }
   ],
   "source": [
    "from sklearn.ensemble import RandomForestClassifier\n",
    "from sklearn.neighbors import KNeighborsClassifier\n",
    "from sklearn.model_selection import GridSearchCV\n",
    "import numpy as np\n",
    "\n",
    "# Define the features and target variable\n",
    "features = [\"Pclass\", \"Sex\", \"SibSp\", \"Parch\"] #[\"Pclass\", \"Sex\", \"SibSp\", \"Parch\", \"Fare\", \"Cabin\", \"Embarked\"]\n",
    "X_train = pd.get_dummies(train_data[features])\n",
    "y_train = train_data[\"Survived\"]\n",
    "X_test = pd.get_dummies(test_data[features])\n",
    "\n",
    "# RandomForestClassifier with optimum parameters\n",
    "rf_param_grid = {'n_estimators':[6], 'criterion':['entropy','gini'], 'max_features':['sqrt'], 'max_depth':[3]}\n",
    "\n",
    "#rf_model = RandomForestClassifier(random_state=1)\n",
    "rf_model = RandomForestClassifier(n_estimators=100, max_depth=5, random_state=1)\n",
    "#rf_grid_search = GridSearchCV(rf_model, rf_param_grid, cv=5, scoring='accuracy')\n",
    "rf_grid_search = GridSearchCV(estimator=RandomForestClassifier(random_state=1),param_grid= rf_param_grid, refit = True, verbose=2, cv=5 )\n",
    "rf_grid_search.fit(X_train, y_train)\n",
    "rf_best_model = rf_grid_search.best_estimator_\n",
    "rf_predictions = rf_best_model.predict(X_test)\n",
    "\n",
    "\n",
    "# Define the parameter grid for k\n",
    "k_param_grid = {'n_neighbors': range(1, 21)}\n",
    "\n",
    "# Perform grid search to find the best k value\n",
    "knn_model = KNeighborsClassifier()\n",
    "knn_grid_search = GridSearchCV(knn_model, k_param_grid, cv=5, scoring='accuracy')\n",
    "knn_grid_search.fit(X_train, y_train)\n",
    "knn_best_model = knn_grid_search.best_estimator_\n",
    "knn_predictions = knn_best_model.predict(X_test)\n",
    "\n",
    "# Compute average predictions\n",
    "average_predictions = np.round((rf_predictions + knn_predictions) / 2).astype(int)\n",
    "\n",
    "# Create a DataFrame with the average predictions\n",
    "output = pd.DataFrame({'PassengerId': test_data.PassengerId, 'Survived': average_predictions})\n",
    "\n",
    "# Print the shape of X_train\n",
    "print(X_train.shape)\n",
    "\n"
   ]
  },
  {
   "cell_type": "code",
   "execution_count": 18,
   "id": "4c3e189b",
   "metadata": {
    "execution": {
     "iopub.execute_input": "2024-03-18T21:49:47.956854Z",
     "iopub.status.busy": "2024-03-18T21:49:47.956428Z",
     "iopub.status.idle": "2024-03-18T21:49:47.966193Z",
     "shell.execute_reply": "2024-03-18T21:49:47.964709Z"
    },
    "papermill": {
     "duration": 0.024879,
     "end_time": "2024-03-18T21:49:47.968609",
     "exception": false,
     "start_time": "2024-03-18T21:49:47.943730",
     "status": "completed"
    },
    "tags": []
   },
   "outputs": [
    {
     "name": "stdout",
     "output_type": "stream",
     "text": [
      "Your submission was successfully saved!\n"
     ]
    }
   ],
   "source": [
    "output.to_csv('submission.csv', index=False)\n",
    "print(\"Your submission was successfully saved!\")"
   ]
  },
  {
   "cell_type": "code",
   "execution_count": 19,
   "id": "398b0ae2",
   "metadata": {
    "execution": {
     "iopub.execute_input": "2024-03-18T21:49:47.994101Z",
     "iopub.status.busy": "2024-03-18T21:49:47.993690Z",
     "iopub.status.idle": "2024-03-18T21:49:48.004410Z",
     "shell.execute_reply": "2024-03-18T21:49:48.002420Z"
    },
    "papermill": {
     "duration": 0.026449,
     "end_time": "2024-03-18T21:49:48.006790",
     "exception": false,
     "start_time": "2024-03-18T21:49:47.980341",
     "status": "completed"
    },
    "tags": []
   },
   "outputs": [
    {
     "name": "stdout",
     "output_type": "stream",
     "text": [
      "Differences between the two CSV files:\n"
     ]
    }
   ],
   "source": [
    "import pandas as pd\n",
    "\n",
    "# Load the CSV files into Pandas DataFrames\n",
    "df1 = pd.read_csv('submission.csv')\n",
    "#df2 = pd.read_csv('submission1.csv')\n",
    "\n",
    "# Compare the two DataFrames and find the differences\n",
    "#differences = df1.compare(df2)\n",
    "\n",
    "# Print the differences\n",
    "print(\"Differences between the two CSV files:\")\n",
    "#print(differences)"
   ]
  }
 ],
 "metadata": {
  "kaggle": {
   "accelerator": "none",
   "dataSources": [
    {
     "databundleVersionId": 26502,
     "sourceId": 3136,
     "sourceType": "competition"
    }
   ],
   "dockerImageVersionId": 30664,
   "isGpuEnabled": false,
   "isInternetEnabled": true,
   "language": "python",
   "sourceType": "notebook"
  },
  "kernelspec": {
   "display_name": "Python 3",
   "language": "python",
   "name": "python3"
  },
  "language_info": {
   "codemirror_mode": {
    "name": "ipython",
    "version": 3
   },
   "file_extension": ".py",
   "mimetype": "text/x-python",
   "name": "python",
   "nbconvert_exporter": "python",
   "pygments_lexer": "ipython3",
   "version": "3.10.13"
  },
  "papermill": {
   "default_parameters": {},
   "duration": 10.353846,
   "end_time": "2024-03-18T21:49:48.639403",
   "environment_variables": {},
   "exception": null,
   "input_path": "__notebook__.ipynb",
   "output_path": "__notebook__.ipynb",
   "parameters": {},
   "start_time": "2024-03-18T21:49:38.285557",
   "version": "2.5.0"
  }
 },
 "nbformat": 4,
 "nbformat_minor": 5
}
