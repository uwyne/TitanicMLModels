{
 "cells": [
  {
   "cell_type": "code",
   "execution_count": 1,
   "id": "e56a7f1d",
   "metadata": {
    "_cell_guid": "b1076dfc-b9ad-4769-8c92-a6c4dae69d19",
    "_uuid": "8f2839f25d086af736a60e9eeb907d3b93b6e0e5",
    "execution": {
     "iopub.execute_input": "2024-03-07T04:41:28.107729Z",
     "iopub.status.busy": "2024-03-07T04:41:28.107316Z",
     "iopub.status.idle": "2024-03-07T04:41:28.896283Z",
     "shell.execute_reply": "2024-03-07T04:41:28.894425Z"
    },
    "papermill": {
     "duration": 0.798519,
     "end_time": "2024-03-07T04:41:28.898860",
     "exception": false,
     "start_time": "2024-03-07T04:41:28.100341",
     "status": "completed"
    },
    "tags": []
   },
   "outputs": [
    {
     "name": "stdout",
     "output_type": "stream",
     "text": [
      "/kaggle/input/titanic/train.csv\n",
      "/kaggle/input/titanic/test.csv\n",
      "/kaggle/input/titanic/gender_submission.csv\n"
     ]
    }
   ],
   "source": [
    "# This Python 3 environment comes with many helpful analytics libraries installed\n",
    "# It is defined by the kaggle/python Docker image: https://github.com/kaggle/docker-python\n",
    "# For example, here's several helpful packages to load\n",
    "\n",
    "import numpy as np # linear algebra\n",
    "import pandas as pd # data processing, CSV file I/O (e.g. pd.read_csv)\n",
    "\n",
    "# Input data files are available in the read-only \"../input/\" directory\n",
    "# For example, running this (by clicking run or pressing Shift+Enter) will list all files under the input directory\n",
    "\n",
    "import os\n",
    "for dirname, _, filenames in os.walk('/kaggle/input'):\n",
    "    for filename in filenames:\n",
    "        print(os.path.join(dirname, filename))\n",
    "\n",
    "# You can write up to 20GB to the current directory (/kaggle/working/) that gets preserved as output when you create a version using \"Save & Run All\" \n",
    "# You can also write temporary files to /kaggle/temp/, but they won't be saved outside of the current session"
   ]
  },
  {
   "cell_type": "code",
   "execution_count": 2,
   "id": "45d2c2e7",
   "metadata": {
    "execution": {
     "iopub.execute_input": "2024-03-07T04:41:28.910970Z",
     "iopub.status.busy": "2024-03-07T04:41:28.910467Z",
     "iopub.status.idle": "2024-03-07T04:41:28.947662Z",
     "shell.execute_reply": "2024-03-07T04:41:28.946574Z"
    },
    "papermill": {
     "duration": 0.045795,
     "end_time": "2024-03-07T04:41:28.949956",
     "exception": false,
     "start_time": "2024-03-07T04:41:28.904161",
     "status": "completed"
    },
    "tags": []
   },
   "outputs": [
    {
     "data": {
      "text/html": [
       "<div>\n",
       "<style scoped>\n",
       "    .dataframe tbody tr th:only-of-type {\n",
       "        vertical-align: middle;\n",
       "    }\n",
       "\n",
       "    .dataframe tbody tr th {\n",
       "        vertical-align: top;\n",
       "    }\n",
       "\n",
       "    .dataframe thead th {\n",
       "        text-align: right;\n",
       "    }\n",
       "</style>\n",
       "<table border=\"1\" class=\"dataframe\">\n",
       "  <thead>\n",
       "    <tr style=\"text-align: right;\">\n",
       "      <th></th>\n",
       "      <th>PassengerId</th>\n",
       "      <th>Survived</th>\n",
       "      <th>Pclass</th>\n",
       "      <th>Name</th>\n",
       "      <th>Sex</th>\n",
       "      <th>Age</th>\n",
       "      <th>SibSp</th>\n",
       "      <th>Parch</th>\n",
       "      <th>Ticket</th>\n",
       "      <th>Fare</th>\n",
       "      <th>Cabin</th>\n",
       "      <th>Embarked</th>\n",
       "    </tr>\n",
       "  </thead>\n",
       "  <tbody>\n",
       "    <tr>\n",
       "      <th>0</th>\n",
       "      <td>1</td>\n",
       "      <td>0</td>\n",
       "      <td>3</td>\n",
       "      <td>Braund, Mr. Owen Harris</td>\n",
       "      <td>male</td>\n",
       "      <td>22.0</td>\n",
       "      <td>1</td>\n",
       "      <td>0</td>\n",
       "      <td>A/5 21171</td>\n",
       "      <td>7.2500</td>\n",
       "      <td>NaN</td>\n",
       "      <td>S</td>\n",
       "    </tr>\n",
       "    <tr>\n",
       "      <th>1</th>\n",
       "      <td>2</td>\n",
       "      <td>1</td>\n",
       "      <td>1</td>\n",
       "      <td>Cumings, Mrs. John Bradley (Florence Briggs Th...</td>\n",
       "      <td>female</td>\n",
       "      <td>38.0</td>\n",
       "      <td>1</td>\n",
       "      <td>0</td>\n",
       "      <td>PC 17599</td>\n",
       "      <td>71.2833</td>\n",
       "      <td>C85</td>\n",
       "      <td>C</td>\n",
       "    </tr>\n",
       "    <tr>\n",
       "      <th>2</th>\n",
       "      <td>3</td>\n",
       "      <td>1</td>\n",
       "      <td>3</td>\n",
       "      <td>Heikkinen, Miss. Laina</td>\n",
       "      <td>female</td>\n",
       "      <td>26.0</td>\n",
       "      <td>0</td>\n",
       "      <td>0</td>\n",
       "      <td>STON/O2. 3101282</td>\n",
       "      <td>7.9250</td>\n",
       "      <td>NaN</td>\n",
       "      <td>S</td>\n",
       "    </tr>\n",
       "    <tr>\n",
       "      <th>3</th>\n",
       "      <td>4</td>\n",
       "      <td>1</td>\n",
       "      <td>1</td>\n",
       "      <td>Futrelle, Mrs. Jacques Heath (Lily May Peel)</td>\n",
       "      <td>female</td>\n",
       "      <td>35.0</td>\n",
       "      <td>1</td>\n",
       "      <td>0</td>\n",
       "      <td>113803</td>\n",
       "      <td>53.1000</td>\n",
       "      <td>C123</td>\n",
       "      <td>S</td>\n",
       "    </tr>\n",
       "    <tr>\n",
       "      <th>4</th>\n",
       "      <td>5</td>\n",
       "      <td>0</td>\n",
       "      <td>3</td>\n",
       "      <td>Allen, Mr. William Henry</td>\n",
       "      <td>male</td>\n",
       "      <td>35.0</td>\n",
       "      <td>0</td>\n",
       "      <td>0</td>\n",
       "      <td>373450</td>\n",
       "      <td>8.0500</td>\n",
       "      <td>NaN</td>\n",
       "      <td>S</td>\n",
       "    </tr>\n",
       "  </tbody>\n",
       "</table>\n",
       "</div>"
      ],
      "text/plain": [
       "   PassengerId  Survived  Pclass  \\\n",
       "0            1         0       3   \n",
       "1            2         1       1   \n",
       "2            3         1       3   \n",
       "3            4         1       1   \n",
       "4            5         0       3   \n",
       "\n",
       "                                                Name     Sex   Age  SibSp  \\\n",
       "0                            Braund, Mr. Owen Harris    male  22.0      1   \n",
       "1  Cumings, Mrs. John Bradley (Florence Briggs Th...  female  38.0      1   \n",
       "2                             Heikkinen, Miss. Laina  female  26.0      0   \n",
       "3       Futrelle, Mrs. Jacques Heath (Lily May Peel)  female  35.0      1   \n",
       "4                           Allen, Mr. William Henry    male  35.0      0   \n",
       "\n",
       "   Parch            Ticket     Fare Cabin Embarked  \n",
       "0      0         A/5 21171   7.2500   NaN        S  \n",
       "1      0          PC 17599  71.2833   C85        C  \n",
       "2      0  STON/O2. 3101282   7.9250   NaN        S  \n",
       "3      0            113803  53.1000  C123        S  \n",
       "4      0            373450   8.0500   NaN        S  "
      ]
     },
     "execution_count": 2,
     "metadata": {},
     "output_type": "execute_result"
    }
   ],
   "source": [
    "train_data = pd.read_csv(\"/kaggle/input/titanic/train.csv\")\n",
    "train_data.head()"
   ]
  },
  {
   "cell_type": "code",
   "execution_count": 3,
   "id": "609e9d37",
   "metadata": {
    "execution": {
     "iopub.execute_input": "2024-03-07T04:41:28.962198Z",
     "iopub.status.busy": "2024-03-07T04:41:28.961823Z",
     "iopub.status.idle": "2024-03-07T04:41:28.976768Z",
     "shell.execute_reply": "2024-03-07T04:41:28.975767Z"
    },
    "papermill": {
     "duration": 0.023531,
     "end_time": "2024-03-07T04:41:28.978708",
     "exception": false,
     "start_time": "2024-03-07T04:41:28.955177",
     "status": "completed"
    },
    "tags": []
   },
   "outputs": [
    {
     "data": {
      "text/plain": [
       "0"
      ]
     },
     "execution_count": 3,
     "metadata": {},
     "output_type": "execute_result"
    }
   ],
   "source": [
    "sum(train_data.duplicated())"
   ]
  },
  {
   "cell_type": "code",
   "execution_count": 4,
   "id": "f7167111",
   "metadata": {
    "execution": {
     "iopub.execute_input": "2024-03-07T04:41:28.990631Z",
     "iopub.status.busy": "2024-03-07T04:41:28.990024Z",
     "iopub.status.idle": "2024-03-07T04:41:28.996355Z",
     "shell.execute_reply": "2024-03-07T04:41:28.995647Z"
    },
    "papermill": {
     "duration": 0.014316,
     "end_time": "2024-03-07T04:41:28.998270",
     "exception": false,
     "start_time": "2024-03-07T04:41:28.983954",
     "status": "completed"
    },
    "tags": []
   },
   "outputs": [],
   "source": [
    "train_data.drop_duplicates(inplace=True)"
   ]
  },
  {
   "cell_type": "code",
   "execution_count": 5,
   "id": "fcc485ec",
   "metadata": {
    "execution": {
     "iopub.execute_input": "2024-03-07T04:41:29.010408Z",
     "iopub.status.busy": "2024-03-07T04:41:29.009778Z",
     "iopub.status.idle": "2024-03-07T04:41:29.021077Z",
     "shell.execute_reply": "2024-03-07T04:41:29.020159Z"
    },
    "papermill": {
     "duration": 0.019627,
     "end_time": "2024-03-07T04:41:29.023068",
     "exception": false,
     "start_time": "2024-03-07T04:41:29.003441",
     "status": "completed"
    },
    "tags": []
   },
   "outputs": [
    {
     "data": {
      "text/plain": [
       "PassengerId    891\n",
       "Survived         2\n",
       "Pclass           3\n",
       "Name           891\n",
       "Sex              2\n",
       "Age             88\n",
       "SibSp            7\n",
       "Parch            7\n",
       "Ticket         681\n",
       "Fare           248\n",
       "Cabin          147\n",
       "Embarked         3\n",
       "dtype: int64"
      ]
     },
     "execution_count": 5,
     "metadata": {},
     "output_type": "execute_result"
    }
   ],
   "source": [
    "train_data.nunique()"
   ]
  },
  {
   "cell_type": "code",
   "execution_count": 6,
   "id": "6c412dd1",
   "metadata": {
    "execution": {
     "iopub.execute_input": "2024-03-07T04:41:29.038369Z",
     "iopub.status.busy": "2024-03-07T04:41:29.037411Z",
     "iopub.status.idle": "2024-03-07T04:41:29.057310Z",
     "shell.execute_reply": "2024-03-07T04:41:29.055710Z"
    },
    "papermill": {
     "duration": 0.031253,
     "end_time": "2024-03-07T04:41:29.059665",
     "exception": false,
     "start_time": "2024-03-07T04:41:29.028412",
     "status": "completed"
    },
    "tags": []
   },
   "outputs": [
    {
     "name": "stdout",
     "output_type": "stream",
     "text": [
      "<class 'pandas.core.frame.DataFrame'>\n",
      "RangeIndex: 891 entries, 0 to 890\n",
      "Data columns (total 12 columns):\n",
      " #   Column       Non-Null Count  Dtype  \n",
      "---  ------       --------------  -----  \n",
      " 0   PassengerId  891 non-null    int64  \n",
      " 1   Survived     891 non-null    int64  \n",
      " 2   Pclass       891 non-null    int64  \n",
      " 3   Name         891 non-null    object \n",
      " 4   Sex          891 non-null    object \n",
      " 5   Age          714 non-null    float64\n",
      " 6   SibSp        891 non-null    int64  \n",
      " 7   Parch        891 non-null    int64  \n",
      " 8   Ticket       891 non-null    object \n",
      " 9   Fare         891 non-null    float64\n",
      " 10  Cabin        204 non-null    object \n",
      " 11  Embarked     889 non-null    object \n",
      "dtypes: float64(2), int64(5), object(5)\n",
      "memory usage: 83.7+ KB\n"
     ]
    }
   ],
   "source": [
    "train_data.info()"
   ]
  },
  {
   "cell_type": "code",
   "execution_count": 7,
   "id": "e93daeca",
   "metadata": {
    "execution": {
     "iopub.execute_input": "2024-03-07T04:41:29.072798Z",
     "iopub.status.busy": "2024-03-07T04:41:29.072419Z",
     "iopub.status.idle": "2024-03-07T04:41:29.091203Z",
     "shell.execute_reply": "2024-03-07T04:41:29.090140Z"
    },
    "papermill": {
     "duration": 0.028105,
     "end_time": "2024-03-07T04:41:29.093432",
     "exception": false,
     "start_time": "2024-03-07T04:41:29.065327",
     "status": "completed"
    },
    "tags": []
   },
   "outputs": [
    {
     "data": {
      "text/html": [
       "<div>\n",
       "<style scoped>\n",
       "    .dataframe tbody tr th:only-of-type {\n",
       "        vertical-align: middle;\n",
       "    }\n",
       "\n",
       "    .dataframe tbody tr th {\n",
       "        vertical-align: top;\n",
       "    }\n",
       "\n",
       "    .dataframe thead th {\n",
       "        text-align: right;\n",
       "    }\n",
       "</style>\n",
       "<table border=\"1\" class=\"dataframe\">\n",
       "  <thead>\n",
       "    <tr style=\"text-align: right;\">\n",
       "      <th></th>\n",
       "      <th>Name</th>\n",
       "      <th>Sex</th>\n",
       "      <th>Ticket</th>\n",
       "      <th>Cabin</th>\n",
       "      <th>Embarked</th>\n",
       "    </tr>\n",
       "  </thead>\n",
       "  <tbody>\n",
       "    <tr>\n",
       "      <th>count</th>\n",
       "      <td>891</td>\n",
       "      <td>891</td>\n",
       "      <td>891</td>\n",
       "      <td>204</td>\n",
       "      <td>889</td>\n",
       "    </tr>\n",
       "    <tr>\n",
       "      <th>unique</th>\n",
       "      <td>891</td>\n",
       "      <td>2</td>\n",
       "      <td>681</td>\n",
       "      <td>147</td>\n",
       "      <td>3</td>\n",
       "    </tr>\n",
       "    <tr>\n",
       "      <th>top</th>\n",
       "      <td>Braund, Mr. Owen Harris</td>\n",
       "      <td>male</td>\n",
       "      <td>347082</td>\n",
       "      <td>B96 B98</td>\n",
       "      <td>S</td>\n",
       "    </tr>\n",
       "    <tr>\n",
       "      <th>freq</th>\n",
       "      <td>1</td>\n",
       "      <td>577</td>\n",
       "      <td>7</td>\n",
       "      <td>4</td>\n",
       "      <td>644</td>\n",
       "    </tr>\n",
       "  </tbody>\n",
       "</table>\n",
       "</div>"
      ],
      "text/plain": [
       "                           Name   Sex  Ticket    Cabin Embarked\n",
       "count                       891   891     891      204      889\n",
       "unique                      891     2     681      147        3\n",
       "top     Braund, Mr. Owen Harris  male  347082  B96 B98        S\n",
       "freq                          1   577       7        4      644"
      ]
     },
     "execution_count": 7,
     "metadata": {},
     "output_type": "execute_result"
    }
   ],
   "source": [
    "train_data.describe(include=['O'])"
   ]
  },
  {
   "cell_type": "code",
   "execution_count": 8,
   "id": "e7040517",
   "metadata": {
    "execution": {
     "iopub.execute_input": "2024-03-07T04:41:29.106523Z",
     "iopub.status.busy": "2024-03-07T04:41:29.105953Z",
     "iopub.status.idle": "2024-03-07T04:41:29.112902Z",
     "shell.execute_reply": "2024-03-07T04:41:29.111693Z"
    },
    "papermill": {
     "duration": 0.015995,
     "end_time": "2024-03-07T04:41:29.115004",
     "exception": false,
     "start_time": "2024-03-07T04:41:29.099009",
     "status": "completed"
    },
    "tags": []
   },
   "outputs": [
    {
     "name": "stdout",
     "output_type": "stream",
     "text": [
      "['male' 'female']\n"
     ]
    }
   ],
   "source": [
    "unique_labels = train_data[\"Sex\"].explode().unique()\n",
    "print(unique_labels)"
   ]
  },
  {
   "cell_type": "code",
   "execution_count": 9,
   "id": "8d591c51",
   "metadata": {
    "execution": {
     "iopub.execute_input": "2024-03-07T04:41:29.128608Z",
     "iopub.status.busy": "2024-03-07T04:41:29.127670Z",
     "iopub.status.idle": "2024-03-07T04:41:30.486711Z",
     "shell.execute_reply": "2024-03-07T04:41:30.485294Z"
    },
    "papermill": {
     "duration": 1.368401,
     "end_time": "2024-03-07T04:41:30.489202",
     "exception": false,
     "start_time": "2024-03-07T04:41:29.120801",
     "status": "completed"
    },
    "tags": []
   },
   "outputs": [
    {
     "name": "stdout",
     "output_type": "stream",
     "text": [
      "<class 'pandas.core.frame.DataFrame'>\n",
      "RangeIndex: 891 entries, 0 to 890\n",
      "Data columns (total 16 columns):\n",
      " #   Column           Non-Null Count  Dtype  \n",
      "---  ------           --------------  -----  \n",
      " 0   PassengerId      891 non-null    int64  \n",
      " 1   Survived         891 non-null    int64  \n",
      " 2   Pclass           891 non-null    int64  \n",
      " 3   Name             891 non-null    object \n",
      " 4   Sex              891 non-null    int64  \n",
      " 5   Age              714 non-null    float64\n",
      " 6   SibSp            891 non-null    int64  \n",
      " 7   Parch            891 non-null    int64  \n",
      " 8   Ticket           891 non-null    object \n",
      " 9   Fare             891 non-null    float64\n",
      " 10  Cabin            891 non-null    int64  \n",
      " 11  Embarked         891 non-null    int64  \n",
      " 12  CabinLetter      891 non-null    object \n",
      " 13  CabinOrdinal     891 non-null    int64  \n",
      " 14  SexOrdinal       891 non-null    int64  \n",
      " 15  EmbarkedOrdinal  891 non-null    int64  \n",
      "dtypes: float64(2), int64(11), object(3)\n",
      "memory usage: 111.5+ KB\n",
      "None\n"
     ]
    }
   ],
   "source": [
    "import pandas as pd\n",
    "import numpy as np\n",
    "from sklearn.impute import SimpleImputer\n",
    "\n",
    "# Extract the 'Cabin' column\n",
    "cabin_column = train_data[['Cabin']]\n",
    "embarked_column = train_data[['Embarked']]\n",
    "\n",
    "# Use SimpleImputer to fill in NaN values in the 'Cabin' column\n",
    "imputer = SimpleImputer(strategy='most_frequent')\n",
    "cabin_column_imputed = imputer.fit_transform(cabin_column)\n",
    "embarked_column_imputed = imputer.fit_transform(embarked_column)\n",
    "\n",
    "# Flatten the 2D array to a 1D array using ravel()\n",
    "cabin_column_imputed = cabin_column_imputed.ravel()\n",
    "train_data['Embarked']=embarked_column_imputed.ravel()\n",
    "\n",
    "# Convert the NumPy array to a pandas Series\n",
    "cabin_column_imputed_series = pd.Series(cabin_column_imputed)\n",
    "\n",
    "# Extract the cabin letter\n",
    "train_data['CabinLetter'] = cabin_column_imputed_series.astype(str).str[0]\n",
    "\n",
    "# Map the cabin letter to ordinal categories\n",
    "cabin_mapping = {'A': 1, 'B': 2, 'C': 3, 'D': 4, 'E': 5, 'F': 6, 'G': 7, 'T': 8}  # Add more categories as needed\n",
    "embarked_mapping = {'S': 1, 'C': 2, 'Q': 3}\n",
    "gender_mapping = {'male': 1, 'female': 2}\n",
    "train_data['CabinOrdinal'] = train_data['CabinLetter'].map(cabin_mapping)\n",
    "train_data['SexOrdinal'] = train_data['Sex'].map(gender_mapping)\n",
    "train_data['Cabin']=train_data['CabinOrdinal']\n",
    "train_data['EmbarkedOrdinal'] = train_data['Embarked'].map(embarked_mapping)\n",
    "train_data['Embarked']=train_data['EmbarkedOrdinal']\n",
    "train_data['Sex']=train_data['SexOrdinal']\n",
    "# Display the result\n",
    "#print(train_data[['Cabin', 'CabinLetter', 'CabinOrdinal', 'EmbarkedOrdinal']])\n",
    "print(train_data.info())"
   ]
  },
  {
   "cell_type": "code",
   "execution_count": 10,
   "id": "22135699",
   "metadata": {
    "execution": {
     "iopub.execute_input": "2024-03-07T04:41:30.503615Z",
     "iopub.status.busy": "2024-03-07T04:41:30.503252Z",
     "iopub.status.idle": "2024-03-07T04:41:30.515800Z",
     "shell.execute_reply": "2024-03-07T04:41:30.514725Z"
    },
    "papermill": {
     "duration": 0.02254,
     "end_time": "2024-03-07T04:41:30.518112",
     "exception": false,
     "start_time": "2024-03-07T04:41:30.495572",
     "status": "completed"
    },
    "tags": []
   },
   "outputs": [],
   "source": [
    "train_data=train_data.drop(columns=['EmbarkedOrdinal'])\n",
    "train_data=train_data.drop(columns=['SexOrdinal'])\n",
    "train_data=train_data.drop(columns=['Ticket'])\n",
    "train_data=train_data.drop(columns=['Name'])\n",
    "train_data=train_data.drop(columns=['CabinOrdinal'])\n",
    "train_data=train_data.drop(columns=['CabinLetter'])\n"
   ]
  },
  {
   "cell_type": "code",
   "execution_count": 11,
   "id": "782f85da",
   "metadata": {
    "execution": {
     "iopub.execute_input": "2024-03-07T04:41:30.532320Z",
     "iopub.status.busy": "2024-03-07T04:41:30.531504Z",
     "iopub.status.idle": "2024-03-07T04:41:30.554511Z",
     "shell.execute_reply": "2024-03-07T04:41:30.553447Z"
    },
    "papermill": {
     "duration": 0.032821,
     "end_time": "2024-03-07T04:41:30.556895",
     "exception": false,
     "start_time": "2024-03-07T04:41:30.524074",
     "status": "completed"
    },
    "tags": []
   },
   "outputs": [
    {
     "data": {
      "text/html": [
       "<div>\n",
       "<style scoped>\n",
       "    .dataframe tbody tr th:only-of-type {\n",
       "        vertical-align: middle;\n",
       "    }\n",
       "\n",
       "    .dataframe tbody tr th {\n",
       "        vertical-align: top;\n",
       "    }\n",
       "\n",
       "    .dataframe thead th {\n",
       "        text-align: right;\n",
       "    }\n",
       "</style>\n",
       "<table border=\"1\" class=\"dataframe\">\n",
       "  <thead>\n",
       "    <tr style=\"text-align: right;\">\n",
       "      <th></th>\n",
       "      <th>PassengerId</th>\n",
       "      <th>Pclass</th>\n",
       "      <th>Name</th>\n",
       "      <th>Sex</th>\n",
       "      <th>Age</th>\n",
       "      <th>SibSp</th>\n",
       "      <th>Parch</th>\n",
       "      <th>Ticket</th>\n",
       "      <th>Fare</th>\n",
       "      <th>Cabin</th>\n",
       "      <th>Embarked</th>\n",
       "    </tr>\n",
       "  </thead>\n",
       "  <tbody>\n",
       "    <tr>\n",
       "      <th>0</th>\n",
       "      <td>892</td>\n",
       "      <td>3</td>\n",
       "      <td>Kelly, Mr. James</td>\n",
       "      <td>male</td>\n",
       "      <td>34.5</td>\n",
       "      <td>0</td>\n",
       "      <td>0</td>\n",
       "      <td>330911</td>\n",
       "      <td>7.8292</td>\n",
       "      <td>NaN</td>\n",
       "      <td>Q</td>\n",
       "    </tr>\n",
       "    <tr>\n",
       "      <th>1</th>\n",
       "      <td>893</td>\n",
       "      <td>3</td>\n",
       "      <td>Wilkes, Mrs. James (Ellen Needs)</td>\n",
       "      <td>female</td>\n",
       "      <td>47.0</td>\n",
       "      <td>1</td>\n",
       "      <td>0</td>\n",
       "      <td>363272</td>\n",
       "      <td>7.0000</td>\n",
       "      <td>NaN</td>\n",
       "      <td>S</td>\n",
       "    </tr>\n",
       "    <tr>\n",
       "      <th>2</th>\n",
       "      <td>894</td>\n",
       "      <td>2</td>\n",
       "      <td>Myles, Mr. Thomas Francis</td>\n",
       "      <td>male</td>\n",
       "      <td>62.0</td>\n",
       "      <td>0</td>\n",
       "      <td>0</td>\n",
       "      <td>240276</td>\n",
       "      <td>9.6875</td>\n",
       "      <td>NaN</td>\n",
       "      <td>Q</td>\n",
       "    </tr>\n",
       "    <tr>\n",
       "      <th>3</th>\n",
       "      <td>895</td>\n",
       "      <td>3</td>\n",
       "      <td>Wirz, Mr. Albert</td>\n",
       "      <td>male</td>\n",
       "      <td>27.0</td>\n",
       "      <td>0</td>\n",
       "      <td>0</td>\n",
       "      <td>315154</td>\n",
       "      <td>8.6625</td>\n",
       "      <td>NaN</td>\n",
       "      <td>S</td>\n",
       "    </tr>\n",
       "    <tr>\n",
       "      <th>4</th>\n",
       "      <td>896</td>\n",
       "      <td>3</td>\n",
       "      <td>Hirvonen, Mrs. Alexander (Helga E Lindqvist)</td>\n",
       "      <td>female</td>\n",
       "      <td>22.0</td>\n",
       "      <td>1</td>\n",
       "      <td>1</td>\n",
       "      <td>3101298</td>\n",
       "      <td>12.2875</td>\n",
       "      <td>NaN</td>\n",
       "      <td>S</td>\n",
       "    </tr>\n",
       "  </tbody>\n",
       "</table>\n",
       "</div>"
      ],
      "text/plain": [
       "   PassengerId  Pclass                                          Name     Sex  \\\n",
       "0          892       3                              Kelly, Mr. James    male   \n",
       "1          893       3              Wilkes, Mrs. James (Ellen Needs)  female   \n",
       "2          894       2                     Myles, Mr. Thomas Francis    male   \n",
       "3          895       3                              Wirz, Mr. Albert    male   \n",
       "4          896       3  Hirvonen, Mrs. Alexander (Helga E Lindqvist)  female   \n",
       "\n",
       "    Age  SibSp  Parch   Ticket     Fare Cabin Embarked  \n",
       "0  34.5      0      0   330911   7.8292   NaN        Q  \n",
       "1  47.0      1      0   363272   7.0000   NaN        S  \n",
       "2  62.0      0      0   240276   9.6875   NaN        Q  \n",
       "3  27.0      0      0   315154   8.6625   NaN        S  \n",
       "4  22.0      1      1  3101298  12.2875   NaN        S  "
      ]
     },
     "execution_count": 11,
     "metadata": {},
     "output_type": "execute_result"
    }
   ],
   "source": [
    "test_data = pd.read_csv(\"/kaggle/input/titanic/test.csv\")\n",
    "test_data.head()"
   ]
  },
  {
   "cell_type": "code",
   "execution_count": 12,
   "id": "8a2ee630",
   "metadata": {
    "execution": {
     "iopub.execute_input": "2024-03-07T04:41:30.571042Z",
     "iopub.status.busy": "2024-03-07T04:41:30.570214Z",
     "iopub.status.idle": "2024-03-07T04:41:30.584487Z",
     "shell.execute_reply": "2024-03-07T04:41:30.583453Z"
    },
    "papermill": {
     "duration": 0.023772,
     "end_time": "2024-03-07T04:41:30.586758",
     "exception": false,
     "start_time": "2024-03-07T04:41:30.562986",
     "status": "completed"
    },
    "tags": []
   },
   "outputs": [
    {
     "data": {
      "text/html": [
       "<div>\n",
       "<style scoped>\n",
       "    .dataframe tbody tr th:only-of-type {\n",
       "        vertical-align: middle;\n",
       "    }\n",
       "\n",
       "    .dataframe tbody tr th {\n",
       "        vertical-align: top;\n",
       "    }\n",
       "\n",
       "    .dataframe thead th {\n",
       "        text-align: right;\n",
       "    }\n",
       "</style>\n",
       "<table border=\"1\" class=\"dataframe\">\n",
       "  <thead>\n",
       "    <tr style=\"text-align: right;\">\n",
       "      <th></th>\n",
       "      <th>PassengerId</th>\n",
       "      <th>Survived</th>\n",
       "      <th>Pclass</th>\n",
       "      <th>Sex</th>\n",
       "      <th>Age</th>\n",
       "      <th>SibSp</th>\n",
       "      <th>Parch</th>\n",
       "      <th>Fare</th>\n",
       "      <th>Cabin</th>\n",
       "      <th>Embarked</th>\n",
       "    </tr>\n",
       "  </thead>\n",
       "  <tbody>\n",
       "    <tr>\n",
       "      <th>0</th>\n",
       "      <td>1</td>\n",
       "      <td>0</td>\n",
       "      <td>3</td>\n",
       "      <td>1</td>\n",
       "      <td>22.0</td>\n",
       "      <td>1</td>\n",
       "      <td>0</td>\n",
       "      <td>7.2500</td>\n",
       "      <td>2</td>\n",
       "      <td>1</td>\n",
       "    </tr>\n",
       "    <tr>\n",
       "      <th>1</th>\n",
       "      <td>2</td>\n",
       "      <td>1</td>\n",
       "      <td>1</td>\n",
       "      <td>2</td>\n",
       "      <td>38.0</td>\n",
       "      <td>1</td>\n",
       "      <td>0</td>\n",
       "      <td>71.2833</td>\n",
       "      <td>3</td>\n",
       "      <td>2</td>\n",
       "    </tr>\n",
       "    <tr>\n",
       "      <th>2</th>\n",
       "      <td>3</td>\n",
       "      <td>1</td>\n",
       "      <td>3</td>\n",
       "      <td>2</td>\n",
       "      <td>26.0</td>\n",
       "      <td>0</td>\n",
       "      <td>0</td>\n",
       "      <td>7.9250</td>\n",
       "      <td>2</td>\n",
       "      <td>1</td>\n",
       "    </tr>\n",
       "    <tr>\n",
       "      <th>3</th>\n",
       "      <td>4</td>\n",
       "      <td>1</td>\n",
       "      <td>1</td>\n",
       "      <td>2</td>\n",
       "      <td>35.0</td>\n",
       "      <td>1</td>\n",
       "      <td>0</td>\n",
       "      <td>53.1000</td>\n",
       "      <td>3</td>\n",
       "      <td>1</td>\n",
       "    </tr>\n",
       "    <tr>\n",
       "      <th>4</th>\n",
       "      <td>5</td>\n",
       "      <td>0</td>\n",
       "      <td>3</td>\n",
       "      <td>1</td>\n",
       "      <td>35.0</td>\n",
       "      <td>0</td>\n",
       "      <td>0</td>\n",
       "      <td>8.0500</td>\n",
       "      <td>2</td>\n",
       "      <td>1</td>\n",
       "    </tr>\n",
       "  </tbody>\n",
       "</table>\n",
       "</div>"
      ],
      "text/plain": [
       "   PassengerId  Survived  Pclass  Sex   Age  SibSp  Parch     Fare  Cabin  \\\n",
       "0            1         0       3    1  22.0      1      0   7.2500      2   \n",
       "1            2         1       1    2  38.0      1      0  71.2833      3   \n",
       "2            3         1       3    2  26.0      0      0   7.9250      2   \n",
       "3            4         1       1    2  35.0      1      0  53.1000      3   \n",
       "4            5         0       3    1  35.0      0      0   8.0500      2   \n",
       "\n",
       "   Embarked  \n",
       "0         1  \n",
       "1         2  \n",
       "2         1  \n",
       "3         1  \n",
       "4         1  "
      ]
     },
     "execution_count": 12,
     "metadata": {},
     "output_type": "execute_result"
    }
   ],
   "source": [
    "train_data.head()"
   ]
  },
  {
   "cell_type": "code",
   "execution_count": 13,
   "id": "2f5873ea",
   "metadata": {
    "execution": {
     "iopub.execute_input": "2024-03-07T04:41:30.601769Z",
     "iopub.status.busy": "2024-03-07T04:41:30.600986Z",
     "iopub.status.idle": "2024-03-07T04:41:30.627990Z",
     "shell.execute_reply": "2024-03-07T04:41:30.626902Z"
    },
    "papermill": {
     "duration": 0.037245,
     "end_time": "2024-03-07T04:41:30.630163",
     "exception": false,
     "start_time": "2024-03-07T04:41:30.592918",
     "status": "completed"
    },
    "tags": []
   },
   "outputs": [
    {
     "name": "stdout",
     "output_type": "stream",
     "text": [
      "<class 'pandas.core.frame.DataFrame'>\n",
      "RangeIndex: 418 entries, 0 to 417\n",
      "Data columns (total 15 columns):\n",
      " #   Column           Non-Null Count  Dtype  \n",
      "---  ------           --------------  -----  \n",
      " 0   PassengerId      418 non-null    int64  \n",
      " 1   Pclass           418 non-null    int64  \n",
      " 2   Name             418 non-null    object \n",
      " 3   Sex              418 non-null    int64  \n",
      " 4   Age              332 non-null    float64\n",
      " 5   SibSp            418 non-null    int64  \n",
      " 6   Parch            418 non-null    int64  \n",
      " 7   Ticket           418 non-null    object \n",
      " 8   Fare             417 non-null    float64\n",
      " 9   Cabin            418 non-null    int64  \n",
      " 10  Embarked         418 non-null    int64  \n",
      " 11  CabinLetter      418 non-null    object \n",
      " 12  CabinOrdinal     418 non-null    int64  \n",
      " 13  SexOrdinal       418 non-null    int64  \n",
      " 14  EmbarkedOrdinal  418 non-null    int64  \n",
      "dtypes: float64(2), int64(10), object(3)\n",
      "memory usage: 49.1+ KB\n",
      "None\n"
     ]
    }
   ],
   "source": [
    "import pandas as pd\n",
    "import numpy as np\n",
    "from sklearn.impute import SimpleImputer\n",
    "\n",
    "# Extract the 'Cabin' column\n",
    "cabin_column = test_data[['Cabin']]\n",
    "embarked_column = test_data[['Embarked']]\n",
    "\n",
    "# Use SimpleImputer to fill in NaN values in the 'Cabin' column\n",
    "imputer = SimpleImputer(strategy='most_frequent')\n",
    "cabin_column_imputed = imputer.fit_transform(cabin_column)\n",
    "embarked_column_imputed = imputer.fit_transform(embarked_column)\n",
    "\n",
    "# Flatten the 2D array to a 1D array using ravel()\n",
    "cabin_column_imputed = cabin_column_imputed.ravel()\n",
    "test_data['Embarked']=embarked_column_imputed.ravel()\n",
    "# Convert the NumPy array to a pandas Series\n",
    "cabin_column_imputed_series = pd.Series(cabin_column_imputed)\n",
    "\n",
    "# Extract the cabin letter\n",
    "test_data['CabinLetter'] = cabin_column_imputed_series.astype(str).str[0]\n",
    "\n",
    "# Map the cabin letter to ordinal categories\n",
    "cabin_mapping = {'A': 1, 'B': 2, 'C': 3, 'D': 4, 'E': 5, 'F': 6, 'G': 7, 'T': 8}  # Add more categories as needed\n",
    "embarked_mapping = {'S': 1, 'C': 2, 'Q': 3}\n",
    "gender_mapping = {'male': 1, 'female': 2}\n",
    "test_data['CabinOrdinal'] = test_data['CabinLetter'].map(cabin_mapping)\n",
    "test_data['SexOrdinal'] = test_data['Sex'].map(gender_mapping)\n",
    "test_data['Cabin']=test_data['CabinOrdinal']\n",
    "test_data['EmbarkedOrdinal'] = test_data['Embarked'].map(embarked_mapping)\n",
    "test_data['Embarked']=test_data['EmbarkedOrdinal']\n",
    "test_data['Sex']=test_data['SexOrdinal']\n",
    "# Display the result\n",
    "print(test_data.info())"
   ]
  },
  {
   "cell_type": "code",
   "execution_count": 14,
   "id": "58ce21cf",
   "metadata": {
    "execution": {
     "iopub.execute_input": "2024-03-07T04:41:30.645748Z",
     "iopub.status.busy": "2024-03-07T04:41:30.645101Z",
     "iopub.status.idle": "2024-03-07T04:41:30.654773Z",
     "shell.execute_reply": "2024-03-07T04:41:30.653902Z"
    },
    "papermill": {
     "duration": 0.019739,
     "end_time": "2024-03-07T04:41:30.657150",
     "exception": false,
     "start_time": "2024-03-07T04:41:30.637411",
     "status": "completed"
    },
    "tags": []
   },
   "outputs": [],
   "source": [
    "test_data=test_data.drop(columns=['EmbarkedOrdinal'])\n",
    "test_data=test_data.drop(columns=['SexOrdinal'])\n",
    "test_data=test_data.drop(columns=['Ticket'])\n",
    "test_data=test_data.drop(columns=['Name'])\n",
    "test_data=test_data.drop(columns=['CabinOrdinal'])\n",
    "test_data=test_data.drop(columns=['CabinLetter'])"
   ]
  },
  {
   "cell_type": "markdown",
   "id": "090533ad",
   "metadata": {
    "execution": {
     "iopub.execute_input": "2024-03-07T04:12:57.464738Z",
     "iopub.status.busy": "2024-03-07T04:12:57.464297Z",
     "iopub.status.idle": "2024-03-07T04:12:57.504898Z",
     "shell.execute_reply": "2024-03-07T04:12:57.503091Z",
     "shell.execute_reply.started": "2024-03-07T04:12:57.464696Z"
    },
    "papermill": {
     "duration": 0.005983,
     "end_time": "2024-03-07T04:41:30.669546",
     "exception": false,
     "start_time": "2024-03-07T04:41:30.663563",
     "status": "completed"
    },
    "tags": []
   },
   "source": []
  },
  {
   "cell_type": "code",
   "execution_count": 15,
   "id": "561d6b4f",
   "metadata": {
    "execution": {
     "iopub.execute_input": "2024-03-07T04:41:30.683732Z",
     "iopub.status.busy": "2024-03-07T04:41:30.683013Z",
     "iopub.status.idle": "2024-03-07T04:41:30.691945Z",
     "shell.execute_reply": "2024-03-07T04:41:30.690585Z"
    },
    "papermill": {
     "duration": 0.018398,
     "end_time": "2024-03-07T04:41:30.694098",
     "exception": false,
     "start_time": "2024-03-07T04:41:30.675700",
     "status": "completed"
    },
    "tags": []
   },
   "outputs": [
    {
     "name": "stdout",
     "output_type": "stream",
     "text": [
      "% of women who survived: 0.7420382165605095\n"
     ]
    }
   ],
   "source": [
    "women = train_data.loc[train_data.Sex == 2][\"Survived\"]\n",
    "rate_women = sum(women)/len(women)\n",
    "\n",
    "print(\"% of women who survived:\", rate_women)"
   ]
  },
  {
   "cell_type": "code",
   "execution_count": 16,
   "id": "fcedeb80",
   "metadata": {
    "execution": {
     "iopub.execute_input": "2024-03-07T04:41:30.708747Z",
     "iopub.status.busy": "2024-03-07T04:41:30.708354Z",
     "iopub.status.idle": "2024-03-07T04:41:30.715737Z",
     "shell.execute_reply": "2024-03-07T04:41:30.714463Z"
    },
    "papermill": {
     "duration": 0.017159,
     "end_time": "2024-03-07T04:41:30.717777",
     "exception": false,
     "start_time": "2024-03-07T04:41:30.700618",
     "status": "completed"
    },
    "tags": []
   },
   "outputs": [
    {
     "name": "stdout",
     "output_type": "stream",
     "text": [
      "% of men who survived: 0.18890814558058924\n"
     ]
    }
   ],
   "source": [
    "men = train_data.loc[train_data.Sex == 1][\"Survived\"]\n",
    "rate_men = sum(men)/len(men)\n",
    "\n",
    "print(\"% of men who survived:\", rate_men)"
   ]
  },
  {
   "cell_type": "code",
   "execution_count": 17,
   "id": "bc79d145",
   "metadata": {
    "execution": {
     "iopub.execute_input": "2024-03-07T04:41:30.733061Z",
     "iopub.status.busy": "2024-03-07T04:41:30.732449Z",
     "iopub.status.idle": "2024-03-07T04:41:31.039915Z",
     "shell.execute_reply": "2024-03-07T04:41:31.038631Z"
    },
    "papermill": {
     "duration": 0.318182,
     "end_time": "2024-03-07T04:41:31.042614",
     "exception": false,
     "start_time": "2024-03-07T04:41:30.724432",
     "status": "completed"
    },
    "tags": []
   },
   "outputs": [
    {
     "name": "stdout",
     "output_type": "stream",
     "text": [
      "Your submission was successfully saved!\n"
     ]
    }
   ],
   "source": [
    "from sklearn.ensemble import RandomForestClassifier\n",
    "\n",
    "y = train_data[\"Survived\"]\n",
    "\n",
    "features = [\"Pclass\", \"Sex\", \"SibSp\", \"Parch\"]\n",
    "X = pd.get_dummies(train_data[features])\n",
    "X_test = pd.get_dummies(test_data[features])\n",
    "\n",
    "model = RandomForestClassifier(n_estimators=100, max_depth=5, random_state=1)\n",
    "model.fit(X, y)\n",
    "predictions = model.predict(X_test)\n",
    "\n",
    "output = pd.DataFrame({'PassengerId': test_data.PassengerId, 'Survived': predictions})\n",
    "output.to_csv('submission.csv', index=False)\n",
    "print(\"Your submission was successfully saved!\")\n"
   ]
  }
 ],
 "metadata": {
  "kaggle": {
   "accelerator": "none",
   "dataSources": [
    {
     "databundleVersionId": 26502,
     "sourceId": 3136,
     "sourceType": "competition"
    }
   ],
   "dockerImageVersionId": 30664,
   "isGpuEnabled": false,
   "isInternetEnabled": true,
   "language": "python",
   "sourceType": "notebook"
  },
  "kernelspec": {
   "display_name": "Python 3",
   "language": "python",
   "name": "python3"
  },
  "language_info": {
   "codemirror_mode": {
    "name": "ipython",
    "version": 3
   },
   "file_extension": ".py",
   "mimetype": "text/x-python",
   "name": "python",
   "nbconvert_exporter": "python",
   "pygments_lexer": "ipython3",
   "version": "3.10.13"
  },
  "papermill": {
   "default_parameters": {},
   "duration": 6.16468,
   "end_time": "2024-03-07T04:41:31.570402",
   "environment_variables": {},
   "exception": null,
   "input_path": "__notebook__.ipynb",
   "output_path": "__notebook__.ipynb",
   "parameters": {},
   "start_time": "2024-03-07T04:41:25.405722",
   "version": "2.5.0"
  }
 },
 "nbformat": 4,
 "nbformat_minor": 5
}
