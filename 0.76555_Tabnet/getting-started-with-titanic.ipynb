{
 "cells": [
  {
   "cell_type": "code",
   "execution_count": 1,
   "id": "f8d002f6",
   "metadata": {
    "_cell_guid": "b1076dfc-b9ad-4769-8c92-a6c4dae69d19",
    "_uuid": "8f2839f25d086af736a60e9eeb907d3b93b6e0e5",
    "execution": {
     "iopub.execute_input": "2024-03-28T01:40:51.411532Z",
     "iopub.status.busy": "2024-03-28T01:40:51.410905Z",
     "iopub.status.idle": "2024-03-28T01:40:52.369865Z",
     "shell.execute_reply": "2024-03-28T01:40:52.368778Z"
    },
    "papermill": {
     "duration": 0.969074,
     "end_time": "2024-03-28T01:40:52.371885",
     "exception": false,
     "start_time": "2024-03-28T01:40:51.402811",
     "status": "completed"
    },
    "tags": []
   },
   "outputs": [
    {
     "name": "stdout",
     "output_type": "stream",
     "text": [
      "/kaggle/input/titanic/train.csv\n",
      "/kaggle/input/titanic/test.csv\n",
      "/kaggle/input/titanic/gender_submission.csv\n"
     ]
    }
   ],
   "source": [
    "# This Python 3 environment comes with many helpful analytics libraries installed\n",
    "# It is defined by the kaggle/python Docker image: https://github.com/kaggle/docker-python\n",
    "# For example, here's several helpful packages to load\n",
    "\n",
    "import numpy as np # linear algebra\n",
    "import pandas as pd # data processing, CSV file I/O (e.g. pd.read_csv)\n",
    "\n",
    "# Input data files are available in the read-only \"../input/\" directory\n",
    "# For example, running this (by clicking run or pressing Shift+Enter) will list all files under the input directory\n",
    "\n",
    "import os\n",
    "for dirname, _, filenames in os.walk('/kaggle/input'):\n",
    "    for filename in filenames:\n",
    "        print(os.path.join(dirname, filename))\n",
    "\n",
    "# You can write up to 20GB to the current directory (/kaggle/working/) that gets preserved as output when you create a version using \"Save & Run All\" \n",
    "# You can also write temporary files to /kaggle/temp/, but they won't be saved outside of the current session"
   ]
  },
  {
   "cell_type": "code",
   "execution_count": 2,
   "id": "6b8c85bb",
   "metadata": {
    "execution": {
     "iopub.execute_input": "2024-03-28T01:40:52.385358Z",
     "iopub.status.busy": "2024-03-28T01:40:52.384911Z",
     "iopub.status.idle": "2024-03-28T01:41:04.816496Z",
     "shell.execute_reply": "2024-03-28T01:41:04.815137Z"
    },
    "papermill": {
     "duration": 12.44077,
     "end_time": "2024-03-28T01:41:04.818853",
     "exception": false,
     "start_time": "2024-03-28T01:40:52.378083",
     "status": "completed"
    },
    "tags": []
   },
   "outputs": [
    {
     "name": "stdout",
     "output_type": "stream",
     "text": [
      "Collecting pytorch-tabnet\r\n",
      "  Downloading pytorch_tabnet-4.1.0-py3-none-any.whl.metadata (15 kB)\r\n",
      "Requirement already satisfied: numpy>=1.17 in /opt/conda/lib/python3.10/site-packages (from pytorch-tabnet) (1.26.4)\r\n",
      "Requirement already satisfied: scikit_learn>0.21 in /opt/conda/lib/python3.10/site-packages (from pytorch-tabnet) (1.2.2)\r\n",
      "Requirement already satisfied: scipy>1.4 in /opt/conda/lib/python3.10/site-packages (from pytorch-tabnet) (1.11.4)\r\n",
      "Requirement already satisfied: torch>=1.3 in /opt/conda/lib/python3.10/site-packages (from pytorch-tabnet) (2.1.2+cpu)\r\n",
      "Requirement already satisfied: tqdm>=4.36 in /opt/conda/lib/python3.10/site-packages (from pytorch-tabnet) (4.66.1)\r\n",
      "Requirement already satisfied: joblib>=1.1.1 in /opt/conda/lib/python3.10/site-packages (from scikit_learn>0.21->pytorch-tabnet) (1.3.2)\r\n",
      "Requirement already satisfied: threadpoolctl>=2.0.0 in /opt/conda/lib/python3.10/site-packages (from scikit_learn>0.21->pytorch-tabnet) (3.2.0)\r\n",
      "Requirement already satisfied: filelock in /opt/conda/lib/python3.10/site-packages (from torch>=1.3->pytorch-tabnet) (3.13.1)\r\n",
      "Requirement already satisfied: typing-extensions in /opt/conda/lib/python3.10/site-packages (from torch>=1.3->pytorch-tabnet) (4.9.0)\r\n",
      "Requirement already satisfied: sympy in /opt/conda/lib/python3.10/site-packages (from torch>=1.3->pytorch-tabnet) (1.12)\r\n",
      "Requirement already satisfied: networkx in /opt/conda/lib/python3.10/site-packages (from torch>=1.3->pytorch-tabnet) (3.2.1)\r\n",
      "Requirement already satisfied: jinja2 in /opt/conda/lib/python3.10/site-packages (from torch>=1.3->pytorch-tabnet) (3.1.2)\r\n",
      "Requirement already satisfied: fsspec in /opt/conda/lib/python3.10/site-packages (from torch>=1.3->pytorch-tabnet) (2024.2.0)\r\n",
      "Requirement already satisfied: MarkupSafe>=2.0 in /opt/conda/lib/python3.10/site-packages (from jinja2->torch>=1.3->pytorch-tabnet) (2.1.3)\r\n",
      "Requirement already satisfied: mpmath>=0.19 in /opt/conda/lib/python3.10/site-packages (from sympy->torch>=1.3->pytorch-tabnet) (1.3.0)\r\n",
      "Downloading pytorch_tabnet-4.1.0-py3-none-any.whl (44 kB)\r\n",
      "\u001b[2K   \u001b[90m━━━━━━━━━━━━━━━━━━━━━━━━━━━━━━━━━━━━━━━━\u001b[0m \u001b[32m44.5/44.5 kB\u001b[0m \u001b[31m1.5 MB/s\u001b[0m eta \u001b[36m0:00:00\u001b[0m\r\n",
      "\u001b[?25hInstalling collected packages: pytorch-tabnet\r\n",
      "Successfully installed pytorch-tabnet-4.1.0\r\n"
     ]
    }
   ],
   "source": [
    "!pip install pytorch-tabnet"
   ]
  },
  {
   "cell_type": "code",
   "execution_count": 3,
   "id": "e09db8a0",
   "metadata": {
    "execution": {
     "iopub.execute_input": "2024-03-28T01:41:04.833592Z",
     "iopub.status.busy": "2024-03-28T01:41:04.833205Z",
     "iopub.status.idle": "2024-03-28T01:41:09.757370Z",
     "shell.execute_reply": "2024-03-28T01:41:09.756522Z"
    },
    "papermill": {
     "duration": 4.934286,
     "end_time": "2024-03-28T01:41:09.759522",
     "exception": false,
     "start_time": "2024-03-28T01:41:04.825236",
     "status": "completed"
    },
    "tags": []
   },
   "outputs": [
    {
     "data": {
      "text/html": [
       "<div>\n",
       "<style scoped>\n",
       "    .dataframe tbody tr th:only-of-type {\n",
       "        vertical-align: middle;\n",
       "    }\n",
       "\n",
       "    .dataframe tbody tr th {\n",
       "        vertical-align: top;\n",
       "    }\n",
       "\n",
       "    .dataframe thead th {\n",
       "        text-align: right;\n",
       "    }\n",
       "</style>\n",
       "<table border=\"1\" class=\"dataframe\">\n",
       "  <thead>\n",
       "    <tr style=\"text-align: right;\">\n",
       "      <th></th>\n",
       "      <th>PassengerId</th>\n",
       "      <th>Survived</th>\n",
       "      <th>Pclass</th>\n",
       "      <th>Name</th>\n",
       "      <th>Sex</th>\n",
       "      <th>Age</th>\n",
       "      <th>SibSp</th>\n",
       "      <th>Parch</th>\n",
       "      <th>Ticket</th>\n",
       "      <th>Fare</th>\n",
       "      <th>Cabin</th>\n",
       "      <th>Embarked</th>\n",
       "    </tr>\n",
       "  </thead>\n",
       "  <tbody>\n",
       "    <tr>\n",
       "      <th>0</th>\n",
       "      <td>1</td>\n",
       "      <td>0</td>\n",
       "      <td>3</td>\n",
       "      <td>Braund, Mr. Owen Harris</td>\n",
       "      <td>male</td>\n",
       "      <td>22.0</td>\n",
       "      <td>1</td>\n",
       "      <td>0</td>\n",
       "      <td>A/5 21171</td>\n",
       "      <td>7.2500</td>\n",
       "      <td>NaN</td>\n",
       "      <td>S</td>\n",
       "    </tr>\n",
       "    <tr>\n",
       "      <th>1</th>\n",
       "      <td>2</td>\n",
       "      <td>1</td>\n",
       "      <td>1</td>\n",
       "      <td>Cumings, Mrs. John Bradley (Florence Briggs Th...</td>\n",
       "      <td>female</td>\n",
       "      <td>38.0</td>\n",
       "      <td>1</td>\n",
       "      <td>0</td>\n",
       "      <td>PC 17599</td>\n",
       "      <td>71.2833</td>\n",
       "      <td>C85</td>\n",
       "      <td>C</td>\n",
       "    </tr>\n",
       "    <tr>\n",
       "      <th>2</th>\n",
       "      <td>3</td>\n",
       "      <td>1</td>\n",
       "      <td>3</td>\n",
       "      <td>Heikkinen, Miss. Laina</td>\n",
       "      <td>female</td>\n",
       "      <td>26.0</td>\n",
       "      <td>0</td>\n",
       "      <td>0</td>\n",
       "      <td>STON/O2. 3101282</td>\n",
       "      <td>7.9250</td>\n",
       "      <td>NaN</td>\n",
       "      <td>S</td>\n",
       "    </tr>\n",
       "    <tr>\n",
       "      <th>3</th>\n",
       "      <td>4</td>\n",
       "      <td>1</td>\n",
       "      <td>1</td>\n",
       "      <td>Futrelle, Mrs. Jacques Heath (Lily May Peel)</td>\n",
       "      <td>female</td>\n",
       "      <td>35.0</td>\n",
       "      <td>1</td>\n",
       "      <td>0</td>\n",
       "      <td>113803</td>\n",
       "      <td>53.1000</td>\n",
       "      <td>C123</td>\n",
       "      <td>S</td>\n",
       "    </tr>\n",
       "    <tr>\n",
       "      <th>4</th>\n",
       "      <td>5</td>\n",
       "      <td>0</td>\n",
       "      <td>3</td>\n",
       "      <td>Allen, Mr. William Henry</td>\n",
       "      <td>male</td>\n",
       "      <td>35.0</td>\n",
       "      <td>0</td>\n",
       "      <td>0</td>\n",
       "      <td>373450</td>\n",
       "      <td>8.0500</td>\n",
       "      <td>NaN</td>\n",
       "      <td>S</td>\n",
       "    </tr>\n",
       "  </tbody>\n",
       "</table>\n",
       "</div>"
      ],
      "text/plain": [
       "   PassengerId  Survived  Pclass  \\\n",
       "0            1         0       3   \n",
       "1            2         1       1   \n",
       "2            3         1       3   \n",
       "3            4         1       1   \n",
       "4            5         0       3   \n",
       "\n",
       "                                                Name     Sex   Age  SibSp  \\\n",
       "0                            Braund, Mr. Owen Harris    male  22.0      1   \n",
       "1  Cumings, Mrs. John Bradley (Florence Briggs Th...  female  38.0      1   \n",
       "2                             Heikkinen, Miss. Laina  female  26.0      0   \n",
       "3       Futrelle, Mrs. Jacques Heath (Lily May Peel)  female  35.0      1   \n",
       "4                           Allen, Mr. William Henry    male  35.0      0   \n",
       "\n",
       "   Parch            Ticket     Fare Cabin Embarked  \n",
       "0      0         A/5 21171   7.2500   NaN        S  \n",
       "1      0          PC 17599  71.2833   C85        C  \n",
       "2      0  STON/O2. 3101282   7.9250   NaN        S  \n",
       "3      0            113803  53.1000  C123        S  \n",
       "4      0            373450   8.0500   NaN        S  "
      ]
     },
     "execution_count": 3,
     "metadata": {},
     "output_type": "execute_result"
    }
   ],
   "source": [
    "import torch\n",
    "from sklearn.model_selection import train_test_split\n",
    "from torch.utils.data import DataLoader, TensorDataset\n",
    "from pytorch_tabnet.tab_model import TabNetClassifier\n",
    "\n",
    "\n",
    "# Load the CSV file\n",
    "train_data = pd.read_csv(\"/kaggle/input/titanic/train.csv\")\n",
    "train_data.head()"
   ]
  },
  {
   "cell_type": "code",
   "execution_count": 4,
   "id": "fa27b7b0",
   "metadata": {
    "execution": {
     "iopub.execute_input": "2024-03-28T01:41:09.774827Z",
     "iopub.status.busy": "2024-03-28T01:41:09.774300Z",
     "iopub.status.idle": "2024-03-28T01:41:09.793863Z",
     "shell.execute_reply": "2024-03-28T01:41:09.792214Z"
    },
    "papermill": {
     "duration": 0.030314,
     "end_time": "2024-03-28T01:41:09.796528",
     "exception": false,
     "start_time": "2024-03-28T01:41:09.766214",
     "status": "completed"
    },
    "tags": []
   },
   "outputs": [
    {
     "data": {
      "text/plain": [
       "0"
      ]
     },
     "execution_count": 4,
     "metadata": {},
     "output_type": "execute_result"
    }
   ],
   "source": [
    "sum(train_data.duplicated())"
   ]
  },
  {
   "cell_type": "code",
   "execution_count": 5,
   "id": "00e6d7e6",
   "metadata": {
    "execution": {
     "iopub.execute_input": "2024-03-28T01:41:09.812078Z",
     "iopub.status.busy": "2024-03-28T01:41:09.811747Z",
     "iopub.status.idle": "2024-03-28T01:41:09.818842Z",
     "shell.execute_reply": "2024-03-28T01:41:09.818088Z"
    },
    "papermill": {
     "duration": 0.01699,
     "end_time": "2024-03-28T01:41:09.820622",
     "exception": false,
     "start_time": "2024-03-28T01:41:09.803632",
     "status": "completed"
    },
    "tags": []
   },
   "outputs": [],
   "source": [
    "train_data.drop_duplicates(inplace=True)"
   ]
  },
  {
   "cell_type": "code",
   "execution_count": 6,
   "id": "39bc7950",
   "metadata": {
    "execution": {
     "iopub.execute_input": "2024-03-28T01:41:09.836529Z",
     "iopub.status.busy": "2024-03-28T01:41:09.835796Z",
     "iopub.status.idle": "2024-03-28T01:41:09.848482Z",
     "shell.execute_reply": "2024-03-28T01:41:09.847528Z"
    },
    "papermill": {
     "duration": 0.022531,
     "end_time": "2024-03-28T01:41:09.850215",
     "exception": false,
     "start_time": "2024-03-28T01:41:09.827684",
     "status": "completed"
    },
    "tags": []
   },
   "outputs": [
    {
     "data": {
      "text/plain": [
       "PassengerId    891\n",
       "Survived         2\n",
       "Pclass           3\n",
       "Name           891\n",
       "Sex              2\n",
       "Age             88\n",
       "SibSp            7\n",
       "Parch            7\n",
       "Ticket         681\n",
       "Fare           248\n",
       "Cabin          147\n",
       "Embarked         3\n",
       "dtype: int64"
      ]
     },
     "execution_count": 6,
     "metadata": {},
     "output_type": "execute_result"
    }
   ],
   "source": [
    "train_data.nunique()"
   ]
  },
  {
   "cell_type": "code",
   "execution_count": 7,
   "id": "78b3001c",
   "metadata": {
    "execution": {
     "iopub.execute_input": "2024-03-28T01:41:09.865722Z",
     "iopub.status.busy": "2024-03-28T01:41:09.865054Z",
     "iopub.status.idle": "2024-03-28T01:41:09.887209Z",
     "shell.execute_reply": "2024-03-28T01:41:09.885556Z"
    },
    "papermill": {
     "duration": 0.033092,
     "end_time": "2024-03-28T01:41:09.890047",
     "exception": false,
     "start_time": "2024-03-28T01:41:09.856955",
     "status": "completed"
    },
    "tags": []
   },
   "outputs": [
    {
     "name": "stdout",
     "output_type": "stream",
     "text": [
      "<class 'pandas.core.frame.DataFrame'>\n",
      "RangeIndex: 891 entries, 0 to 890\n",
      "Data columns (total 12 columns):\n",
      " #   Column       Non-Null Count  Dtype  \n",
      "---  ------       --------------  -----  \n",
      " 0   PassengerId  891 non-null    int64  \n",
      " 1   Survived     891 non-null    int64  \n",
      " 2   Pclass       891 non-null    int64  \n",
      " 3   Name         891 non-null    object \n",
      " 4   Sex          891 non-null    object \n",
      " 5   Age          714 non-null    float64\n",
      " 6   SibSp        891 non-null    int64  \n",
      " 7   Parch        891 non-null    int64  \n",
      " 8   Ticket       891 non-null    object \n",
      " 9   Fare         891 non-null    float64\n",
      " 10  Cabin        204 non-null    object \n",
      " 11  Embarked     889 non-null    object \n",
      "dtypes: float64(2), int64(5), object(5)\n",
      "memory usage: 83.7+ KB\n"
     ]
    }
   ],
   "source": [
    "train_data.info()"
   ]
  },
  {
   "cell_type": "code",
   "execution_count": 8,
   "id": "f970eabe",
   "metadata": {
    "execution": {
     "iopub.execute_input": "2024-03-28T01:41:09.907374Z",
     "iopub.status.busy": "2024-03-28T01:41:09.907016Z",
     "iopub.status.idle": "2024-03-28T01:41:09.924603Z",
     "shell.execute_reply": "2024-03-28T01:41:09.923669Z"
    },
    "papermill": {
     "duration": 0.028597,
     "end_time": "2024-03-28T01:41:09.926457",
     "exception": false,
     "start_time": "2024-03-28T01:41:09.897860",
     "status": "completed"
    },
    "tags": []
   },
   "outputs": [
    {
     "data": {
      "text/html": [
       "<div>\n",
       "<style scoped>\n",
       "    .dataframe tbody tr th:only-of-type {\n",
       "        vertical-align: middle;\n",
       "    }\n",
       "\n",
       "    .dataframe tbody tr th {\n",
       "        vertical-align: top;\n",
       "    }\n",
       "\n",
       "    .dataframe thead th {\n",
       "        text-align: right;\n",
       "    }\n",
       "</style>\n",
       "<table border=\"1\" class=\"dataframe\">\n",
       "  <thead>\n",
       "    <tr style=\"text-align: right;\">\n",
       "      <th></th>\n",
       "      <th>Name</th>\n",
       "      <th>Sex</th>\n",
       "      <th>Ticket</th>\n",
       "      <th>Cabin</th>\n",
       "      <th>Embarked</th>\n",
       "    </tr>\n",
       "  </thead>\n",
       "  <tbody>\n",
       "    <tr>\n",
       "      <th>count</th>\n",
       "      <td>891</td>\n",
       "      <td>891</td>\n",
       "      <td>891</td>\n",
       "      <td>204</td>\n",
       "      <td>889</td>\n",
       "    </tr>\n",
       "    <tr>\n",
       "      <th>unique</th>\n",
       "      <td>891</td>\n",
       "      <td>2</td>\n",
       "      <td>681</td>\n",
       "      <td>147</td>\n",
       "      <td>3</td>\n",
       "    </tr>\n",
       "    <tr>\n",
       "      <th>top</th>\n",
       "      <td>Braund, Mr. Owen Harris</td>\n",
       "      <td>male</td>\n",
       "      <td>347082</td>\n",
       "      <td>B96 B98</td>\n",
       "      <td>S</td>\n",
       "    </tr>\n",
       "    <tr>\n",
       "      <th>freq</th>\n",
       "      <td>1</td>\n",
       "      <td>577</td>\n",
       "      <td>7</td>\n",
       "      <td>4</td>\n",
       "      <td>644</td>\n",
       "    </tr>\n",
       "  </tbody>\n",
       "</table>\n",
       "</div>"
      ],
      "text/plain": [
       "                           Name   Sex  Ticket    Cabin Embarked\n",
       "count                       891   891     891      204      889\n",
       "unique                      891     2     681      147        3\n",
       "top     Braund, Mr. Owen Harris  male  347082  B96 B98        S\n",
       "freq                          1   577       7        4      644"
      ]
     },
     "execution_count": 8,
     "metadata": {},
     "output_type": "execute_result"
    }
   ],
   "source": [
    "train_data.describe(include=['O'])"
   ]
  },
  {
   "cell_type": "code",
   "execution_count": 9,
   "id": "42ad33c1",
   "metadata": {
    "execution": {
     "iopub.execute_input": "2024-03-28T01:41:09.942456Z",
     "iopub.status.busy": "2024-03-28T01:41:09.942012Z",
     "iopub.status.idle": "2024-03-28T01:41:09.948419Z",
     "shell.execute_reply": "2024-03-28T01:41:09.947090Z"
    },
    "papermill": {
     "duration": 0.017266,
     "end_time": "2024-03-28T01:41:09.950832",
     "exception": false,
     "start_time": "2024-03-28T01:41:09.933566",
     "status": "completed"
    },
    "tags": []
   },
   "outputs": [
    {
     "name": "stdout",
     "output_type": "stream",
     "text": [
      "['male' 'female']\n"
     ]
    }
   ],
   "source": [
    "unique_labels = train_data[\"Sex\"].explode().unique()\n",
    "print(unique_labels)"
   ]
  },
  {
   "cell_type": "code",
   "execution_count": 10,
   "id": "15359685",
   "metadata": {
    "execution": {
     "iopub.execute_input": "2024-03-28T01:41:09.967839Z",
     "iopub.status.busy": "2024-03-28T01:41:09.967434Z",
     "iopub.status.idle": "2024-03-28T01:41:10.192526Z",
     "shell.execute_reply": "2024-03-28T01:41:10.191665Z"
    },
    "papermill": {
     "duration": 0.235635,
     "end_time": "2024-03-28T01:41:10.194396",
     "exception": false,
     "start_time": "2024-03-28T01:41:09.958761",
     "status": "completed"
    },
    "tags": []
   },
   "outputs": [
    {
     "name": "stdout",
     "output_type": "stream",
     "text": [
      "<class 'pandas.core.frame.DataFrame'>\n",
      "RangeIndex: 891 entries, 0 to 890\n",
      "Data columns (total 16 columns):\n",
      " #   Column           Non-Null Count  Dtype   \n",
      "---  ------           --------------  -----   \n",
      " 0   PassengerId      891 non-null    int64   \n",
      " 1   Survived         891 non-null    int64   \n",
      " 2   Pclass           891 non-null    int64   \n",
      " 3   Name             891 non-null    object  \n",
      " 4   Sex              891 non-null    int64   \n",
      " 5   SibSp            891 non-null    int64   \n",
      " 6   Parch            891 non-null    int64   \n",
      " 7   Ticket           891 non-null    object  \n",
      " 8   Fare             891 non-null    float64 \n",
      " 9   Cabin            891 non-null    int64   \n",
      " 10  Embarked         891 non-null    int64   \n",
      " 11  CabinLetter      891 non-null    object  \n",
      " 12  AgeCategory      891 non-null    category\n",
      " 13  CabinOrdinal     891 non-null    int64   \n",
      " 14  SexOrdinal       891 non-null    int64   \n",
      " 15  EmbarkedOrdinal  891 non-null    int64   \n",
      "dtypes: category(1), float64(1), int64(11), object(3)\n",
      "memory usage: 105.6+ KB\n",
      "None\n"
     ]
    }
   ],
   "source": [
    "from sklearn.impute import SimpleImputer\n",
    "\n",
    "# Extract the 'Cabin' column\n",
    "cabin_column = train_data[['Cabin']]\n",
    "embarked_column = train_data[['Embarked']]\n",
    "\n",
    "\n",
    "# Use SimpleImputer to fill in NaN values in the 'Cabin' column\n",
    "imputer = SimpleImputer(strategy='most_frequent')\n",
    "cabin_column_imputed = imputer.fit_transform(cabin_column)\n",
    "embarked_column_imputed = imputer.fit_transform(embarked_column)\n",
    "\n",
    "# Flatten the 2D array to a 1D array using ravel()\n",
    "cabin_column_imputed = cabin_column_imputed.ravel()\n",
    "train_data['Embarked']=embarked_column_imputed.ravel()\n",
    "\n",
    "# Convert the NumPy array to a pandas Series\n",
    "cabin_column_imputed_series = pd.Series(cabin_column_imputed)\n",
    "\n",
    "# Extract the cabin letter\n",
    "train_data['CabinLetter'] = cabin_column_imputed_series.astype(str).str[0]\n",
    "\n",
    "# age related median transform\n",
    "age_column = train_data[['Age']]\n",
    "imputer = SimpleImputer(strategy='median')\n",
    "train_data[['Age']]=imputer.fit_transform(age_column)\n",
    "\n",
    "fare_column = train_data[['Fare']]\n",
    "train_data[['Fare']]=imputer.fit_transform(fare_column)\n",
    "\n",
    "# Define your age bins and labels\n",
    "age_bins = [0, 18, 35, 50, 100]  # You can adjust these bins as needed\n",
    "age_labels = ['0-18', '19-35', '36-50', '51+']\n",
    "\n",
    "# Create a new categorical column 'AgeCategory' based on the bins and labels\n",
    "train_data['AgeCategory'] = pd.cut(train_data['Age'], bins=age_bins, labels=age_labels, include_lowest=True)\n",
    "\n",
    "# Drop the original 'Age' column if you no longer want to use it in the analysis\n",
    "train_data = train_data.drop('Age', axis=1)\n",
    "\n",
    "\n",
    "# Map the cabin letter to ordinal categories\n",
    "cabin_mapping = {'A': 1, 'B': 2, 'C': 3, 'D': 4, 'E': 5, 'F': 6, 'G': 7, 'T': 8}  # Add more categories as needed\n",
    "embarked_mapping = {'S': 1, 'C': 2, 'Q': 3}\n",
    "gender_mapping = {'male': 1, 'female': 2}\n",
    "train_data['CabinOrdinal'] = train_data['CabinLetter'].map(cabin_mapping)\n",
    "train_data['SexOrdinal'] = train_data['Sex'].map(gender_mapping)\n",
    "train_data['Cabin']=train_data['CabinOrdinal']\n",
    "train_data['EmbarkedOrdinal'] = train_data['Embarked'].map(embarked_mapping)\n",
    "train_data['Embarked']=train_data['EmbarkedOrdinal']\n",
    "train_data['Sex']=train_data['SexOrdinal']\n",
    "# Display the result\n",
    "#print(train_data[['Cabin', 'CabinLetter', 'CabinOrdinal', 'EmbarkedOrdinal']])\n",
    "print(train_data.info())"
   ]
  },
  {
   "cell_type": "code",
   "execution_count": 11,
   "id": "c877b8e6",
   "metadata": {
    "execution": {
     "iopub.execute_input": "2024-03-28T01:41:10.210414Z",
     "iopub.status.busy": "2024-03-28T01:41:10.210059Z",
     "iopub.status.idle": "2024-03-28T01:41:10.228183Z",
     "shell.execute_reply": "2024-03-28T01:41:10.226804Z"
    },
    "papermill": {
     "duration": 0.02902,
     "end_time": "2024-03-28T01:41:10.230613",
     "exception": false,
     "start_time": "2024-03-28T01:41:10.201593",
     "status": "completed"
    },
    "tags": []
   },
   "outputs": [],
   "source": [
    "from sklearn.preprocessing import StandardScaler\n",
    "train_data=train_data.drop(columns=['EmbarkedOrdinal'])\n",
    "train_data=train_data.drop(columns=['SexOrdinal'])\n",
    "train_data=train_data.drop(columns=['Ticket'])\n",
    "train_data=train_data.drop(columns=['Name'])\n",
    "train_data=train_data.drop(columns=['CabinOrdinal'])\n",
    "train_data=train_data.drop(columns=['CabinLetter'])\n",
    "columns_to_scale = ['Pclass', 'SibSp', 'Parch', 'Fare', 'Cabin', 'Embarked']\n",
    "\n",
    "# Initialize the StandardScaler\n",
    "scaler = StandardScaler()\n",
    "\n",
    "# Scale the selected columns\n",
    "train_data[columns_to_scale] = scaler.fit_transform(train_data[columns_to_scale])"
   ]
  },
  {
   "cell_type": "code",
   "execution_count": 12,
   "id": "818adccd",
   "metadata": {
    "execution": {
     "iopub.execute_input": "2024-03-28T01:41:10.247412Z",
     "iopub.status.busy": "2024-03-28T01:41:10.246453Z",
     "iopub.status.idle": "2024-03-28T01:41:10.267885Z",
     "shell.execute_reply": "2024-03-28T01:41:10.266831Z"
    },
    "papermill": {
     "duration": 0.031729,
     "end_time": "2024-03-28T01:41:10.269842",
     "exception": false,
     "start_time": "2024-03-28T01:41:10.238113",
     "status": "completed"
    },
    "tags": []
   },
   "outputs": [
    {
     "data": {
      "text/html": [
       "<div>\n",
       "<style scoped>\n",
       "    .dataframe tbody tr th:only-of-type {\n",
       "        vertical-align: middle;\n",
       "    }\n",
       "\n",
       "    .dataframe tbody tr th {\n",
       "        vertical-align: top;\n",
       "    }\n",
       "\n",
       "    .dataframe thead th {\n",
       "        text-align: right;\n",
       "    }\n",
       "</style>\n",
       "<table border=\"1\" class=\"dataframe\">\n",
       "  <thead>\n",
       "    <tr style=\"text-align: right;\">\n",
       "      <th></th>\n",
       "      <th>PassengerId</th>\n",
       "      <th>Pclass</th>\n",
       "      <th>Name</th>\n",
       "      <th>Sex</th>\n",
       "      <th>Age</th>\n",
       "      <th>SibSp</th>\n",
       "      <th>Parch</th>\n",
       "      <th>Ticket</th>\n",
       "      <th>Fare</th>\n",
       "      <th>Cabin</th>\n",
       "      <th>Embarked</th>\n",
       "    </tr>\n",
       "  </thead>\n",
       "  <tbody>\n",
       "    <tr>\n",
       "      <th>0</th>\n",
       "      <td>892</td>\n",
       "      <td>3</td>\n",
       "      <td>Kelly, Mr. James</td>\n",
       "      <td>male</td>\n",
       "      <td>34.5</td>\n",
       "      <td>0</td>\n",
       "      <td>0</td>\n",
       "      <td>330911</td>\n",
       "      <td>7.8292</td>\n",
       "      <td>NaN</td>\n",
       "      <td>Q</td>\n",
       "    </tr>\n",
       "    <tr>\n",
       "      <th>1</th>\n",
       "      <td>893</td>\n",
       "      <td>3</td>\n",
       "      <td>Wilkes, Mrs. James (Ellen Needs)</td>\n",
       "      <td>female</td>\n",
       "      <td>47.0</td>\n",
       "      <td>1</td>\n",
       "      <td>0</td>\n",
       "      <td>363272</td>\n",
       "      <td>7.0000</td>\n",
       "      <td>NaN</td>\n",
       "      <td>S</td>\n",
       "    </tr>\n",
       "    <tr>\n",
       "      <th>2</th>\n",
       "      <td>894</td>\n",
       "      <td>2</td>\n",
       "      <td>Myles, Mr. Thomas Francis</td>\n",
       "      <td>male</td>\n",
       "      <td>62.0</td>\n",
       "      <td>0</td>\n",
       "      <td>0</td>\n",
       "      <td>240276</td>\n",
       "      <td>9.6875</td>\n",
       "      <td>NaN</td>\n",
       "      <td>Q</td>\n",
       "    </tr>\n",
       "    <tr>\n",
       "      <th>3</th>\n",
       "      <td>895</td>\n",
       "      <td>3</td>\n",
       "      <td>Wirz, Mr. Albert</td>\n",
       "      <td>male</td>\n",
       "      <td>27.0</td>\n",
       "      <td>0</td>\n",
       "      <td>0</td>\n",
       "      <td>315154</td>\n",
       "      <td>8.6625</td>\n",
       "      <td>NaN</td>\n",
       "      <td>S</td>\n",
       "    </tr>\n",
       "    <tr>\n",
       "      <th>4</th>\n",
       "      <td>896</td>\n",
       "      <td>3</td>\n",
       "      <td>Hirvonen, Mrs. Alexander (Helga E Lindqvist)</td>\n",
       "      <td>female</td>\n",
       "      <td>22.0</td>\n",
       "      <td>1</td>\n",
       "      <td>1</td>\n",
       "      <td>3101298</td>\n",
       "      <td>12.2875</td>\n",
       "      <td>NaN</td>\n",
       "      <td>S</td>\n",
       "    </tr>\n",
       "  </tbody>\n",
       "</table>\n",
       "</div>"
      ],
      "text/plain": [
       "   PassengerId  Pclass                                          Name     Sex  \\\n",
       "0          892       3                              Kelly, Mr. James    male   \n",
       "1          893       3              Wilkes, Mrs. James (Ellen Needs)  female   \n",
       "2          894       2                     Myles, Mr. Thomas Francis    male   \n",
       "3          895       3                              Wirz, Mr. Albert    male   \n",
       "4          896       3  Hirvonen, Mrs. Alexander (Helga E Lindqvist)  female   \n",
       "\n",
       "    Age  SibSp  Parch   Ticket     Fare Cabin Embarked  \n",
       "0  34.5      0      0   330911   7.8292   NaN        Q  \n",
       "1  47.0      1      0   363272   7.0000   NaN        S  \n",
       "2  62.0      0      0   240276   9.6875   NaN        Q  \n",
       "3  27.0      0      0   315154   8.6625   NaN        S  \n",
       "4  22.0      1      1  3101298  12.2875   NaN        S  "
      ]
     },
     "execution_count": 12,
     "metadata": {},
     "output_type": "execute_result"
    }
   ],
   "source": [
    "test_data = pd.read_csv(\"/kaggle/input/titanic/test.csv\")\n",
    "test_data.head()"
   ]
  },
  {
   "cell_type": "code",
   "execution_count": 13,
   "id": "582d1201",
   "metadata": {
    "execution": {
     "iopub.execute_input": "2024-03-28T01:41:10.286267Z",
     "iopub.status.busy": "2024-03-28T01:41:10.285897Z",
     "iopub.status.idle": "2024-03-28T01:41:10.300459Z",
     "shell.execute_reply": "2024-03-28T01:41:10.299556Z"
    },
    "papermill": {
     "duration": 0.025915,
     "end_time": "2024-03-28T01:41:10.303247",
     "exception": false,
     "start_time": "2024-03-28T01:41:10.277332",
     "status": "completed"
    },
    "tags": []
   },
   "outputs": [
    {
     "data": {
      "text/html": [
       "<div>\n",
       "<style scoped>\n",
       "    .dataframe tbody tr th:only-of-type {\n",
       "        vertical-align: middle;\n",
       "    }\n",
       "\n",
       "    .dataframe tbody tr th {\n",
       "        vertical-align: top;\n",
       "    }\n",
       "\n",
       "    .dataframe thead th {\n",
       "        text-align: right;\n",
       "    }\n",
       "</style>\n",
       "<table border=\"1\" class=\"dataframe\">\n",
       "  <thead>\n",
       "    <tr style=\"text-align: right;\">\n",
       "      <th></th>\n",
       "      <th>PassengerId</th>\n",
       "      <th>Survived</th>\n",
       "      <th>Pclass</th>\n",
       "      <th>Sex</th>\n",
       "      <th>SibSp</th>\n",
       "      <th>Parch</th>\n",
       "      <th>Fare</th>\n",
       "      <th>Cabin</th>\n",
       "      <th>Embarked</th>\n",
       "      <th>AgeCategory</th>\n",
       "    </tr>\n",
       "  </thead>\n",
       "  <tbody>\n",
       "    <tr>\n",
       "      <th>0</th>\n",
       "      <td>1</td>\n",
       "      <td>0</td>\n",
       "      <td>0.827377</td>\n",
       "      <td>1</td>\n",
       "      <td>0.432793</td>\n",
       "      <td>-0.473674</td>\n",
       "      <td>-0.502445</td>\n",
       "      <td>-0.348001</td>\n",
       "      <td>-0.568837</td>\n",
       "      <td>19-35</td>\n",
       "    </tr>\n",
       "    <tr>\n",
       "      <th>1</th>\n",
       "      <td>2</td>\n",
       "      <td>1</td>\n",
       "      <td>-1.566107</td>\n",
       "      <td>2</td>\n",
       "      <td>0.432793</td>\n",
       "      <td>-0.473674</td>\n",
       "      <td>0.786845</td>\n",
       "      <td>0.743791</td>\n",
       "      <td>1.005181</td>\n",
       "      <td>36-50</td>\n",
       "    </tr>\n",
       "    <tr>\n",
       "      <th>2</th>\n",
       "      <td>3</td>\n",
       "      <td>1</td>\n",
       "      <td>0.827377</td>\n",
       "      <td>2</td>\n",
       "      <td>-0.474545</td>\n",
       "      <td>-0.473674</td>\n",
       "      <td>-0.488854</td>\n",
       "      <td>-0.348001</td>\n",
       "      <td>-0.568837</td>\n",
       "      <td>19-35</td>\n",
       "    </tr>\n",
       "    <tr>\n",
       "      <th>3</th>\n",
       "      <td>4</td>\n",
       "      <td>1</td>\n",
       "      <td>-1.566107</td>\n",
       "      <td>2</td>\n",
       "      <td>0.432793</td>\n",
       "      <td>-0.473674</td>\n",
       "      <td>0.420730</td>\n",
       "      <td>0.743791</td>\n",
       "      <td>-0.568837</td>\n",
       "      <td>19-35</td>\n",
       "    </tr>\n",
       "    <tr>\n",
       "      <th>4</th>\n",
       "      <td>5</td>\n",
       "      <td>0</td>\n",
       "      <td>0.827377</td>\n",
       "      <td>1</td>\n",
       "      <td>-0.474545</td>\n",
       "      <td>-0.473674</td>\n",
       "      <td>-0.486337</td>\n",
       "      <td>-0.348001</td>\n",
       "      <td>-0.568837</td>\n",
       "      <td>19-35</td>\n",
       "    </tr>\n",
       "  </tbody>\n",
       "</table>\n",
       "</div>"
      ],
      "text/plain": [
       "   PassengerId  Survived    Pclass  Sex     SibSp     Parch      Fare  \\\n",
       "0            1         0  0.827377    1  0.432793 -0.473674 -0.502445   \n",
       "1            2         1 -1.566107    2  0.432793 -0.473674  0.786845   \n",
       "2            3         1  0.827377    2 -0.474545 -0.473674 -0.488854   \n",
       "3            4         1 -1.566107    2  0.432793 -0.473674  0.420730   \n",
       "4            5         0  0.827377    1 -0.474545 -0.473674 -0.486337   \n",
       "\n",
       "      Cabin  Embarked AgeCategory  \n",
       "0 -0.348001 -0.568837       19-35  \n",
       "1  0.743791  1.005181       36-50  \n",
       "2 -0.348001 -0.568837       19-35  \n",
       "3  0.743791 -0.568837       19-35  \n",
       "4 -0.348001 -0.568837       19-35  "
      ]
     },
     "execution_count": 13,
     "metadata": {},
     "output_type": "execute_result"
    }
   ],
   "source": [
    "train_data.head()"
   ]
  },
  {
   "cell_type": "markdown",
   "id": "819c9885",
   "metadata": {
    "execution": {
     "iopub.execute_input": "2024-03-09T05:51:04.082211Z",
     "iopub.status.busy": "2024-03-09T05:51:04.081792Z",
     "iopub.status.idle": "2024-03-09T05:51:06.641851Z",
     "shell.execute_reply": "2024-03-09T05:51:06.639686Z",
     "shell.execute_reply.started": "2024-03-09T05:51:04.082174Z"
    },
    "papermill": {
     "duration": 0.007179,
     "end_time": "2024-03-28T01:41:10.319318",
     "exception": false,
     "start_time": "2024-03-28T01:41:10.312139",
     "status": "completed"
    },
    "tags": []
   },
   "source": [
    "import matplotlib.pyplot as plt\n",
    "import seaborn as sns\n",
    "sns.set()\n",
    "sns.heatmap(train_data.corr(), cmap='coolwarm',annot=True)\n",
    "plt.show()"
   ]
  },
  {
   "cell_type": "markdown",
   "id": "4381e825",
   "metadata": {
    "execution": {
     "iopub.execute_input": "2024-03-09T05:54:49.358365Z",
     "iopub.status.busy": "2024-03-09T05:54:49.356097Z",
     "iopub.status.idle": "2024-03-09T05:54:51.885614Z",
     "shell.execute_reply": "2024-03-09T05:54:51.883995Z",
     "shell.execute_reply.started": "2024-03-09T05:54:49.358321Z"
    },
    "papermill": {
     "duration": 0.007011,
     "end_time": "2024-03-28T01:41:10.333671",
     "exception": false,
     "start_time": "2024-03-28T01:41:10.326660",
     "status": "completed"
    },
    "tags": []
   },
   "source": [
    "import matplotlib.pyplot as plt\n",
    "import seaborn as sns\n",
    "sns.set()\n",
    "sns.heatmap(train_data.corr(), cmap='coolwarm',annot=True)\n",
    "plt.show()"
   ]
  },
  {
   "cell_type": "markdown",
   "id": "d214bd72",
   "metadata": {
    "execution": {
     "iopub.execute_input": "2024-03-09T05:58:03.161271Z",
     "iopub.status.busy": "2024-03-09T05:58:03.160722Z",
     "iopub.status.idle": "2024-03-09T05:58:20.847964Z",
     "shell.execute_reply": "2024-03-09T05:58:20.846805Z",
     "shell.execute_reply.started": "2024-03-09T05:58:03.161139Z"
    },
    "papermill": {
     "duration": 0.007228,
     "end_time": "2024-03-28T01:41:10.348195",
     "exception": false,
     "start_time": "2024-03-28T01:41:10.340967",
     "status": "completed"
    },
    "tags": []
   },
   "source": [
    "sns.set_style('whitegrid')\n",
    "sns.pairplot(train_data)\n",
    "plt.show()"
   ]
  },
  {
   "cell_type": "code",
   "execution_count": 14,
   "id": "9390794f",
   "metadata": {
    "execution": {
     "iopub.execute_input": "2024-03-28T01:41:10.364822Z",
     "iopub.status.busy": "2024-03-28T01:41:10.364288Z",
     "iopub.status.idle": "2024-03-28T01:41:10.404147Z",
     "shell.execute_reply": "2024-03-28T01:41:10.402804Z"
    },
    "papermill": {
     "duration": 0.051905,
     "end_time": "2024-03-28T01:41:10.407429",
     "exception": false,
     "start_time": "2024-03-28T01:41:10.355524",
     "status": "completed"
    },
    "tags": []
   },
   "outputs": [
    {
     "name": "stdout",
     "output_type": "stream",
     "text": [
      "<class 'pandas.core.frame.DataFrame'>\n",
      "RangeIndex: 418 entries, 0 to 417\n",
      "Data columns (total 15 columns):\n",
      " #   Column           Non-Null Count  Dtype   \n",
      "---  ------           --------------  -----   \n",
      " 0   PassengerId      418 non-null    int64   \n",
      " 1   Pclass           418 non-null    int64   \n",
      " 2   Name             418 non-null    object  \n",
      " 3   Sex              418 non-null    int64   \n",
      " 4   SibSp            418 non-null    int64   \n",
      " 5   Parch            418 non-null    int64   \n",
      " 6   Ticket           418 non-null    object  \n",
      " 7   Fare             418 non-null    float64 \n",
      " 8   Cabin            418 non-null    int64   \n",
      " 9   Embarked         418 non-null    int64   \n",
      " 10  CabinLetter      418 non-null    object  \n",
      " 11  AgeCategory      418 non-null    category\n",
      " 12  CabinOrdinal     418 non-null    int64   \n",
      " 13  SexOrdinal       418 non-null    int64   \n",
      " 14  EmbarkedOrdinal  418 non-null    int64   \n",
      "dtypes: category(1), float64(1), int64(10), object(3)\n",
      "memory usage: 46.5+ KB\n",
      "None\n"
     ]
    }
   ],
   "source": [
    "from sklearn.impute import SimpleImputer\n",
    "\n",
    "# Extract the 'Cabin' column\n",
    "cabin_column = test_data[['Cabin']]\n",
    "embarked_column = test_data[['Embarked']]\n",
    "\n",
    "# Use SimpleImputer to fill in NaN values in the 'Cabin' column\n",
    "imputer = SimpleImputer(strategy='most_frequent')\n",
    "cabin_column_imputed = imputer.fit_transform(cabin_column)\n",
    "embarked_column_imputed = imputer.fit_transform(embarked_column)\n",
    "\n",
    "# Flatten the 2D array to a 1D array using ravel()\n",
    "cabin_column_imputed = cabin_column_imputed.ravel()\n",
    "test_data['Embarked']=embarked_column_imputed.ravel()\n",
    "# Convert the NumPy array to a pandas Series\n",
    "cabin_column_imputed_series = pd.Series(cabin_column_imputed)\n",
    "\n",
    "# Extract the cabin letter\n",
    "test_data['CabinLetter'] = cabin_column_imputed_series.astype(str).str[0]\n",
    "\n",
    "# age related median transform\n",
    "age_column = test_data[['Age']]\n",
    "fare_column = test_data[['Fare']]\n",
    "imputer = SimpleImputer(strategy='median')\n",
    "test_data[['Age']]=imputer.fit_transform(age_column)\n",
    "test_data[['Fare']]=imputer.fit_transform(fare_column)\n",
    "\n",
    "\n",
    "\n",
    "# Define your age bins and labels\n",
    "age_bins = [0, 18, 35, 50, 100]  # You can adjust these bins as needed\n",
    "age_labels = ['0-18', '19-35', '36-50', '51+']\n",
    "\n",
    "# Create a new categorical column 'AgeCategory' based on the bins and labels\n",
    "test_data['AgeCategory'] = pd.cut(test_data['Age'], bins=age_bins, labels=age_labels, include_lowest=True)\n",
    "\n",
    "# Drop the original 'Age' column if you no longer want to use it in the analysis\n",
    "test_data = test_data.drop('Age', axis=1)\n",
    "\n",
    "\n",
    "# Map the cabin letter to ordinal categories\n",
    "cabin_mapping = {'A': 1, 'B': 2, 'C': 3, 'D': 4, 'E': 5, 'F': 6, 'G': 7, 'T': 8}  # Add more categories as needed\n",
    "embarked_mapping = {'S': 1, 'C': 2, 'Q': 3}\n",
    "gender_mapping = {'male': 1, 'female': 2}\n",
    "test_data['CabinOrdinal'] = test_data['CabinLetter'].map(cabin_mapping)\n",
    "test_data['SexOrdinal'] = test_data['Sex'].map(gender_mapping)\n",
    "test_data['Cabin']=test_data['CabinOrdinal']\n",
    "test_data['EmbarkedOrdinal'] = test_data['Embarked'].map(embarked_mapping)\n",
    "test_data['Embarked']=test_data['EmbarkedOrdinal']\n",
    "test_data['Sex']=test_data['SexOrdinal']\n",
    "# Display the result\n",
    "print(test_data.info())"
   ]
  },
  {
   "cell_type": "code",
   "execution_count": 15,
   "id": "becc0783",
   "metadata": {
    "execution": {
     "iopub.execute_input": "2024-03-28T01:41:10.425578Z",
     "iopub.status.busy": "2024-03-28T01:41:10.424836Z",
     "iopub.status.idle": "2024-03-28T01:41:10.436949Z",
     "shell.execute_reply": "2024-03-28T01:41:10.436155Z"
    },
    "papermill": {
     "duration": 0.024131,
     "end_time": "2024-03-28T01:41:10.439549",
     "exception": false,
     "start_time": "2024-03-28T01:41:10.415418",
     "status": "completed"
    },
    "tags": []
   },
   "outputs": [],
   "source": [
    "test_data=test_data.drop(columns=['EmbarkedOrdinal'])\n",
    "test_data=test_data.drop(columns=['SexOrdinal'])\n",
    "test_data=test_data.drop(columns=['Ticket'])\n",
    "test_data=test_data.drop(columns=['Name'])\n",
    "test_data=test_data.drop(columns=['CabinOrdinal'])\n",
    "test_data=test_data.drop(columns=['CabinLetter'])\n",
    "columns_to_scale = ['Pclass', 'SibSp', 'Parch', 'Fare', 'Cabin', 'Embarked']\n",
    "\n",
    "# Initialize the StandardScaler\n",
    "scaler = StandardScaler()\n",
    "\n",
    "# Scale the selected columns\n",
    "test_data[columns_to_scale] = scaler.fit_transform(test_data[columns_to_scale])\n"
   ]
  },
  {
   "cell_type": "code",
   "execution_count": 16,
   "id": "f383a56d",
   "metadata": {
    "execution": {
     "iopub.execute_input": "2024-03-28T01:41:10.456950Z",
     "iopub.status.busy": "2024-03-28T01:41:10.456418Z",
     "iopub.status.idle": "2024-03-28T01:41:10.466539Z",
     "shell.execute_reply": "2024-03-28T01:41:10.465922Z"
    },
    "papermill": {
     "duration": 0.020919,
     "end_time": "2024-03-28T01:41:10.468290",
     "exception": false,
     "start_time": "2024-03-28T01:41:10.447371",
     "status": "completed"
    },
    "tags": []
   },
   "outputs": [
    {
     "name": "stdout",
     "output_type": "stream",
     "text": [
      "<class 'pandas.core.frame.DataFrame'>\n",
      "RangeIndex: 891 entries, 0 to 890\n",
      "Data columns (total 10 columns):\n",
      " #   Column       Non-Null Count  Dtype   \n",
      "---  ------       --------------  -----   \n",
      " 0   PassengerId  891 non-null    int64   \n",
      " 1   Survived     891 non-null    int64   \n",
      " 2   Pclass       891 non-null    float64 \n",
      " 3   Sex          891 non-null    int64   \n",
      " 4   SibSp        891 non-null    float64 \n",
      " 5   Parch        891 non-null    float64 \n",
      " 6   Fare         891 non-null    float64 \n",
      " 7   Cabin        891 non-null    float64 \n",
      " 8   Embarked     891 non-null    float64 \n",
      " 9   AgeCategory  891 non-null    category\n",
      "dtypes: category(1), float64(6), int64(3)\n",
      "memory usage: 63.8 KB\n"
     ]
    }
   ],
   "source": [
    "train_data.info()"
   ]
  },
  {
   "cell_type": "code",
   "execution_count": 17,
   "id": "21a89c54",
   "metadata": {
    "execution": {
     "iopub.execute_input": "2024-03-28T01:41:10.486227Z",
     "iopub.status.busy": "2024-03-28T01:41:10.485660Z",
     "iopub.status.idle": "2024-03-28T01:41:10.492213Z",
     "shell.execute_reply": "2024-03-28T01:41:10.491380Z"
    },
    "papermill": {
     "duration": 0.01767,
     "end_time": "2024-03-28T01:41:10.494459",
     "exception": false,
     "start_time": "2024-03-28T01:41:10.476789",
     "status": "completed"
    },
    "tags": []
   },
   "outputs": [
    {
     "name": "stdout",
     "output_type": "stream",
     "text": [
      "Columns with NaN values: Index([], dtype='object')\n"
     ]
    }
   ],
   "source": [
    "columns_with_nan = train_data.columns[train_data.isnull().any()]\n",
    "\n",
    "# Display columns with NaN values\n",
    "print(\"Columns with NaN values:\", columns_with_nan)"
   ]
  },
  {
   "cell_type": "markdown",
   "id": "04d970db",
   "metadata": {
    "execution": {
     "iopub.execute_input": "2024-03-07T04:12:57.464738Z",
     "iopub.status.busy": "2024-03-07T04:12:57.464297Z",
     "iopub.status.idle": "2024-03-07T04:12:57.504898Z",
     "shell.execute_reply": "2024-03-07T04:12:57.503091Z",
     "shell.execute_reply.started": "2024-03-07T04:12:57.464696Z"
    },
    "papermill": {
     "duration": 0.007541,
     "end_time": "2024-03-28T01:41:10.510353",
     "exception": false,
     "start_time": "2024-03-28T01:41:10.502812",
     "status": "completed"
    },
    "tags": []
   },
   "source": []
  },
  {
   "cell_type": "markdown",
   "id": "04911e22",
   "metadata": {
    "execution": {
     "iopub.execute_input": "2024-03-09T05:55:41.586684Z",
     "iopub.status.busy": "2024-03-09T05:55:41.586276Z",
     "iopub.status.idle": "2024-03-09T05:55:41.622996Z",
     "shell.execute_reply": "2024-03-09T05:55:41.621609Z",
     "shell.execute_reply.started": "2024-03-09T05:55:41.586650Z"
    },
    "papermill": {
     "duration": 0.007459,
     "end_time": "2024-03-28T01:41:10.525904",
     "exception": false,
     "start_time": "2024-03-28T01:41:10.518445",
     "status": "completed"
    },
    "tags": []
   },
   "source": [
    "women = train_data.loc[train_data.Sex == 2][\"Survived\"]\n",
    "rate_women = sum(women)/len(women)\n",
    "\n",
    "print(\"% of women who survived:\", rate_women)"
   ]
  },
  {
   "cell_type": "markdown",
   "id": "aa3bfff8",
   "metadata": {
    "papermill": {
     "duration": 0.00729,
     "end_time": "2024-03-28T01:41:10.541000",
     "exception": false,
     "start_time": "2024-03-28T01:41:10.533710",
     "status": "completed"
    },
    "tags": []
   },
   "source": [
    "men = train_data.loc[train_data.Sex == 1][\"Survived\"]\n",
    "rate_men = sum(men)/len(men)\n",
    "\n",
    "print(\"% of men who survived:\", rate_men)"
   ]
  },
  {
   "cell_type": "code",
   "execution_count": 18,
   "id": "ff397f81",
   "metadata": {
    "execution": {
     "iopub.execute_input": "2024-03-28T01:41:10.557874Z",
     "iopub.status.busy": "2024-03-28T01:41:10.557508Z",
     "iopub.status.idle": "2024-03-28T01:41:10.591109Z",
     "shell.execute_reply": "2024-03-28T01:41:10.589417Z"
    },
    "papermill": {
     "duration": 0.045023,
     "end_time": "2024-03-28T01:41:10.593679",
     "exception": false,
     "start_time": "2024-03-28T01:41:10.548656",
     "status": "completed"
    },
    "tags": []
   },
   "outputs": [
    {
     "name": "stdout",
     "output_type": "stream",
     "text": [
      "Index([], dtype='object')\n",
      "Empty DataFrame\n",
      "Columns: []\n",
      "Index: [0, 1, 2, 3, 4, 5, 6, 7, 8, 9, 10, 11, 12, 13, 14, 15, 16, 17, 18, 19, 20, 21, 22, 23, 24, 25, 26, 27, 28, 29, 30, 31, 32, 33, 34, 35, 36, 37, 38, 39, 40, 41, 42, 43, 44, 45, 46, 47, 48, 49, 50, 51, 52, 53, 54, 55, 56, 57, 58, 59, 60, 61, 62, 63, 64, 65, 66, 67, 68, 69, 70, 71, 72, 73, 74, 75, 76, 77, 78, 79, 80, 81, 82, 83, 84, 85, 86, 87, 88, 89, 90, 91, 92, 93, 94, 95, 96, 97, 98, 99, ...]\n",
      "\n",
      "[891 rows x 0 columns]\n",
      "Index([], dtype='object')\n",
      "Empty DataFrame\n",
      "Columns: []\n",
      "Index: [0, 1, 2, 3, 4, 5, 6, 7, 8, 9, 10, 11, 12, 13, 14, 15, 16, 17, 18, 19, 20, 21, 22, 23, 24, 25, 26, 27, 28, 29, 30, 31, 32, 33, 34, 35, 36, 37, 38, 39, 40, 41, 42, 43, 44, 45, 46, 47, 48, 49, 50, 51, 52, 53, 54, 55, 56, 57, 58, 59, 60, 61, 62, 63, 64, 65, 66, 67, 68, 69, 70, 71, 72, 73, 74, 75, 76, 77, 78, 79, 80, 81, 82, 83, 84, 85, 86, 87, 88, 89, 90, 91, 92, 93, 94, 95, 96, 97, 98, 99, ...]\n",
      "\n",
      "[418 rows x 0 columns]\n",
      "Rows with non-numeric values:\n",
      "Empty DataFrame\n",
      "Columns: [PassengerId, Survived, Pclass, SibSp, Parch, Fare, Cabin, Sex_1, Sex_2, Embarked_-0.5688371232977534, Embarked_1.0051811278149745, Embarked_2.5791993789277026, AgeCategory_0-18, AgeCategory_19-35, AgeCategory_36-50, AgeCategory_51+]\n",
      "Index: []\n",
      "Empty DataFrame\n",
      "Columns: [PassengerId, Pclass, SibSp, Parch, Fare, Cabin, Sex_1, Sex_2, Embarked_-0.6778412042027621, Embarked_0.7826620089763847, Embarked_2.2431652221555316, AgeCategory_0-18, AgeCategory_19-35, AgeCategory_36-50, AgeCategory_51+]\n",
      "Index: []\n"
     ]
    },
    {
     "name": "stderr",
     "output_type": "stream",
     "text": [
      "/tmp/ipykernel_17/4006770362.py:10: FutureWarning: Downcasting behavior in `replace` is deprecated and will be removed in a future version. To retain the old behavior, explicitly call `result.infer_objects(copy=False)`. To opt-in to the future behavior, set `pd.set_option('future.no_silent_downcasting', True)`\n",
      "  train_data = train_data.replace({True: 1, False: 0})\n",
      "/tmp/ipykernel_17/4006770362.py:12: FutureWarning: Downcasting behavior in `replace` is deprecated and will be removed in a future version. To retain the old behavior, explicitly call `result.infer_objects(copy=False)`. To opt-in to the future behavior, set `pd.set_option('future.no_silent_downcasting', True)`\n",
      "  test_data = test_data.replace({True: 1, False: 0})\n"
     ]
    }
   ],
   "source": [
    "# Handle missing values\n",
    "train_data = train_data.dropna()\n",
    "test_data = test_data.dropna()\n",
    "\n",
    "# Convert categorical variables to one-hot encoding\n",
    "train_data = pd.get_dummies(train_data, columns=[\"Sex\", \"Embarked\", \"AgeCategory\"])\n",
    "test_data = pd.get_dummies(test_data, columns=[\"Sex\", \"Embarked\", \"AgeCategory\"])\n",
    "\n",
    "# Alternatively, you can explicitly replace True and False with 1 and 0\n",
    "train_data = train_data.replace({True: 1, False: 0})\n",
    "\n",
    "test_data = test_data.replace({True: 1, False: 0})\n",
    "\n",
    "# Select columns with non-numeric data types\n",
    "non_numeric_columns = train_data.select_dtypes(exclude=[np.number]).columns\n",
    "print(non_numeric_columns)\n",
    "print (train_data[non_numeric_columns])\n",
    "\n",
    "non_numeric_columnsTest = test_data.select_dtypes(exclude=[np.number]).columns\n",
    "print(non_numeric_columnsTest)\n",
    "print (test_data[non_numeric_columnsTest])\n",
    "\n",
    "\n",
    "# Check for non-numeric values\n",
    "non_numeric_values = train_data[train_data[non_numeric_columns].apply(lambda x: x.str.isnumeric()).any(axis=1)]\n",
    "\n",
    "# Check for non-numeric values\n",
    "non_numeric_valuesTest = test_data[test_data[non_numeric_columnsTest].apply(lambda x: x.str.isnumeric()).any(axis=1)]\n",
    "\n",
    "\n",
    "# Print rows with non-numeric values\n",
    "print(\"Rows with non-numeric values:\")\n",
    "print(non_numeric_values)\n",
    "print(non_numeric_valuesTest)\n",
    "\n"
   ]
  },
  {
   "cell_type": "code",
   "execution_count": 19,
   "id": "9ef2dcc2",
   "metadata": {
    "execution": {
     "iopub.execute_input": "2024-03-28T01:41:10.612524Z",
     "iopub.status.busy": "2024-03-28T01:41:10.612165Z",
     "iopub.status.idle": "2024-03-28T01:41:17.033727Z",
     "shell.execute_reply": "2024-03-28T01:41:17.031989Z"
    },
    "papermill": {
     "duration": 6.435078,
     "end_time": "2024-03-28T01:41:17.037187",
     "exception": false,
     "start_time": "2024-03-28T01:41:10.602109",
     "status": "completed"
    },
    "tags": []
   },
   "outputs": [
    {
     "name": "stderr",
     "output_type": "stream",
     "text": [
      "/opt/conda/lib/python3.10/site-packages/pytorch_tabnet/abstract_model.py:82: UserWarning: Device used : cpu\n",
      "  warnings.warn(f\"Device used : {self.device}\")\n",
      "/opt/conda/lib/python3.10/site-packages/pytorch_tabnet/abstract_model.py:687: UserWarning: No early stopping will be performed, last training weights will be used.\n",
      "  warnings.warn(wrn_msg)\n"
     ]
    },
    {
     "name": "stdout",
     "output_type": "stream",
     "text": [
      "epoch 0  | loss: 0.72335 |  0:00:00s\n",
      "epoch 1  | loss: 0.57321 |  0:00:00s\n",
      "epoch 2  | loss: 0.56018 |  0:00:01s\n",
      "epoch 3  | loss: 0.55875 |  0:00:01s\n",
      "epoch 4  | loss: 0.51186 |  0:00:01s\n",
      "epoch 5  | loss: 0.50057 |  0:00:01s\n",
      "epoch 6  | loss: 0.50813 |  0:00:02s\n",
      "epoch 7  | loss: 0.49736 |  0:00:02s\n",
      "epoch 8  | loss: 0.48958 |  0:00:02s\n",
      "epoch 9  | loss: 0.48582 |  0:00:03s\n",
      "Accuracy: 0.7821229050279329\n"
     ]
    }
   ],
   "source": [
    "# Convert boolean values to integers (0s and 1s)\n",
    "train_data = train_data.astype(int)\n",
    "test_data = test_data.astype(int)\n",
    "\n",
    "\n",
    "# Alternatively, you can explicitly replace True and False with 1 and 0\n",
    "train_data = train_data.replace({True: 1, False: 0})\n",
    "\n",
    "test_data = test_data.replace({True: 1, False: 0})\n",
    "\n",
    "# Check for non-numeric values\n",
    "non_numeric_columns = train_data.select_dtypes(exclude=[\"float64\", \"int64\"]).columns\n",
    "if not non_numeric_columns.empty:\n",
    "    raise ValueError(\"Non-numeric data found in columns: {}\".format(non_numeric_columns))\n",
    "\n",
    "# Define features and target variable\n",
    "X = train_data.drop(columns=[\"Survived\", \"PassengerId\"])\n",
    "y = train_data[\"Survived\"]\n",
    "xTest = test_data.drop(columns=[\"PassengerId\"])\n",
    "\n",
    "\n",
    "# Split the data into training and testing sets\n",
    "X_train, X_test, y_train, y_test = train_test_split(X, y, test_size=0.2, random_state=42)\n",
    "\n",
    "# Convert the data to PyTorch tensors\n",
    "X_trainNp= X_train.to_numpy()\n",
    "y_trainNp     = y_train.to_numpy().reshape(-1, 1)\n",
    "y_trainNp = y_trainNp.flatten()\n",
    "X_testNp = X_test.to_numpy()\n",
    "X_testNPO = xTest.to_numpy()\n",
    "\n",
    "# Initialize the TabNet classifier\n",
    "model = TabNetClassifier()\n",
    "\n",
    "# Fit the model\n",
    "model.fit(X_train=X_trainNp, y_train=y_trainNp, batch_size=32,max_epochs=10)\n",
    "\n",
    "# Predict on the test data\n",
    "predictions = model.predict(X_testNp)\n",
    "outputpredictions = model.predict(X_testNPO)\n",
    "\n",
    "# Evaluate the model (optional)\n",
    "accuracy = (predictions == y_test.values).mean()\n",
    "print(\"Accuracy:\", accuracy)\n",
    "\n",
    "\n",
    "\n"
   ]
  },
  {
   "cell_type": "code",
   "execution_count": 20,
   "id": "81ac7146",
   "metadata": {
    "execution": {
     "iopub.execute_input": "2024-03-28T01:41:17.058360Z",
     "iopub.status.busy": "2024-03-28T01:41:17.057832Z",
     "iopub.status.idle": "2024-03-28T01:41:17.067954Z",
     "shell.execute_reply": "2024-03-28T01:41:17.067171Z"
    },
    "papermill": {
     "duration": 0.023504,
     "end_time": "2024-03-28T01:41:17.070068",
     "exception": false,
     "start_time": "2024-03-28T01:41:17.046564",
     "status": "completed"
    },
    "tags": []
   },
   "outputs": [
    {
     "name": "stdout",
     "output_type": "stream",
     "text": [
      "Your submission was successfully saved!\n"
     ]
    }
   ],
   "source": [
    "\n",
    "# Create a DataFrame with the average predictions\n",
    "output = pd.DataFrame({'PassengerId': test_data.PassengerId, 'Survived': outputpredictions})\n",
    "output.to_csv('submission.csv', index=False)\n",
    "print(\"Your submission was successfully saved!\")"
   ]
  },
  {
   "cell_type": "code",
   "execution_count": 21,
   "id": "d41b9733",
   "metadata": {
    "execution": {
     "iopub.execute_input": "2024-03-28T01:41:17.090052Z",
     "iopub.status.busy": "2024-03-28T01:41:17.089486Z",
     "iopub.status.idle": "2024-03-28T01:41:17.098372Z",
     "shell.execute_reply": "2024-03-28T01:41:17.095936Z"
    },
    "papermill": {
     "duration": 0.021573,
     "end_time": "2024-03-28T01:41:17.100941",
     "exception": false,
     "start_time": "2024-03-28T01:41:17.079368",
     "status": "completed"
    },
    "tags": []
   },
   "outputs": [
    {
     "name": "stdout",
     "output_type": "stream",
     "text": [
      "Differences between the two CSV files:\n"
     ]
    }
   ],
   "source": [
    "import pandas as pd\n",
    "\n",
    "# Load the CSV files into Pandas DataFrames\n",
    "df1 = pd.read_csv('submission.csv')\n",
    "#df2 = pd.read_csv('submission1.csv')\n",
    "\n",
    "# Compare the two DataFrames and find the differences\n",
    "#differences = df1.compare(df2)\n",
    "\n",
    "# Print the differences\n",
    "print(\"Differences between the two CSV files:\")\n",
    "#print(differences)"
   ]
  }
 ],
 "metadata": {
  "kaggle": {
   "accelerator": "none",
   "dataSources": [
    {
     "databundleVersionId": 26502,
     "sourceId": 3136,
     "sourceType": "competition"
    }
   ],
   "dockerImageVersionId": 30664,
   "isGpuEnabled": false,
   "isInternetEnabled": true,
   "language": "python",
   "sourceType": "notebook"
  },
  "kernelspec": {
   "display_name": "Python 3",
   "language": "python",
   "name": "python3"
  },
  "language_info": {
   "codemirror_mode": {
    "name": "ipython",
    "version": 3
   },
   "file_extension": ".py",
   "mimetype": "text/x-python",
   "name": "python",
   "nbconvert_exporter": "python",
   "pygments_lexer": "ipython3",
   "version": "3.10.13"
  },
  "papermill": {
   "default_parameters": {},
   "duration": 29.74823,
   "end_time": "2024-03-28T01:41:18.535389",
   "environment_variables": {},
   "exception": null,
   "input_path": "__notebook__.ipynb",
   "output_path": "__notebook__.ipynb",
   "parameters": {},
   "start_time": "2024-03-28T01:40:48.787159",
   "version": "2.5.0"
  }
 },
 "nbformat": 4,
 "nbformat_minor": 5
}
