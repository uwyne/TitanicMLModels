{
 "cells": [
  {
   "cell_type": "code",
   "execution_count": 1,
   "id": "2b4f523a",
   "metadata": {
    "_cell_guid": "b1076dfc-b9ad-4769-8c92-a6c4dae69d19",
    "_uuid": "8f2839f25d086af736a60e9eeb907d3b93b6e0e5",
    "execution": {
     "iopub.execute_input": "2024-03-18T22:12:16.275725Z",
     "iopub.status.busy": "2024-03-18T22:12:16.274900Z",
     "iopub.status.idle": "2024-03-18T22:12:17.305207Z",
     "shell.execute_reply": "2024-03-18T22:12:17.304064Z"
    },
    "papermill": {
     "duration": 1.042463,
     "end_time": "2024-03-18T22:12:17.308116",
     "exception": false,
     "start_time": "2024-03-18T22:12:16.265653",
     "status": "completed"
    },
    "tags": []
   },
   "outputs": [
    {
     "name": "stdout",
     "output_type": "stream",
     "text": [
      "/kaggle/input/titanic/train.csv\n",
      "/kaggle/input/titanic/test.csv\n",
      "/kaggle/input/titanic/gender_submission.csv\n"
     ]
    }
   ],
   "source": [
    "# This Python 3 environment comes with many helpful analytics libraries installed\n",
    "# It is defined by the kaggle/python Docker image: https://github.com/kaggle/docker-python\n",
    "# For example, here's several helpful packages to load\n",
    "\n",
    "import numpy as np # linear algebra\n",
    "import pandas as pd # data processing, CSV file I/O (e.g. pd.read_csv)\n",
    "\n",
    "# Input data files are available in the read-only \"../input/\" directory\n",
    "# For example, running this (by clicking run or pressing Shift+Enter) will list all files under the input directory\n",
    "\n",
    "import os\n",
    "for dirname, _, filenames in os.walk('/kaggle/input'):\n",
    "    for filename in filenames:\n",
    "        print(os.path.join(dirname, filename))\n",
    "\n",
    "# You can write up to 20GB to the current directory (/kaggle/working/) that gets preserved as output when you create a version using \"Save & Run All\" \n",
    "# You can also write temporary files to /kaggle/temp/, but they won't be saved outside of the current session"
   ]
  },
  {
   "cell_type": "code",
   "execution_count": 2,
   "id": "fe6deb95",
   "metadata": {
    "execution": {
     "iopub.execute_input": "2024-03-18T22:12:17.324594Z",
     "iopub.status.busy": "2024-03-18T22:12:17.323970Z",
     "iopub.status.idle": "2024-03-18T22:12:17.365476Z",
     "shell.execute_reply": "2024-03-18T22:12:17.364255Z"
    },
    "papermill": {
     "duration": 0.052508,
     "end_time": "2024-03-18T22:12:17.368052",
     "exception": false,
     "start_time": "2024-03-18T22:12:17.315544",
     "status": "completed"
    },
    "tags": []
   },
   "outputs": [
    {
     "data": {
      "text/html": [
       "<div>\n",
       "<style scoped>\n",
       "    .dataframe tbody tr th:only-of-type {\n",
       "        vertical-align: middle;\n",
       "    }\n",
       "\n",
       "    .dataframe tbody tr th {\n",
       "        vertical-align: top;\n",
       "    }\n",
       "\n",
       "    .dataframe thead th {\n",
       "        text-align: right;\n",
       "    }\n",
       "</style>\n",
       "<table border=\"1\" class=\"dataframe\">\n",
       "  <thead>\n",
       "    <tr style=\"text-align: right;\">\n",
       "      <th></th>\n",
       "      <th>PassengerId</th>\n",
       "      <th>Survived</th>\n",
       "      <th>Pclass</th>\n",
       "      <th>Name</th>\n",
       "      <th>Sex</th>\n",
       "      <th>Age</th>\n",
       "      <th>SibSp</th>\n",
       "      <th>Parch</th>\n",
       "      <th>Ticket</th>\n",
       "      <th>Fare</th>\n",
       "      <th>Cabin</th>\n",
       "      <th>Embarked</th>\n",
       "    </tr>\n",
       "  </thead>\n",
       "  <tbody>\n",
       "    <tr>\n",
       "      <th>0</th>\n",
       "      <td>1</td>\n",
       "      <td>0</td>\n",
       "      <td>3</td>\n",
       "      <td>Braund, Mr. Owen Harris</td>\n",
       "      <td>male</td>\n",
       "      <td>22.0</td>\n",
       "      <td>1</td>\n",
       "      <td>0</td>\n",
       "      <td>A/5 21171</td>\n",
       "      <td>7.2500</td>\n",
       "      <td>NaN</td>\n",
       "      <td>S</td>\n",
       "    </tr>\n",
       "    <tr>\n",
       "      <th>1</th>\n",
       "      <td>2</td>\n",
       "      <td>1</td>\n",
       "      <td>1</td>\n",
       "      <td>Cumings, Mrs. John Bradley (Florence Briggs Th...</td>\n",
       "      <td>female</td>\n",
       "      <td>38.0</td>\n",
       "      <td>1</td>\n",
       "      <td>0</td>\n",
       "      <td>PC 17599</td>\n",
       "      <td>71.2833</td>\n",
       "      <td>C85</td>\n",
       "      <td>C</td>\n",
       "    </tr>\n",
       "    <tr>\n",
       "      <th>2</th>\n",
       "      <td>3</td>\n",
       "      <td>1</td>\n",
       "      <td>3</td>\n",
       "      <td>Heikkinen, Miss. Laina</td>\n",
       "      <td>female</td>\n",
       "      <td>26.0</td>\n",
       "      <td>0</td>\n",
       "      <td>0</td>\n",
       "      <td>STON/O2. 3101282</td>\n",
       "      <td>7.9250</td>\n",
       "      <td>NaN</td>\n",
       "      <td>S</td>\n",
       "    </tr>\n",
       "    <tr>\n",
       "      <th>3</th>\n",
       "      <td>4</td>\n",
       "      <td>1</td>\n",
       "      <td>1</td>\n",
       "      <td>Futrelle, Mrs. Jacques Heath (Lily May Peel)</td>\n",
       "      <td>female</td>\n",
       "      <td>35.0</td>\n",
       "      <td>1</td>\n",
       "      <td>0</td>\n",
       "      <td>113803</td>\n",
       "      <td>53.1000</td>\n",
       "      <td>C123</td>\n",
       "      <td>S</td>\n",
       "    </tr>\n",
       "    <tr>\n",
       "      <th>4</th>\n",
       "      <td>5</td>\n",
       "      <td>0</td>\n",
       "      <td>3</td>\n",
       "      <td>Allen, Mr. William Henry</td>\n",
       "      <td>male</td>\n",
       "      <td>35.0</td>\n",
       "      <td>0</td>\n",
       "      <td>0</td>\n",
       "      <td>373450</td>\n",
       "      <td>8.0500</td>\n",
       "      <td>NaN</td>\n",
       "      <td>S</td>\n",
       "    </tr>\n",
       "  </tbody>\n",
       "</table>\n",
       "</div>"
      ],
      "text/plain": [
       "   PassengerId  Survived  Pclass  \\\n",
       "0            1         0       3   \n",
       "1            2         1       1   \n",
       "2            3         1       3   \n",
       "3            4         1       1   \n",
       "4            5         0       3   \n",
       "\n",
       "                                                Name     Sex   Age  SibSp  \\\n",
       "0                            Braund, Mr. Owen Harris    male  22.0      1   \n",
       "1  Cumings, Mrs. John Bradley (Florence Briggs Th...  female  38.0      1   \n",
       "2                             Heikkinen, Miss. Laina  female  26.0      0   \n",
       "3       Futrelle, Mrs. Jacques Heath (Lily May Peel)  female  35.0      1   \n",
       "4                           Allen, Mr. William Henry    male  35.0      0   \n",
       "\n",
       "   Parch            Ticket     Fare Cabin Embarked  \n",
       "0      0         A/5 21171   7.2500   NaN        S  \n",
       "1      0          PC 17599  71.2833   C85        C  \n",
       "2      0  STON/O2. 3101282   7.9250   NaN        S  \n",
       "3      0            113803  53.1000  C123        S  \n",
       "4      0            373450   8.0500   NaN        S  "
      ]
     },
     "execution_count": 2,
     "metadata": {},
     "output_type": "execute_result"
    }
   ],
   "source": [
    "train_data = pd.read_csv(\"/kaggle/input/titanic/train.csv\")\n",
    "train_data.head()"
   ]
  },
  {
   "cell_type": "code",
   "execution_count": 3,
   "id": "86ddf121",
   "metadata": {
    "execution": {
     "iopub.execute_input": "2024-03-18T22:12:17.383562Z",
     "iopub.status.busy": "2024-03-18T22:12:17.383068Z",
     "iopub.status.idle": "2024-03-18T22:12:17.401519Z",
     "shell.execute_reply": "2024-03-18T22:12:17.399916Z"
    },
    "papermill": {
     "duration": 0.029682,
     "end_time": "2024-03-18T22:12:17.404434",
     "exception": false,
     "start_time": "2024-03-18T22:12:17.374752",
     "status": "completed"
    },
    "tags": []
   },
   "outputs": [
    {
     "data": {
      "text/plain": [
       "0"
      ]
     },
     "execution_count": 3,
     "metadata": {},
     "output_type": "execute_result"
    }
   ],
   "source": [
    "sum(train_data.duplicated())"
   ]
  },
  {
   "cell_type": "code",
   "execution_count": 4,
   "id": "d8c4bb4b",
   "metadata": {
    "execution": {
     "iopub.execute_input": "2024-03-18T22:12:17.420525Z",
     "iopub.status.busy": "2024-03-18T22:12:17.419371Z",
     "iopub.status.idle": "2024-03-18T22:12:17.428819Z",
     "shell.execute_reply": "2024-03-18T22:12:17.427640Z"
    },
    "papermill": {
     "duration": 0.019951,
     "end_time": "2024-03-18T22:12:17.431237",
     "exception": false,
     "start_time": "2024-03-18T22:12:17.411286",
     "status": "completed"
    },
    "tags": []
   },
   "outputs": [],
   "source": [
    "train_data.drop_duplicates(inplace=True)"
   ]
  },
  {
   "cell_type": "code",
   "execution_count": 5,
   "id": "1dc12c3b",
   "metadata": {
    "execution": {
     "iopub.execute_input": "2024-03-18T22:12:17.447376Z",
     "iopub.status.busy": "2024-03-18T22:12:17.446975Z",
     "iopub.status.idle": "2024-03-18T22:12:17.459736Z",
     "shell.execute_reply": "2024-03-18T22:12:17.458862Z"
    },
    "papermill": {
     "duration": 0.023491,
     "end_time": "2024-03-18T22:12:17.462131",
     "exception": false,
     "start_time": "2024-03-18T22:12:17.438640",
     "status": "completed"
    },
    "tags": []
   },
   "outputs": [
    {
     "data": {
      "text/plain": [
       "PassengerId    891\n",
       "Survived         2\n",
       "Pclass           3\n",
       "Name           891\n",
       "Sex              2\n",
       "Age             88\n",
       "SibSp            7\n",
       "Parch            7\n",
       "Ticket         681\n",
       "Fare           248\n",
       "Cabin          147\n",
       "Embarked         3\n",
       "dtype: int64"
      ]
     },
     "execution_count": 5,
     "metadata": {},
     "output_type": "execute_result"
    }
   ],
   "source": [
    "train_data.nunique()"
   ]
  },
  {
   "cell_type": "code",
   "execution_count": 6,
   "id": "e2b53640",
   "metadata": {
    "execution": {
     "iopub.execute_input": "2024-03-18T22:12:17.477974Z",
     "iopub.status.busy": "2024-03-18T22:12:17.477509Z",
     "iopub.status.idle": "2024-03-18T22:12:17.502082Z",
     "shell.execute_reply": "2024-03-18T22:12:17.500802Z"
    },
    "papermill": {
     "duration": 0.035677,
     "end_time": "2024-03-18T22:12:17.504657",
     "exception": false,
     "start_time": "2024-03-18T22:12:17.468980",
     "status": "completed"
    },
    "tags": []
   },
   "outputs": [
    {
     "name": "stdout",
     "output_type": "stream",
     "text": [
      "<class 'pandas.core.frame.DataFrame'>\n",
      "RangeIndex: 891 entries, 0 to 890\n",
      "Data columns (total 12 columns):\n",
      " #   Column       Non-Null Count  Dtype  \n",
      "---  ------       --------------  -----  \n",
      " 0   PassengerId  891 non-null    int64  \n",
      " 1   Survived     891 non-null    int64  \n",
      " 2   Pclass       891 non-null    int64  \n",
      " 3   Name         891 non-null    object \n",
      " 4   Sex          891 non-null    object \n",
      " 5   Age          714 non-null    float64\n",
      " 6   SibSp        891 non-null    int64  \n",
      " 7   Parch        891 non-null    int64  \n",
      " 8   Ticket       891 non-null    object \n",
      " 9   Fare         891 non-null    float64\n",
      " 10  Cabin        204 non-null    object \n",
      " 11  Embarked     889 non-null    object \n",
      "dtypes: float64(2), int64(5), object(5)\n",
      "memory usage: 83.7+ KB\n"
     ]
    }
   ],
   "source": [
    "train_data.info()"
   ]
  },
  {
   "cell_type": "code",
   "execution_count": 7,
   "id": "7dcc4c4a",
   "metadata": {
    "execution": {
     "iopub.execute_input": "2024-03-18T22:12:17.520951Z",
     "iopub.status.busy": "2024-03-18T22:12:17.520551Z",
     "iopub.status.idle": "2024-03-18T22:12:17.541952Z",
     "shell.execute_reply": "2024-03-18T22:12:17.541067Z"
    },
    "papermill": {
     "duration": 0.032709,
     "end_time": "2024-03-18T22:12:17.544367",
     "exception": false,
     "start_time": "2024-03-18T22:12:17.511658",
     "status": "completed"
    },
    "tags": []
   },
   "outputs": [
    {
     "data": {
      "text/html": [
       "<div>\n",
       "<style scoped>\n",
       "    .dataframe tbody tr th:only-of-type {\n",
       "        vertical-align: middle;\n",
       "    }\n",
       "\n",
       "    .dataframe tbody tr th {\n",
       "        vertical-align: top;\n",
       "    }\n",
       "\n",
       "    .dataframe thead th {\n",
       "        text-align: right;\n",
       "    }\n",
       "</style>\n",
       "<table border=\"1\" class=\"dataframe\">\n",
       "  <thead>\n",
       "    <tr style=\"text-align: right;\">\n",
       "      <th></th>\n",
       "      <th>Name</th>\n",
       "      <th>Sex</th>\n",
       "      <th>Ticket</th>\n",
       "      <th>Cabin</th>\n",
       "      <th>Embarked</th>\n",
       "    </tr>\n",
       "  </thead>\n",
       "  <tbody>\n",
       "    <tr>\n",
       "      <th>count</th>\n",
       "      <td>891</td>\n",
       "      <td>891</td>\n",
       "      <td>891</td>\n",
       "      <td>204</td>\n",
       "      <td>889</td>\n",
       "    </tr>\n",
       "    <tr>\n",
       "      <th>unique</th>\n",
       "      <td>891</td>\n",
       "      <td>2</td>\n",
       "      <td>681</td>\n",
       "      <td>147</td>\n",
       "      <td>3</td>\n",
       "    </tr>\n",
       "    <tr>\n",
       "      <th>top</th>\n",
       "      <td>Braund, Mr. Owen Harris</td>\n",
       "      <td>male</td>\n",
       "      <td>347082</td>\n",
       "      <td>B96 B98</td>\n",
       "      <td>S</td>\n",
       "    </tr>\n",
       "    <tr>\n",
       "      <th>freq</th>\n",
       "      <td>1</td>\n",
       "      <td>577</td>\n",
       "      <td>7</td>\n",
       "      <td>4</td>\n",
       "      <td>644</td>\n",
       "    </tr>\n",
       "  </tbody>\n",
       "</table>\n",
       "</div>"
      ],
      "text/plain": [
       "                           Name   Sex  Ticket    Cabin Embarked\n",
       "count                       891   891     891      204      889\n",
       "unique                      891     2     681      147        3\n",
       "top     Braund, Mr. Owen Harris  male  347082  B96 B98        S\n",
       "freq                          1   577       7        4      644"
      ]
     },
     "execution_count": 7,
     "metadata": {},
     "output_type": "execute_result"
    }
   ],
   "source": [
    "train_data.describe(include=['O'])"
   ]
  },
  {
   "cell_type": "code",
   "execution_count": 8,
   "id": "bddf0902",
   "metadata": {
    "execution": {
     "iopub.execute_input": "2024-03-18T22:12:17.561069Z",
     "iopub.status.busy": "2024-03-18T22:12:17.560354Z",
     "iopub.status.idle": "2024-03-18T22:12:17.567252Z",
     "shell.execute_reply": "2024-03-18T22:12:17.565741Z"
    },
    "papermill": {
     "duration": 0.017936,
     "end_time": "2024-03-18T22:12:17.569337",
     "exception": false,
     "start_time": "2024-03-18T22:12:17.551401",
     "status": "completed"
    },
    "tags": []
   },
   "outputs": [
    {
     "name": "stdout",
     "output_type": "stream",
     "text": [
      "['male' 'female']\n"
     ]
    }
   ],
   "source": [
    "unique_labels = train_data[\"Sex\"].explode().unique()\n",
    "print(unique_labels)"
   ]
  },
  {
   "cell_type": "code",
   "execution_count": 9,
   "id": "839fb8ea",
   "metadata": {
    "execution": {
     "iopub.execute_input": "2024-03-18T22:12:17.587187Z",
     "iopub.status.busy": "2024-03-18T22:12:17.586453Z",
     "iopub.status.idle": "2024-03-18T22:12:19.348153Z",
     "shell.execute_reply": "2024-03-18T22:12:19.347117Z"
    },
    "papermill": {
     "duration": 1.774331,
     "end_time": "2024-03-18T22:12:19.350875",
     "exception": false,
     "start_time": "2024-03-18T22:12:17.576544",
     "status": "completed"
    },
    "tags": []
   },
   "outputs": [
    {
     "name": "stdout",
     "output_type": "stream",
     "text": [
      "<class 'pandas.core.frame.DataFrame'>\n",
      "RangeIndex: 891 entries, 0 to 890\n",
      "Data columns (total 16 columns):\n",
      " #   Column           Non-Null Count  Dtype   \n",
      "---  ------           --------------  -----   \n",
      " 0   PassengerId      891 non-null    int64   \n",
      " 1   Survived         891 non-null    int64   \n",
      " 2   Pclass           891 non-null    int64   \n",
      " 3   Name             891 non-null    object  \n",
      " 4   Sex              891 non-null    int64   \n",
      " 5   SibSp            891 non-null    int64   \n",
      " 6   Parch            891 non-null    int64   \n",
      " 7   Ticket           891 non-null    object  \n",
      " 8   Fare             891 non-null    float64 \n",
      " 9   Cabin            891 non-null    int64   \n",
      " 10  Embarked         891 non-null    int64   \n",
      " 11  CabinLetter      891 non-null    object  \n",
      " 12  AgeCategory      891 non-null    category\n",
      " 13  CabinOrdinal     891 non-null    int64   \n",
      " 14  SexOrdinal       891 non-null    int64   \n",
      " 15  EmbarkedOrdinal  891 non-null    int64   \n",
      "dtypes: category(1), float64(1), int64(11), object(3)\n",
      "memory usage: 105.6+ KB\n",
      "None\n"
     ]
    }
   ],
   "source": [
    "import pandas as pd\n",
    "import numpy as np\n",
    "from sklearn.impute import SimpleImputer\n",
    "\n",
    "# Extract the 'Cabin' column\n",
    "cabin_column = train_data[['Cabin']]\n",
    "embarked_column = train_data[['Embarked']]\n",
    "\n",
    "\n",
    "# Use SimpleImputer to fill in NaN values in the 'Cabin' column\n",
    "imputer = SimpleImputer(strategy='most_frequent')\n",
    "cabin_column_imputed = imputer.fit_transform(cabin_column)\n",
    "embarked_column_imputed = imputer.fit_transform(embarked_column)\n",
    "\n",
    "# Flatten the 2D array to a 1D array using ravel()\n",
    "cabin_column_imputed = cabin_column_imputed.ravel()\n",
    "train_data['Embarked']=embarked_column_imputed.ravel()\n",
    "\n",
    "# Convert the NumPy array to a pandas Series\n",
    "cabin_column_imputed_series = pd.Series(cabin_column_imputed)\n",
    "\n",
    "# Extract the cabin letter\n",
    "train_data['CabinLetter'] = cabin_column_imputed_series.astype(str).str[0]\n",
    "\n",
    "# age related median transform\n",
    "age_column = train_data[['Age']]\n",
    "imputer = SimpleImputer(strategy='median')\n",
    "train_data[['Age']]=imputer.fit_transform(age_column)\n",
    "\n",
    "fare_column = train_data[['Fare']]\n",
    "train_data[['Fare']]=imputer.fit_transform(fare_column)\n",
    "\n",
    "# Define your age bins and labels\n",
    "age_bins = [0, 18, 35, 50, 100]  # You can adjust these bins as needed\n",
    "age_labels = ['0-18', '19-35', '36-50', '51+']\n",
    "\n",
    "# Create a new categorical column 'AgeCategory' based on the bins and labels\n",
    "train_data['AgeCategory'] = pd.cut(train_data['Age'], bins=age_bins, labels=age_labels, include_lowest=True)\n",
    "\n",
    "# Drop the original 'Age' column if you no longer want to use it in the analysis\n",
    "train_data = train_data.drop('Age', axis=1)\n",
    "\n",
    "\n",
    "# Map the cabin letter to ordinal categories\n",
    "cabin_mapping = {'A': 1, 'B': 2, 'C': 3, 'D': 4, 'E': 5, 'F': 6, 'G': 7, 'T': 8}  # Add more categories as needed\n",
    "embarked_mapping = {'S': 1, 'C': 2, 'Q': 3}\n",
    "gender_mapping = {'male': 1, 'female': 2}\n",
    "train_data['CabinOrdinal'] = train_data['CabinLetter'].map(cabin_mapping)\n",
    "train_data['SexOrdinal'] = train_data['Sex'].map(gender_mapping)\n",
    "train_data['Cabin']=train_data['CabinOrdinal']\n",
    "train_data['EmbarkedOrdinal'] = train_data['Embarked'].map(embarked_mapping)\n",
    "train_data['Embarked']=train_data['EmbarkedOrdinal']\n",
    "train_data['Sex']=train_data['SexOrdinal']\n",
    "# Display the result\n",
    "#print(train_data[['Cabin', 'CabinLetter', 'CabinOrdinal', 'EmbarkedOrdinal']])\n",
    "print(train_data.info())"
   ]
  },
  {
   "cell_type": "code",
   "execution_count": 10,
   "id": "9c278dea",
   "metadata": {
    "execution": {
     "iopub.execute_input": "2024-03-18T22:12:19.368428Z",
     "iopub.status.busy": "2024-03-18T22:12:19.367956Z",
     "iopub.status.idle": "2024-03-18T22:12:19.385458Z",
     "shell.execute_reply": "2024-03-18T22:12:19.384289Z"
    },
    "papermill": {
     "duration": 0.029323,
     "end_time": "2024-03-18T22:12:19.387905",
     "exception": false,
     "start_time": "2024-03-18T22:12:19.358582",
     "status": "completed"
    },
    "tags": []
   },
   "outputs": [],
   "source": [
    "from sklearn.preprocessing import StandardScaler\n",
    "train_data=train_data.drop(columns=['EmbarkedOrdinal'])\n",
    "train_data=train_data.drop(columns=['SexOrdinal'])\n",
    "train_data=train_data.drop(columns=['Ticket'])\n",
    "train_data=train_data.drop(columns=['Name'])\n",
    "train_data=train_data.drop(columns=['CabinOrdinal'])\n",
    "train_data=train_data.drop(columns=['CabinLetter'])\n",
    "\n",
    "\n",
    "\n",
    "columns_to_scale = ['Pclass', 'SibSp', 'Parch', 'Fare', 'Cabin', 'Embarked']\n",
    "\n",
    "# Initialize the StandardScaler\n",
    "scaler = StandardScaler()\n",
    "\n",
    "# Scale the selected columns\n",
    "train_data[columns_to_scale] = scaler.fit_transform(train_data[columns_to_scale])\n",
    "\n",
    "\n",
    "\n"
   ]
  },
  {
   "cell_type": "code",
   "execution_count": 11,
   "id": "4b10ff34",
   "metadata": {
    "execution": {
     "iopub.execute_input": "2024-03-18T22:12:19.405173Z",
     "iopub.status.busy": "2024-03-18T22:12:19.404745Z",
     "iopub.status.idle": "2024-03-18T22:12:19.426920Z",
     "shell.execute_reply": "2024-03-18T22:12:19.426011Z"
    },
    "papermill": {
     "duration": 0.033449,
     "end_time": "2024-03-18T22:12:19.428954",
     "exception": false,
     "start_time": "2024-03-18T22:12:19.395505",
     "status": "completed"
    },
    "tags": []
   },
   "outputs": [
    {
     "data": {
      "text/html": [
       "<div>\n",
       "<style scoped>\n",
       "    .dataframe tbody tr th:only-of-type {\n",
       "        vertical-align: middle;\n",
       "    }\n",
       "\n",
       "    .dataframe tbody tr th {\n",
       "        vertical-align: top;\n",
       "    }\n",
       "\n",
       "    .dataframe thead th {\n",
       "        text-align: right;\n",
       "    }\n",
       "</style>\n",
       "<table border=\"1\" class=\"dataframe\">\n",
       "  <thead>\n",
       "    <tr style=\"text-align: right;\">\n",
       "      <th></th>\n",
       "      <th>PassengerId</th>\n",
       "      <th>Pclass</th>\n",
       "      <th>Name</th>\n",
       "      <th>Sex</th>\n",
       "      <th>Age</th>\n",
       "      <th>SibSp</th>\n",
       "      <th>Parch</th>\n",
       "      <th>Ticket</th>\n",
       "      <th>Fare</th>\n",
       "      <th>Cabin</th>\n",
       "      <th>Embarked</th>\n",
       "    </tr>\n",
       "  </thead>\n",
       "  <tbody>\n",
       "    <tr>\n",
       "      <th>0</th>\n",
       "      <td>892</td>\n",
       "      <td>3</td>\n",
       "      <td>Kelly, Mr. James</td>\n",
       "      <td>male</td>\n",
       "      <td>34.5</td>\n",
       "      <td>0</td>\n",
       "      <td>0</td>\n",
       "      <td>330911</td>\n",
       "      <td>7.8292</td>\n",
       "      <td>NaN</td>\n",
       "      <td>Q</td>\n",
       "    </tr>\n",
       "    <tr>\n",
       "      <th>1</th>\n",
       "      <td>893</td>\n",
       "      <td>3</td>\n",
       "      <td>Wilkes, Mrs. James (Ellen Needs)</td>\n",
       "      <td>female</td>\n",
       "      <td>47.0</td>\n",
       "      <td>1</td>\n",
       "      <td>0</td>\n",
       "      <td>363272</td>\n",
       "      <td>7.0000</td>\n",
       "      <td>NaN</td>\n",
       "      <td>S</td>\n",
       "    </tr>\n",
       "    <tr>\n",
       "      <th>2</th>\n",
       "      <td>894</td>\n",
       "      <td>2</td>\n",
       "      <td>Myles, Mr. Thomas Francis</td>\n",
       "      <td>male</td>\n",
       "      <td>62.0</td>\n",
       "      <td>0</td>\n",
       "      <td>0</td>\n",
       "      <td>240276</td>\n",
       "      <td>9.6875</td>\n",
       "      <td>NaN</td>\n",
       "      <td>Q</td>\n",
       "    </tr>\n",
       "    <tr>\n",
       "      <th>3</th>\n",
       "      <td>895</td>\n",
       "      <td>3</td>\n",
       "      <td>Wirz, Mr. Albert</td>\n",
       "      <td>male</td>\n",
       "      <td>27.0</td>\n",
       "      <td>0</td>\n",
       "      <td>0</td>\n",
       "      <td>315154</td>\n",
       "      <td>8.6625</td>\n",
       "      <td>NaN</td>\n",
       "      <td>S</td>\n",
       "    </tr>\n",
       "    <tr>\n",
       "      <th>4</th>\n",
       "      <td>896</td>\n",
       "      <td>3</td>\n",
       "      <td>Hirvonen, Mrs. Alexander (Helga E Lindqvist)</td>\n",
       "      <td>female</td>\n",
       "      <td>22.0</td>\n",
       "      <td>1</td>\n",
       "      <td>1</td>\n",
       "      <td>3101298</td>\n",
       "      <td>12.2875</td>\n",
       "      <td>NaN</td>\n",
       "      <td>S</td>\n",
       "    </tr>\n",
       "  </tbody>\n",
       "</table>\n",
       "</div>"
      ],
      "text/plain": [
       "   PassengerId  Pclass                                          Name     Sex  \\\n",
       "0          892       3                              Kelly, Mr. James    male   \n",
       "1          893       3              Wilkes, Mrs. James (Ellen Needs)  female   \n",
       "2          894       2                     Myles, Mr. Thomas Francis    male   \n",
       "3          895       3                              Wirz, Mr. Albert    male   \n",
       "4          896       3  Hirvonen, Mrs. Alexander (Helga E Lindqvist)  female   \n",
       "\n",
       "    Age  SibSp  Parch   Ticket     Fare Cabin Embarked  \n",
       "0  34.5      0      0   330911   7.8292   NaN        Q  \n",
       "1  47.0      1      0   363272   7.0000   NaN        S  \n",
       "2  62.0      0      0   240276   9.6875   NaN        Q  \n",
       "3  27.0      0      0   315154   8.6625   NaN        S  \n",
       "4  22.0      1      1  3101298  12.2875   NaN        S  "
      ]
     },
     "execution_count": 11,
     "metadata": {},
     "output_type": "execute_result"
    }
   ],
   "source": [
    "test_data = pd.read_csv(\"/kaggle/input/titanic/test.csv\")\n",
    "test_data.head()"
   ]
  },
  {
   "cell_type": "code",
   "execution_count": 12,
   "id": "e8158c95",
   "metadata": {
    "execution": {
     "iopub.execute_input": "2024-03-18T22:12:19.446976Z",
     "iopub.status.busy": "2024-03-18T22:12:19.446303Z",
     "iopub.status.idle": "2024-03-18T22:12:19.462204Z",
     "shell.execute_reply": "2024-03-18T22:12:19.461054Z"
    },
    "papermill": {
     "duration": 0.027338,
     "end_time": "2024-03-18T22:12:19.464364",
     "exception": false,
     "start_time": "2024-03-18T22:12:19.437026",
     "status": "completed"
    },
    "tags": []
   },
   "outputs": [
    {
     "data": {
      "text/html": [
       "<div>\n",
       "<style scoped>\n",
       "    .dataframe tbody tr th:only-of-type {\n",
       "        vertical-align: middle;\n",
       "    }\n",
       "\n",
       "    .dataframe tbody tr th {\n",
       "        vertical-align: top;\n",
       "    }\n",
       "\n",
       "    .dataframe thead th {\n",
       "        text-align: right;\n",
       "    }\n",
       "</style>\n",
       "<table border=\"1\" class=\"dataframe\">\n",
       "  <thead>\n",
       "    <tr style=\"text-align: right;\">\n",
       "      <th></th>\n",
       "      <th>PassengerId</th>\n",
       "      <th>Survived</th>\n",
       "      <th>Pclass</th>\n",
       "      <th>Sex</th>\n",
       "      <th>SibSp</th>\n",
       "      <th>Parch</th>\n",
       "      <th>Fare</th>\n",
       "      <th>Cabin</th>\n",
       "      <th>Embarked</th>\n",
       "      <th>AgeCategory</th>\n",
       "    </tr>\n",
       "  </thead>\n",
       "  <tbody>\n",
       "    <tr>\n",
       "      <th>0</th>\n",
       "      <td>1</td>\n",
       "      <td>0</td>\n",
       "      <td>0.827377</td>\n",
       "      <td>1</td>\n",
       "      <td>0.432793</td>\n",
       "      <td>-0.473674</td>\n",
       "      <td>-0.502445</td>\n",
       "      <td>-0.348001</td>\n",
       "      <td>-0.568837</td>\n",
       "      <td>19-35</td>\n",
       "    </tr>\n",
       "    <tr>\n",
       "      <th>1</th>\n",
       "      <td>2</td>\n",
       "      <td>1</td>\n",
       "      <td>-1.566107</td>\n",
       "      <td>2</td>\n",
       "      <td>0.432793</td>\n",
       "      <td>-0.473674</td>\n",
       "      <td>0.786845</td>\n",
       "      <td>0.743791</td>\n",
       "      <td>1.005181</td>\n",
       "      <td>36-50</td>\n",
       "    </tr>\n",
       "    <tr>\n",
       "      <th>2</th>\n",
       "      <td>3</td>\n",
       "      <td>1</td>\n",
       "      <td>0.827377</td>\n",
       "      <td>2</td>\n",
       "      <td>-0.474545</td>\n",
       "      <td>-0.473674</td>\n",
       "      <td>-0.488854</td>\n",
       "      <td>-0.348001</td>\n",
       "      <td>-0.568837</td>\n",
       "      <td>19-35</td>\n",
       "    </tr>\n",
       "    <tr>\n",
       "      <th>3</th>\n",
       "      <td>4</td>\n",
       "      <td>1</td>\n",
       "      <td>-1.566107</td>\n",
       "      <td>2</td>\n",
       "      <td>0.432793</td>\n",
       "      <td>-0.473674</td>\n",
       "      <td>0.420730</td>\n",
       "      <td>0.743791</td>\n",
       "      <td>-0.568837</td>\n",
       "      <td>19-35</td>\n",
       "    </tr>\n",
       "    <tr>\n",
       "      <th>4</th>\n",
       "      <td>5</td>\n",
       "      <td>0</td>\n",
       "      <td>0.827377</td>\n",
       "      <td>1</td>\n",
       "      <td>-0.474545</td>\n",
       "      <td>-0.473674</td>\n",
       "      <td>-0.486337</td>\n",
       "      <td>-0.348001</td>\n",
       "      <td>-0.568837</td>\n",
       "      <td>19-35</td>\n",
       "    </tr>\n",
       "  </tbody>\n",
       "</table>\n",
       "</div>"
      ],
      "text/plain": [
       "   PassengerId  Survived    Pclass  Sex     SibSp     Parch      Fare  \\\n",
       "0            1         0  0.827377    1  0.432793 -0.473674 -0.502445   \n",
       "1            2         1 -1.566107    2  0.432793 -0.473674  0.786845   \n",
       "2            3         1  0.827377    2 -0.474545 -0.473674 -0.488854   \n",
       "3            4         1 -1.566107    2  0.432793 -0.473674  0.420730   \n",
       "4            5         0  0.827377    1 -0.474545 -0.473674 -0.486337   \n",
       "\n",
       "      Cabin  Embarked AgeCategory  \n",
       "0 -0.348001 -0.568837       19-35  \n",
       "1  0.743791  1.005181       36-50  \n",
       "2 -0.348001 -0.568837       19-35  \n",
       "3  0.743791 -0.568837       19-35  \n",
       "4 -0.348001 -0.568837       19-35  "
      ]
     },
     "execution_count": 12,
     "metadata": {},
     "output_type": "execute_result"
    }
   ],
   "source": [
    "train_data.head()"
   ]
  },
  {
   "cell_type": "markdown",
   "id": "4816ac29",
   "metadata": {
    "execution": {
     "iopub.execute_input": "2024-03-09T05:51:04.082211Z",
     "iopub.status.busy": "2024-03-09T05:51:04.081792Z",
     "iopub.status.idle": "2024-03-09T05:51:06.641851Z",
     "shell.execute_reply": "2024-03-09T05:51:06.639686Z",
     "shell.execute_reply.started": "2024-03-09T05:51:04.082174Z"
    },
    "papermill": {
     "duration": 0.007758,
     "end_time": "2024-03-18T22:12:19.480285",
     "exception": false,
     "start_time": "2024-03-18T22:12:19.472527",
     "status": "completed"
    },
    "tags": []
   },
   "source": [
    "import matplotlib.pyplot as plt\n",
    "import seaborn as sns\n",
    "sns.set()\n",
    "sns.heatmap(train_data.corr(), cmap='coolwarm',annot=True)\n",
    "plt.show()"
   ]
  },
  {
   "cell_type": "markdown",
   "id": "f622c1e1",
   "metadata": {
    "execution": {
     "iopub.execute_input": "2024-03-09T05:54:49.358365Z",
     "iopub.status.busy": "2024-03-09T05:54:49.356097Z",
     "iopub.status.idle": "2024-03-09T05:54:51.885614Z",
     "shell.execute_reply": "2024-03-09T05:54:51.883995Z",
     "shell.execute_reply.started": "2024-03-09T05:54:49.358321Z"
    },
    "papermill": {
     "duration": 0.007569,
     "end_time": "2024-03-18T22:12:19.495831",
     "exception": false,
     "start_time": "2024-03-18T22:12:19.488262",
     "status": "completed"
    },
    "tags": []
   },
   "source": [
    "import matplotlib.pyplot as plt\n",
    "import seaborn as sns\n",
    "sns.set()\n",
    "sns.heatmap(train_data.corr(), cmap='coolwarm',annot=True)\n",
    "plt.show()"
   ]
  },
  {
   "cell_type": "markdown",
   "id": "ebc363be",
   "metadata": {
    "execution": {
     "iopub.execute_input": "2024-03-09T05:58:03.161271Z",
     "iopub.status.busy": "2024-03-09T05:58:03.160722Z",
     "iopub.status.idle": "2024-03-09T05:58:20.847964Z",
     "shell.execute_reply": "2024-03-09T05:58:20.846805Z",
     "shell.execute_reply.started": "2024-03-09T05:58:03.161139Z"
    },
    "papermill": {
     "duration": 0.00782,
     "end_time": "2024-03-18T22:12:19.511641",
     "exception": false,
     "start_time": "2024-03-18T22:12:19.503821",
     "status": "completed"
    },
    "tags": []
   },
   "source": [
    "sns.set_style('whitegrid')\n",
    "sns.pairplot(train_data)\n",
    "plt.show()"
   ]
  },
  {
   "cell_type": "code",
   "execution_count": 13,
   "id": "40782765",
   "metadata": {
    "execution": {
     "iopub.execute_input": "2024-03-18T22:12:19.529970Z",
     "iopub.status.busy": "2024-03-18T22:12:19.528941Z",
     "iopub.status.idle": "2024-03-18T22:12:19.570932Z",
     "shell.execute_reply": "2024-03-18T22:12:19.570008Z"
    },
    "papermill": {
     "duration": 0.054307,
     "end_time": "2024-03-18T22:12:19.573981",
     "exception": false,
     "start_time": "2024-03-18T22:12:19.519674",
     "status": "completed"
    },
    "tags": []
   },
   "outputs": [
    {
     "name": "stdout",
     "output_type": "stream",
     "text": [
      "<class 'pandas.core.frame.DataFrame'>\n",
      "RangeIndex: 418 entries, 0 to 417\n",
      "Data columns (total 15 columns):\n",
      " #   Column           Non-Null Count  Dtype   \n",
      "---  ------           --------------  -----   \n",
      " 0   PassengerId      418 non-null    int64   \n",
      " 1   Pclass           418 non-null    int64   \n",
      " 2   Name             418 non-null    object  \n",
      " 3   Sex              418 non-null    int64   \n",
      " 4   SibSp            418 non-null    int64   \n",
      " 5   Parch            418 non-null    int64   \n",
      " 6   Ticket           418 non-null    object  \n",
      " 7   Fare             418 non-null    float64 \n",
      " 8   Cabin            418 non-null    int64   \n",
      " 9   Embarked         418 non-null    int64   \n",
      " 10  CabinLetter      418 non-null    object  \n",
      " 11  AgeCategory      418 non-null    category\n",
      " 12  CabinOrdinal     418 non-null    int64   \n",
      " 13  SexOrdinal       418 non-null    int64   \n",
      " 14  EmbarkedOrdinal  418 non-null    int64   \n",
      "dtypes: category(1), float64(1), int64(10), object(3)\n",
      "memory usage: 46.5+ KB\n",
      "None\n"
     ]
    }
   ],
   "source": [
    "import pandas as pd\n",
    "import numpy as np\n",
    "from sklearn.impute import SimpleImputer\n",
    "\n",
    "# Extract the 'Cabin' column\n",
    "cabin_column = test_data[['Cabin']]\n",
    "embarked_column = test_data[['Embarked']]\n",
    "\n",
    "# Use SimpleImputer to fill in NaN values in the 'Cabin' column\n",
    "imputer = SimpleImputer(strategy='most_frequent')\n",
    "cabin_column_imputed = imputer.fit_transform(cabin_column)\n",
    "embarked_column_imputed = imputer.fit_transform(embarked_column)\n",
    "\n",
    "# Flatten the 2D array to a 1D array using ravel()\n",
    "cabin_column_imputed = cabin_column_imputed.ravel()\n",
    "test_data['Embarked']=embarked_column_imputed.ravel()\n",
    "# Convert the NumPy array to a pandas Series\n",
    "cabin_column_imputed_series = pd.Series(cabin_column_imputed)\n",
    "\n",
    "# Extract the cabin letter\n",
    "test_data['CabinLetter'] = cabin_column_imputed_series.astype(str).str[0]\n",
    "\n",
    "# age related median transform\n",
    "age_column = test_data[['Age']]\n",
    "fare_column = test_data[['Fare']]\n",
    "imputer = SimpleImputer(strategy='median')\n",
    "test_data[['Age']]=imputer.fit_transform(age_column)\n",
    "test_data[['Fare']]=imputer.fit_transform(fare_column)\n",
    "\n",
    "\n",
    "\n",
    "# Define your age bins and labels\n",
    "age_bins = [0, 18, 35, 50, 100]  # You can adjust these bins as needed\n",
    "age_labels = ['0-18', '19-35', '36-50', '51+']\n",
    "\n",
    "# Create a new categorical column 'AgeCategory' based on the bins and labels\n",
    "test_data['AgeCategory'] = pd.cut(test_data['Age'], bins=age_bins, labels=age_labels, include_lowest=True)\n",
    "\n",
    "# Drop the original 'Age' column if you no longer want to use it in the analysis\n",
    "test_data = test_data.drop('Age', axis=1)\n",
    "\n",
    "\n",
    "# Map the cabin letter to ordinal categories\n",
    "cabin_mapping = {'A': 1, 'B': 2, 'C': 3, 'D': 4, 'E': 5, 'F': 6, 'G': 7, 'T': 8}  # Add more categories as needed\n",
    "embarked_mapping = {'S': 1, 'C': 2, 'Q': 3}\n",
    "gender_mapping = {'male': 1, 'female': 2}\n",
    "test_data['CabinOrdinal'] = test_data['CabinLetter'].map(cabin_mapping)\n",
    "test_data['SexOrdinal'] = test_data['Sex'].map(gender_mapping)\n",
    "test_data['Cabin']=test_data['CabinOrdinal']\n",
    "test_data['EmbarkedOrdinal'] = test_data['Embarked'].map(embarked_mapping)\n",
    "test_data['Embarked']=test_data['EmbarkedOrdinal']\n",
    "test_data['Sex']=test_data['SexOrdinal']\n",
    "# Display the result\n",
    "print(test_data.info())"
   ]
  },
  {
   "cell_type": "code",
   "execution_count": 14,
   "id": "505d032c",
   "metadata": {
    "execution": {
     "iopub.execute_input": "2024-03-18T22:12:19.592664Z",
     "iopub.status.busy": "2024-03-18T22:12:19.592219Z",
     "iopub.status.idle": "2024-03-18T22:12:19.608802Z",
     "shell.execute_reply": "2024-03-18T22:12:19.607959Z"
    },
    "papermill": {
     "duration": 0.029035,
     "end_time": "2024-03-18T22:12:19.611387",
     "exception": false,
     "start_time": "2024-03-18T22:12:19.582352",
     "status": "completed"
    },
    "tags": []
   },
   "outputs": [],
   "source": [
    "test_data=test_data.drop(columns=['EmbarkedOrdinal'])\n",
    "test_data=test_data.drop(columns=['SexOrdinal'])\n",
    "test_data=test_data.drop(columns=['Ticket'])\n",
    "test_data=test_data.drop(columns=['Name'])\n",
    "test_data=test_data.drop(columns=['CabinOrdinal'])\n",
    "test_data=test_data.drop(columns=['CabinLetter'])\n",
    "columns_to_scale = ['Pclass', 'SibSp', 'Parch', 'Fare', 'Cabin', 'Embarked']\n",
    "\n",
    "# Initialize the StandardScaler\n",
    "scaler = StandardScaler()\n",
    "\n",
    "# Scale the selected columns\n",
    "test_data[columns_to_scale] = scaler.fit_transform(test_data[columns_to_scale])\n"
   ]
  },
  {
   "cell_type": "code",
   "execution_count": 15,
   "id": "85f26d3c",
   "metadata": {
    "execution": {
     "iopub.execute_input": "2024-03-18T22:12:19.630523Z",
     "iopub.status.busy": "2024-03-18T22:12:19.630056Z",
     "iopub.status.idle": "2024-03-18T22:12:19.642468Z",
     "shell.execute_reply": "2024-03-18T22:12:19.641291Z"
    },
    "papermill": {
     "duration": 0.024958,
     "end_time": "2024-03-18T22:12:19.644742",
     "exception": false,
     "start_time": "2024-03-18T22:12:19.619784",
     "status": "completed"
    },
    "tags": []
   },
   "outputs": [
    {
     "name": "stdout",
     "output_type": "stream",
     "text": [
      "<class 'pandas.core.frame.DataFrame'>\n",
      "RangeIndex: 891 entries, 0 to 890\n",
      "Data columns (total 10 columns):\n",
      " #   Column       Non-Null Count  Dtype   \n",
      "---  ------       --------------  -----   \n",
      " 0   PassengerId  891 non-null    int64   \n",
      " 1   Survived     891 non-null    int64   \n",
      " 2   Pclass       891 non-null    float64 \n",
      " 3   Sex          891 non-null    int64   \n",
      " 4   SibSp        891 non-null    float64 \n",
      " 5   Parch        891 non-null    float64 \n",
      " 6   Fare         891 non-null    float64 \n",
      " 7   Cabin        891 non-null    float64 \n",
      " 8   Embarked     891 non-null    float64 \n",
      " 9   AgeCategory  891 non-null    category\n",
      "dtypes: category(1), float64(6), int64(3)\n",
      "memory usage: 63.8 KB\n"
     ]
    }
   ],
   "source": [
    "train_data.info()"
   ]
  },
  {
   "cell_type": "code",
   "execution_count": 16,
   "id": "96aa9597",
   "metadata": {
    "execution": {
     "iopub.execute_input": "2024-03-18T22:12:19.663177Z",
     "iopub.status.busy": "2024-03-18T22:12:19.662743Z",
     "iopub.status.idle": "2024-03-18T22:12:19.672044Z",
     "shell.execute_reply": "2024-03-18T22:12:19.670822Z"
    },
    "papermill": {
     "duration": 0.021225,
     "end_time": "2024-03-18T22:12:19.674068",
     "exception": false,
     "start_time": "2024-03-18T22:12:19.652843",
     "status": "completed"
    },
    "tags": []
   },
   "outputs": [
    {
     "name": "stdout",
     "output_type": "stream",
     "text": [
      "Columns with NaN values: Index([], dtype='object')\n"
     ]
    }
   ],
   "source": [
    "columns_with_nan = train_data.columns[train_data.isnull().any()]\n",
    "\n",
    "# Display columns with NaN values\n",
    "print(\"Columns with NaN values:\", columns_with_nan)"
   ]
  },
  {
   "cell_type": "markdown",
   "id": "99c4833a",
   "metadata": {
    "execution": {
     "iopub.execute_input": "2024-03-07T04:12:57.464738Z",
     "iopub.status.busy": "2024-03-07T04:12:57.464297Z",
     "iopub.status.idle": "2024-03-07T04:12:57.504898Z",
     "shell.execute_reply": "2024-03-07T04:12:57.503091Z",
     "shell.execute_reply.started": "2024-03-07T04:12:57.464696Z"
    },
    "papermill": {
     "duration": 0.008019,
     "end_time": "2024-03-18T22:12:19.690528",
     "exception": false,
     "start_time": "2024-03-18T22:12:19.682509",
     "status": "completed"
    },
    "tags": []
   },
   "source": []
  },
  {
   "cell_type": "markdown",
   "id": "a865c147",
   "metadata": {
    "execution": {
     "iopub.execute_input": "2024-03-09T05:55:41.586684Z",
     "iopub.status.busy": "2024-03-09T05:55:41.586276Z",
     "iopub.status.idle": "2024-03-09T05:55:41.622996Z",
     "shell.execute_reply": "2024-03-09T05:55:41.621609Z",
     "shell.execute_reply.started": "2024-03-09T05:55:41.586650Z"
    },
    "papermill": {
     "duration": 0.007917,
     "end_time": "2024-03-18T22:12:19.706515",
     "exception": false,
     "start_time": "2024-03-18T22:12:19.698598",
     "status": "completed"
    },
    "tags": []
   },
   "source": [
    "women = train_data.loc[train_data.Sex == 2][\"Survived\"]\n",
    "rate_women = sum(women)/len(women)\n",
    "\n",
    "print(\"% of women who survived:\", rate_women)"
   ]
  },
  {
   "cell_type": "markdown",
   "id": "e4ca5a07",
   "metadata": {
    "papermill": {
     "duration": 0.007748,
     "end_time": "2024-03-18T22:12:19.722313",
     "exception": false,
     "start_time": "2024-03-18T22:12:19.714565",
     "status": "completed"
    },
    "tags": []
   },
   "source": [
    "men = train_data.loc[train_data.Sex == 1][\"Survived\"]\n",
    "rate_men = sum(men)/len(men)\n",
    "\n",
    "print(\"% of men who survived:\", rate_men)"
   ]
  },
  {
   "cell_type": "code",
   "execution_count": null,
   "id": "9d8d33d5",
   "metadata": {
    "papermill": {
     "duration": 0.007934,
     "end_time": "2024-03-18T22:12:19.738595",
     "exception": false,
     "start_time": "2024-03-18T22:12:19.730661",
     "status": "completed"
    },
    "tags": []
   },
   "outputs": [],
   "source": []
  },
  {
   "cell_type": "code",
   "execution_count": 17,
   "id": "088c9f1c",
   "metadata": {
    "execution": {
     "iopub.execute_input": "2024-03-18T22:12:19.757545Z",
     "iopub.status.busy": "2024-03-18T22:12:19.756217Z",
     "iopub.status.idle": "2024-03-18T22:12:38.559247Z",
     "shell.execute_reply": "2024-03-18T22:12:38.558093Z"
    },
    "papermill": {
     "duration": 18.815235,
     "end_time": "2024-03-18T22:12:38.561950",
     "exception": false,
     "start_time": "2024-03-18T22:12:19.746715",
     "status": "completed"
    },
    "tags": []
   },
   "outputs": [
    {
     "name": "stderr",
     "output_type": "stream",
     "text": [
      "2024-03-18 22:12:22.254576: E external/local_xla/xla/stream_executor/cuda/cuda_dnn.cc:9261] Unable to register cuDNN factory: Attempting to register factory for plugin cuDNN when one has already been registered\n",
      "2024-03-18 22:12:22.254705: E external/local_xla/xla/stream_executor/cuda/cuda_fft.cc:607] Unable to register cuFFT factory: Attempting to register factory for plugin cuFFT when one has already been registered\n",
      "2024-03-18 22:12:22.410791: E external/local_xla/xla/stream_executor/cuda/cuda_blas.cc:1515] Unable to register cuBLAS factory: Attempting to register factory for plugin cuBLAS when one has already been registered\n"
     ]
    },
    {
     "name": "stdout",
     "output_type": "stream",
     "text": [
      "Fitting 5 folds for each of 2 candidates, totalling 10 fits\n",
      "[CV] END criterion=entropy, max_depth=3, max_features=sqrt, n_estimators=6; total time=   0.0s\n",
      "[CV] END criterion=entropy, max_depth=3, max_features=sqrt, n_estimators=6; total time=   0.0s\n",
      "[CV] END criterion=entropy, max_depth=3, max_features=sqrt, n_estimators=6; total time=   0.0s\n",
      "[CV] END criterion=entropy, max_depth=3, max_features=sqrt, n_estimators=6; total time=   0.0s\n",
      "[CV] END criterion=entropy, max_depth=3, max_features=sqrt, n_estimators=6; total time=   0.0s\n",
      "[CV] END criterion=gini, max_depth=3, max_features=sqrt, n_estimators=6; total time=   0.0s\n",
      "[CV] END criterion=gini, max_depth=3, max_features=sqrt, n_estimators=6; total time=   0.0s\n",
      "[CV] END criterion=gini, max_depth=3, max_features=sqrt, n_estimators=6; total time=   0.0s\n",
      "[CV] END criterion=gini, max_depth=3, max_features=sqrt, n_estimators=6; total time=   0.0s\n",
      "[CV] END criterion=gini, max_depth=3, max_features=sqrt, n_estimators=6; total time=   0.0s\n"
     ]
    },
    {
     "name": "stderr",
     "output_type": "stream",
     "text": [
      "/opt/conda/lib/python3.10/site-packages/keras/src/layers/core/dense.py:85: UserWarning: Do not pass an `input_shape`/`input_dim` argument to a layer. When using Sequential models, prefer using an `Input(shape)` object as the first layer in the model instead.\n",
      "  super().__init__(activity_regularizer=activity_regularizer, **kwargs)\n"
     ]
    },
    {
     "name": "stdout",
     "output_type": "stream",
     "text": [
      "\u001b[1m14/14\u001b[0m \u001b[32m━━━━━━━━━━━━━━━━━━━━\u001b[0m\u001b[37m\u001b[0m \u001b[1m0s\u001b[0m 3ms/step \n",
      "(891, 4)\n"
     ]
    }
   ],
   "source": [
    "from sklearn.ensemble import RandomForestClassifier\n",
    "from sklearn.neighbors import KNeighborsClassifier\n",
    "from sklearn.model_selection import GridSearchCV\n",
    "import numpy as np\n",
    "import tensorflow as tf\n",
    "from tensorflow.keras.models import Sequential\n",
    "from tensorflow.keras.layers import Dense\n",
    "\n",
    "# Define the features and target variable\n",
    "features = [\"Pclass\", \"Sex\", \"SibSp\", \"Parch\"]\n",
    "X_train = pd.get_dummies(train_data[features])\n",
    "y_train = train_data[\"Survived\"]\n",
    "X_test = pd.get_dummies(test_data[features])\n",
    "\n",
    "# RandomForestClassifier with optimum parameters\n",
    "rf_param_grid = {'n_estimators':[6], 'criterion':['entropy','gini'], 'max_features':['sqrt'], 'max_depth':[3]}\n",
    "\n",
    "#rf_model = RandomForestClassifier(random_state=1)\n",
    "rf_model = RandomForestClassifier(n_estimators=100, max_depth=5, random_state=1)\n",
    "#rf_grid_search = GridSearchCV(rf_model, rf_param_grid, cv=5, scoring='accuracy')\n",
    "rf_grid_search = GridSearchCV(estimator=RandomForestClassifier(random_state=1),param_grid= rf_param_grid, refit = True, verbose=2, cv=5 )\n",
    "rf_grid_search.fit(X_train, y_train)\n",
    "rf_best_model = rf_grid_search.best_estimator_\n",
    "rf_predictions = rf_best_model.predict(X_test)\n",
    "\n",
    "# Define the parameter grid for k\n",
    "k_param_grid = {'n_neighbors': range(1, 21)}\n",
    "\n",
    "# Perform grid search to find the best k value\n",
    "knn_model = KNeighborsClassifier()\n",
    "knn_grid_search = GridSearchCV(knn_model, k_param_grid, cv=5, scoring='accuracy')\n",
    "knn_grid_search.fit(X_train, y_train)\n",
    "knn_best_model = knn_grid_search.best_estimator_\n",
    "knn_predictions = knn_best_model.predict(X_test)\n",
    "\n",
    "# Deep Neural Network\n",
    "model = Sequential([\n",
    "    Dense(5, activation='relu', input_shape=(X_train.shape[1],)),\n",
    "    Dense(1, activation='sigmoid')\n",
    "])\n",
    "model.compile(optimizer='adam', loss='binary_crossentropy', metrics=['accuracy'])\n",
    "model.fit(X_train, y_train, epochs=10, batch_size=32, verbose=0)\n",
    "nn_predictions = np.round(model.predict(X_test)).astype(int)\n",
    "\n",
    "# Compute average predictions\n",
    "average_predictions = np.round((rf_predictions + knn_predictions + nn_predictions.flatten()) / 3).astype(int)\n",
    "\n",
    "# Create a DataFrame with the average predictions\n",
    "output = pd.DataFrame({'PassengerId': test_data.PassengerId, 'Survived': average_predictions})\n",
    "\n",
    "# Print the shape of X_train\n",
    "print(X_train.shape)\n",
    "\n",
    "\n"
   ]
  },
  {
   "cell_type": "code",
   "execution_count": 18,
   "id": "04aeb639",
   "metadata": {
    "execution": {
     "iopub.execute_input": "2024-03-18T22:12:38.582711Z",
     "iopub.status.busy": "2024-03-18T22:12:38.581420Z",
     "iopub.status.idle": "2024-03-18T22:12:38.592130Z",
     "shell.execute_reply": "2024-03-18T22:12:38.590887Z"
    },
    "papermill": {
     "duration": 0.023602,
     "end_time": "2024-03-18T22:12:38.594697",
     "exception": false,
     "start_time": "2024-03-18T22:12:38.571095",
     "status": "completed"
    },
    "tags": []
   },
   "outputs": [
    {
     "name": "stdout",
     "output_type": "stream",
     "text": [
      "Your submission was successfully saved!\n"
     ]
    }
   ],
   "source": [
    "output.to_csv('submission.csv', index=False)\n",
    "print(\"Your submission was successfully saved!\")"
   ]
  },
  {
   "cell_type": "code",
   "execution_count": 19,
   "id": "1453bead",
   "metadata": {
    "execution": {
     "iopub.execute_input": "2024-03-18T22:12:38.614481Z",
     "iopub.status.busy": "2024-03-18T22:12:38.614023Z",
     "iopub.status.idle": "2024-03-18T22:12:38.623496Z",
     "shell.execute_reply": "2024-03-18T22:12:38.621821Z"
    },
    "papermill": {
     "duration": 0.022432,
     "end_time": "2024-03-18T22:12:38.626147",
     "exception": false,
     "start_time": "2024-03-18T22:12:38.603715",
     "status": "completed"
    },
    "tags": []
   },
   "outputs": [
    {
     "name": "stdout",
     "output_type": "stream",
     "text": [
      "Differences between the two CSV files:\n"
     ]
    }
   ],
   "source": [
    "import pandas as pd\n",
    "\n",
    "# Load the CSV files into Pandas DataFrames\n",
    "df1 = pd.read_csv('submission.csv')\n",
    "#df2 = pd.read_csv('submission1.csv')\n",
    "\n",
    "# Compare the two DataFrames and find the differences\n",
    "#differences = df1.compare(df2)\n",
    "\n",
    "# Print the differences\n",
    "print(\"Differences between the two CSV files:\")\n",
    "#print(differences)"
   ]
  }
 ],
 "metadata": {
  "kaggle": {
   "accelerator": "none",
   "dataSources": [
    {
     "databundleVersionId": 26502,
     "sourceId": 3136,
     "sourceType": "competition"
    }
   ],
   "dockerImageVersionId": 30664,
   "isGpuEnabled": false,
   "isInternetEnabled": true,
   "language": "python",
   "sourceType": "notebook"
  },
  "kernelspec": {
   "display_name": "Python 3",
   "language": "python",
   "name": "python3"
  },
  "language_info": {
   "codemirror_mode": {
    "name": "ipython",
    "version": 3
   },
   "file_extension": ".py",
   "mimetype": "text/x-python",
   "name": "python",
   "nbconvert_exporter": "python",
   "pygments_lexer": "ipython3",
   "version": "3.10.13"
  },
  "papermill": {
   "default_parameters": {},
   "duration": 28.519699,
   "end_time": "2024-03-18T22:12:41.380584",
   "environment_variables": {},
   "exception": null,
   "input_path": "__notebook__.ipynb",
   "output_path": "__notebook__.ipynb",
   "parameters": {},
   "start_time": "2024-03-18T22:12:12.860885",
   "version": "2.5.0"
  }
 },
 "nbformat": 4,
 "nbformat_minor": 5
}
